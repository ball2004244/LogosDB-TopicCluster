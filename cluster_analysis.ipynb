{
 "cells": [
  {
   "cell_type": "code",
   "execution_count": 1,
   "id": "c4f18981-bca1-4184-99a2-d2aca30b6b5a",
   "metadata": {},
   "outputs": [
    {
     "name": "stdout",
     "output_type": "stream",
     "text": [
      "Requirement already satisfied: psycopg2-binary in /opt/conda/lib/python3.11/site-packages (2.9.9)\n"
     ]
    }
   ],
   "source": [
    "!pip install psycopg2-binary"
   ]
  },
  {
   "cell_type": "code",
   "execution_count": 2,
   "id": "a8f4e699-bea5-4425-8b1f-07f3a6b3b741",
   "metadata": {},
   "outputs": [
    {
     "data": {
      "text/plain": [
       "['Software',\n",
       " 'Grocery-and-Gourmet-Food',\n",
       " 'Baby',\n",
       " 'Electronics',\n",
       " 'Musical-Instruments',\n",
       " 'Cell-Phones-and-Accessories',\n",
       " 'Tools-and-Home-Improvement',\n",
       " 'Toys-and-Games',\n",
       " 'Patio-Lawn-and-Garden',\n",
       " 'Sports-and-Outdoors',\n",
       " 'Pet-Supplies',\n",
       " 'Health-and-Personal-Care',\n",
       " 'Arts-Crafts-and-Sewing',\n",
       " 'Beauty',\n",
       " 'Home-and-Kitchen',\n",
       " 'Clothing-Shoes-and-Jewelry',\n",
       " 'Appliances',\n",
       " 'Office-Products',\n",
       " 'Automotive',\n",
       " 'Video-Games',\n",
       " 'Industrial-and-Scientific']"
      ]
     },
     "execution_count": 2,
     "metadata": {},
     "output_type": "execute_result"
    }
   ],
   "source": [
    "topics = []\n",
    "with open(\"./inputs/topics.txt\", \"r\") as file:\n",
    "    topics = file.read().split()\n",
    "topics"
   ]
  },
  {
   "cell_type": "code",
   "execution_count": 3,
   "id": "28b42465-e721-4b56-a53a-4c0a3c6483ca",
   "metadata": {},
   "outputs": [],
   "source": [
    "from collections import defaultdict\n",
    "from psycopg2 import sql\n",
    "import psycopg2"
   ]
  },
  {
   "cell_type": "code",
   "execution_count": 4,
   "id": "bd4df74e-ca01-4bfd-a784-c1c3dd3e7520",
   "metadata": {},
   "outputs": [],
   "source": [
    "def get_column_names(conn, table):\n",
    "    \"\"\"\n",
    "    Fetches and prints the column names of a specified table.\n",
    "    \"\"\"\n",
    "    query = sql.SQL(\"\"\"\n",
    "        SELECT column_name \n",
    "        FROM information_schema.columns \n",
    "        WHERE table_name = %s\n",
    "        ORDER BY ordinal_position;\n",
    "    \"\"\")\n",
    "    cur = conn.cursor()\n",
    "    cur.execute(query, (table,))\n",
    "    columns = cur.fetchall()\n",
    "    cur.close()\n",
    "    return [col[0] for col in columns]"
   ]
  },
  {
   "cell_type": "code",
   "execution_count": 8,
   "id": "afbe9d91-a460-47b8-99e9-db9fb4178584",
   "metadata": {},
   "outputs": [
    {
     "name": "stdout",
     "output_type": "stream",
     "text": [
      "Table 'test' does not exist in database 'db' on node 'Toys-and-Games'\n",
      "Table 'test' does not exist in database 'db' on node 'Video-Games'\n"
     ]
    },
    {
     "data": {
      "text/plain": [
       "{'Electronics': 314263,\n",
       " 'Home-and-Kitchen': 184439,\n",
       " 'Sports-and-Outdoors': 146891,\n",
       " 'Automotive': 89923,\n",
       " 'Cell-Phones-and-Accessories': 85865,\n",
       " 'Health-and-Personal-Care': 80496,\n",
       " 'Tools-and-Home-Improvement': 68985,\n",
       " 'Patio-Lawn-and-Garden': 59595,\n",
       " 'Office-Products': 43608,\n",
       " 'Beauty': 42422,\n",
       " 'Pet-Supplies': 36607,\n",
       " 'Baby': 28933,\n",
       " 'Musical-Instruments': 23322,\n",
       " 'Clothing-Shoes-and-Jewelry': 22068,\n",
       " 'Arts-Crafts-and-Sewing': 21262,\n",
       " 'Grocery-and-Gourmet-Food': 19538,\n",
       " 'Industrial-and-Scientific': 12136,\n",
       " 'Software': 10636,\n",
       " 'Appliances': 9011,\n",
       " 'Toys-and-Games': 0,\n",
       " 'Video-Games': 0}"
      ]
     },
     "execution_count": 8,
     "metadata": {},
     "output_type": "execute_result"
    }
   ],
   "source": [
    "dbname = \"db\"  # internal database name\n",
    "username = \"user\"\n",
    "password = \"password\"\n",
    "\n",
    "table = \"test\"  # Name of table to query\n",
    "count_topic = defaultdict(int)\n",
    "\n",
    "for topic in topics:\n",
    "    conn = psycopg2.connect(\n",
    "                dbname=dbname,\n",
    "                user=username,\n",
    "                password=password,\n",
    "                host=topic,\n",
    "            )\n",
    "\n",
    "    # Prepare and execute the query\n",
    "    query = sql.SQL(\"SELECT id, question, answer, keywords FROM {}\").format(sql.Identifier(table))\n",
    "    try:\n",
    "        with conn.cursor() as cur:\n",
    "            cur.execute(query)\n",
    "            rows = cur.fetchall()\n",
    "            count_topic[topic] = len(rows)\n",
    "    except psycopg2.errors.UndefinedTable:  # Handle table not found error\n",
    "        print(f\"Table '{table}' does not exist in database '{dbname}' on node '{topic}'\")\n",
    "        count_topic[topic] = 0  # Or handle the case as you see fit\n",
    "    finally:\n",
    "        conn.close()\n",
    "\n",
    "# sort by desending frequency\n",
    "count_topic = dict(sorted(count_topic.items(), key=lambda x: x[1], reverse=True))\n",
    "\n",
    "count_topic"
   ]
  },
  {
   "cell_type": "code",
   "execution_count": null,
   "id": "7bb3cf93-37cc-4b6f-b23c-d630bb33602b",
   "metadata": {},
   "outputs": [],
   "source": [
    "# TODO: Fix these bugs\n",
    "# Get wrong frequencies on Tools-and-Home-Improvement\n",
    "# Missing Data Insert on 2 nodes: Toys-and-Games, Video-Games"
   ]
  }
 ],
 "metadata": {
  "kernelspec": {
   "display_name": "Python 3 (ipykernel)",
   "language": "python",
   "name": "python3"
  },
  "language_info": {
   "codemirror_mode": {
    "name": "ipython",
    "version": 3
   },
   "file_extension": ".py",
   "mimetype": "text/x-python",
   "name": "python",
   "nbconvert_exporter": "python",
   "pygments_lexer": "ipython3",
   "version": "3.11.6"
  }
 },
 "nbformat": 4,
 "nbformat_minor": 5
}
