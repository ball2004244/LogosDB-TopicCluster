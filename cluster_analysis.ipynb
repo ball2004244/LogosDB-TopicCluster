{
 "cells": [
  {
   "cell_type": "code",
   "execution_count": 10,
   "id": "c4f18981-bca1-4184-99a2-d2aca30b6b5a",
   "metadata": {},
   "outputs": [
    {
     "name": "stdout",
     "output_type": "stream",
     "text": [
      "Collecting psycopg2-binary\n",
      "  Downloading psycopg2_binary-2.9.9-cp311-cp311-manylinux_2_17_x86_64.manylinux2014_x86_64.whl.metadata (4.4 kB)\n",
      "Downloading psycopg2_binary-2.9.9-cp311-cp311-manylinux_2_17_x86_64.manylinux2014_x86_64.whl (3.0 MB)\n",
      "\u001b[2K   \u001b[90m━━━━━━━━━━━━━━━━━━━━━━━━━━━━━━━━━━━━━━━━\u001b[0m \u001b[32m3.0/3.0 MB\u001b[0m \u001b[31m36.9 MB/s\u001b[0m eta \u001b[36m0:00:00\u001b[0m:00:01\u001b[0m\n",
      "\u001b[?25hInstalling collected packages: psycopg2-binary\n",
      "Successfully installed psycopg2-binary-2.9.9\n"
     ]
    }
   ],
   "source": [
    "!pip install psycopg2-binary"
   ]
  },
  {
   "cell_type": "code",
   "execution_count": 17,
   "id": "afbe9d91-a460-47b8-99e9-db9fb4178584",
   "metadata": {},
   "outputs": [
    {
     "name": "stdout",
     "output_type": "stream",
     "text": [
      "Column names in 'test' table: id, question, answer, keywords, updatedat\n",
      "28933\n"
     ]
    }
   ],
   "source": [
    "import psycopg2\n",
    "from psycopg2 import sql\n",
    "import sys\n",
    "\n",
    "topic = \"Baby\"  # using localhost for now\n",
    "dbname = \"db\"  # internal database name\n",
    "username = \"user\"\n",
    "password = \"password\"\n",
    "\n",
    "with open(\"./inputs/topics.txt\", \"r\") as file:\n",
    "    pass\n",
    "\n",
    "table = \"test\"  # Name of table to query\n",
    "count_topic = dict()\n",
    "\n",
    "def get_column_names(conn, table):\n",
    "    \"\"\"\n",
    "    Fetches and prints the column names of a specified table.\n",
    "    \"\"\"\n",
    "    query = sql.SQL(\"\"\"\n",
    "        SELECT column_name \n",
    "        FROM information_schema.columns \n",
    "        WHERE table_name = %s\n",
    "        ORDER BY ordinal_position;\n",
    "    \"\"\")\n",
    "    cur = conn.cursor()\n",
    "    cur.execute(query, (table,))\n",
    "    columns = cur.fetchall()\n",
    "    cur.close()\n",
    "    return [col[0] for col in columns]\n",
    "\n",
    "conn = psycopg2.connect(\n",
    "            dbname=dbname,\n",
    "            user=username,\n",
    "            password=password,\n",
    "            host=topic,\n",
    "        )\n",
    "\n",
    "# Get and print column names\n",
    "column_names = get_column_names(conn, table)\n",
    "print(\"Column names in '{}' table: {}\".format(table, \", \".join(column_names)))\n",
    "\n",
    "# Prepare and execute the query\n",
    "query = sql.SQL(\"SELECT * FROM {}\").format(sql.Identifier(table))\n",
    "with conn.cursor() as cur:\n",
    "    cur.execute(query)\n",
    "    rows = cur.fetchall()\n",
    "print(len(rows))\n",
    "\n",
    "conn.close()"
   ]
  },
  {
   "cell_type": "code",
   "execution_count": null,
   "id": "7bb3cf93-37cc-4b6f-b23c-d630bb33602b",
   "metadata": {},
   "outputs": [],
   "source": []
  }
 ],
 "metadata": {
  "kernelspec": {
   "display_name": "Python 3 (ipykernel)",
   "language": "python",
   "name": "python3"
  },
  "language_info": {
   "codemirror_mode": {
    "name": "ipython",
    "version": 3
   },
   "file_extension": ".py",
   "mimetype": "text/x-python",
   "name": "python",
   "nbconvert_exporter": "python",
   "pygments_lexer": "ipython3",
   "version": "3.11.6"
  }
 },
 "nbformat": 4,
 "nbformat_minor": 5
}
