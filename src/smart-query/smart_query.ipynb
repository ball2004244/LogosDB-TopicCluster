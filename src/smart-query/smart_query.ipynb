{
 "cells": [
  {
   "cell_type": "markdown",
   "metadata": {},
   "source": [
    "# Smart Query\n",
    "This Notebook allows user to query a random piece of information from SumDB first. If the information is found in SumDB, it will then go to LogosCluster to find the full-length article. Otherwise, return nothing."
   ]
  },
  {
   "cell_type": "code",
   "execution_count": null,
   "metadata": {},
   "outputs": [],
   "source": [
    "%pip install psycopg2 rich scikit-learn\n",
    "\n",
    "from typing import List, Tuple\n",
    "from datetime import datetime\n",
    "from sklearn.feature_extraction.text import TfidfVectorizer\n",
    "from sklearn.metrics.pairwise import cosine_similarity\n",
    "from psycopg2 import sql\n",
    "from rich import print\n",
    "import psycopg2\n"
   ]
  },
  {
   "cell_type": "markdown",
   "metadata": {},
   "source": [
    "# HELPER FUNCTIONS"
   ]
  },
  {
   "cell_type": "code",
   "execution_count": null,
   "metadata": {},
   "outputs": [],
   "source": [
    "def log(message: str) -> None:\n",
    "    \"\"\"\n",
    "    Logs a message to the console.\n",
    "    \"\"\"\n",
    "    print(message)\n",
    "    with open(\"sumdb_log.txt\", \"a\") as log_file:\n",
    "        log_file.write(message + \"\\n\")"
   ]
  },
  {
   "cell_type": "code",
   "execution_count": null,
   "metadata": {},
   "outputs": [],
   "source": [
    "def get_column_names(conn, table):\n",
    "    \"\"\"\n",
    "    Fetches and logs the column names of a specified table.\n",
    "    \"\"\"\n",
    "    query = sql.SQL(\"\"\"\n",
    "        SELECT column_name \n",
    "        FROM information_schema.columns \n",
    "        WHERE table_name = %s\n",
    "        ORDER BY ordinal_position;\n",
    "    \"\"\")\n",
    "    cur = conn.cursor()\n",
    "    cur.execute(query, (table,))\n",
    "    columns = cur.fetchall()\n",
    "    cur.close()\n",
    "    return [col[0] for col in columns]"
   ]
  },
  {
   "cell_type": "markdown",
   "metadata": {},
   "source": [
    "# Perform SumDB Query"
   ]
  },
  {
   "cell_type": "code",
   "execution_count": null,
   "metadata": {},
   "outputs": [],
   "source": [
    "# sumb db config\n",
    "sumdb_topic = \"localhost\"  # using localhost for now\n",
    "port = \"5432\"\n",
    "dbname = \"db\"  # internal database name\n",
    "username = \"user\"\n",
    "password = \"password\"\n",
    "\n",
    "table = \"test\"  # Name of table to query"
   ]
  },
  {
   "cell_type": "code",
   "execution_count": null,
   "metadata": {},
   "outputs": [],
   "source": [
    "# Connect to the database\n",
    "conn = psycopg2.connect(\n",
    "    dbname=dbname,\n",
    "    user=username,\n",
    "    password=password,\n",
    "    host=sumdb_topic,\n",
    "    port=port\n",
    ")\n",
    "\n",
    "# Format datetime for readability\n",
    "formatted_datetime = datetime.now().strftime(\"%Y-%m-%d %H:%M:%S\")\n",
    "log(f\"[{formatted_datetime}] Connected to database '{dbname}' on {sumdb_topic}:{port} as '{username}'\")\n",
    "\n",
    "# Get and log column names\n",
    "column_names = get_column_names(conn, table)\n",
    "log(\"Column names in '{}' table: {}\".format(table, \", \".join(column_names)))\n"
   ]
  },
  {
   "cell_type": "code",
   "execution_count": null,
   "metadata": {},
   "outputs": [],
   "source": [
    "def similarity_search(user_query: str, chunk_summary: str) -> float:\n",
    "    \"\"\"\n",
    "    Calculate the similarity between the user query and a chunk summary using cosine similarity.\n",
    "    \"\"\"\n",
    "    # Create a TF-IDF Vectorizer\n",
    "    vectorizer = TfidfVectorizer()\n",
    "\n",
    "    # Combine the user query and chunk summary into a list\n",
    "    documents = [user_query, chunk_summary]\n",
    "\n",
    "    # Fit and transform the documents into TF-IDF matrix\n",
    "    tfidf_matrix = vectorizer.fit_transform(documents)\n",
    "\n",
    "    # Calculate the cosine similarity between the first and second document\n",
    "    similarity = cosine_similarity(tfidf_matrix[0:1], tfidf_matrix[1:2])\n",
    "\n",
    "    # Return the similarity score as a float\n",
    "    return similarity[0][0]"
   ]
  },
  {
   "cell_type": "code",
   "execution_count": null,
   "metadata": {},
   "outputs": [],
   "source": [
    "def get_all_sumdb_data(conn: psycopg2.extensions.connection, table: str) -> List[Tuple[str]]:\n",
    "    \"\"\"\n",
    "    Fetches all data from the specified table.\n",
    "    \"\"\"\n",
    "    query = sql.SQL(\"SELECT id, chunkstart, chunkend, topic, summary, updatedat FROM {}\").format(sql.Identifier(table))\n",
    "    cur = conn.cursor()\n",
    "    cur.execute(query)\n",
    "    data = cur.fetchall()\n",
    "    cur.close()\n",
    "    return data"
   ]
  },
  {
   "cell_type": "code",
   "execution_count": null,
   "metadata": {},
   "outputs": [],
   "source": [
    "def get_relevant_chunks(raw_data: List[Tuple[str]], user_query: str, threshold: float=0.5) -> List[Tuple[int, int, str, float]]:\n",
    "    \"\"\"\n",
    "    Get a list of chunkstart Id values that are relevant to the user query.\n",
    "    (which has similarity > threshold)\n",
    "    \"\"\"\n",
    "\n",
    "    # Do similarity search for each chunk summary\n",
    "    relevant_chunks = []\n",
    "    \n",
    "    for chunk_row in raw_data:\n",
    "        chunk_start, chunk_end, topic, chunk_summary = chunk_row[:4]\n",
    "        similarity = similarity_search(user_query, chunk_summary)\n",
    "        if similarity > threshold:\n",
    "            relevant_chunks.append((chunk_start, chunk_end, topic, similarity))\n",
    "    return relevant_chunks"
   ]
  },
  {
   "cell_type": "code",
   "execution_count": null,
   "metadata": {},
   "outputs": [],
   "source": [
    "def find_detail_articles(table: str, relevant_chunks: List[Tuple[int, int, str, float]]) -> List[Tuple[int, float]]:\n",
    "    \"\"\"\n",
    "    Fetches the detail articles for the relevant chunks.\n",
    "    \"\"\"\n",
    "    logos_dbname = \"db\"  # internal database name\n",
    "    logos_username = \"user\"\n",
    "    logos_password = \"password\"\n",
    "\n",
    "    logos_table = \"test\"  # Name of table to query\n",
    "\n",
    "    output = []\n",
    "    for chunk in relevant_chunks:\n",
    "        chunk_start, chunk_end, node_topic, _ = chunk\n",
    "        \n",
    "        # connect to db first\n",
    "        logos_conn = psycopg2.connect(\n",
    "            dbname=logos_dbname,\n",
    "            user=logos_username,\n",
    "            password=logos_password,\n",
    "            host=node_topic,\n",
    "        )\n",
    "        \n",
    "        # then do query on topic node\n",
    "        query = sql.SQL(\"\"\"\n",
    "            SELECT question, answer, keywords FROM {} WHERE id BETWEEN %s AND %s\n",
    "        \"\"\").format(sql.Identifier(logos_table))\n",
    "        \n",
    "        with logos_conn.cursor() as cur:\n",
    "            cur.execute(query, (chunk_start, chunk_end))\n",
    "            data = cur.fetchall()\n",
    "            output.append(data)\n",
    "            \n",
    "        logos_conn.close()\n",
    "\n",
    "    return output"
   ]
  },
  {
   "cell_type": "code",
   "execution_count": null,
   "metadata": {},
   "outputs": [],
   "source": [
    "log(\"Fetching all data from the database...\")\n",
    "raw_data = get_all_sumdb_data(conn, table)\n",
    "log(\"Data fetched successfully.\")"
   ]
  },
  {
   "cell_type": "code",
   "execution_count": null,
   "metadata": {},
   "outputs": [],
   "source": [
    "user_query = \"test query\"\n",
    "threshold = 0.5\n",
    "relevant_chunks = get_relevant_chunks(raw_data, user_query, threshold)\n",
    "\n",
    "if not relevant_chunks:\n",
    "    log(\"No relevant chunks found for query '{}'\".format(user_query))\n",
    "else:\n",
    "    log(\"Relevant chunks for query '{}' are: {}\".format(user_query, \", \".join(relevant_chunks)))"
   ]
  },
  {
   "cell_type": "code",
   "execution_count": null,
   "metadata": {},
   "outputs": [],
   "source": [
    "conn.close()"
   ]
  }
 ],
 "metadata": {
  "kernelspec": {
   "display_name": "logosdb",
   "language": "python",
   "name": "python3"
  },
  "language_info": {
   "codemirror_mode": {
    "name": "ipython",
    "version": 3
   },
   "file_extension": ".py",
   "mimetype": "text/x-python",
   "name": "python",
   "nbconvert_exporter": "python",
   "pygments_lexer": "ipython3",
   "version": "3.11.9"
  }
 },
 "nbformat": 4,
 "nbformat_minor": 2
}
