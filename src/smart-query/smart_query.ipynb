{
 "cells": [
  {
   "cell_type": "markdown",
   "metadata": {},
   "source": [
    "# Smart Query\n",
    "This Notebook allows user to query a random piece of information from SumDB first. If the information is found in SumDB, it will then go to LogosCluster to find the full-length article. Otherwise, return nothing."
   ]
  },
  {
   "cell_type": "code",
   "execution_count": 24,
   "metadata": {},
   "outputs": [
    {
     "name": "stdout",
     "output_type": "stream",
     "text": [
      "Requirement already satisfied: psycopg2 in /home/tam/miniconda3/envs/logosdb-query/lib/python3.11/site-packages (2.9.9)\n",
      "Requirement already satisfied: rich in /home/tam/miniconda3/envs/logosdb-query/lib/python3.11/site-packages (13.7.1)\n",
      "Requirement already satisfied: scikit-learn in /home/tam/miniconda3/envs/logosdb-query/lib/python3.11/site-packages (1.5.1)\n",
      "Requirement already satisfied: markdown-it-py>=2.2.0 in /home/tam/miniconda3/envs/logosdb-query/lib/python3.11/site-packages (from rich) (3.0.0)\n",
      "Requirement already satisfied: pygments<3.0.0,>=2.13.0 in /home/tam/miniconda3/envs/logosdb-query/lib/python3.11/site-packages (from rich) (2.18.0)\n",
      "Requirement already satisfied: numpy>=1.19.5 in /home/tam/miniconda3/envs/logosdb-query/lib/python3.11/site-packages (from scikit-learn) (2.1.0)\n",
      "Requirement already satisfied: scipy>=1.6.0 in /home/tam/miniconda3/envs/logosdb-query/lib/python3.11/site-packages (from scikit-learn) (1.14.1)\n",
      "Requirement already satisfied: joblib>=1.2.0 in /home/tam/miniconda3/envs/logosdb-query/lib/python3.11/site-packages (from scikit-learn) (1.4.2)\n",
      "Requirement already satisfied: threadpoolctl>=3.1.0 in /home/tam/miniconda3/envs/logosdb-query/lib/python3.11/site-packages (from scikit-learn) (3.5.0)\n",
      "Requirement already satisfied: mdurl~=0.1 in /home/tam/miniconda3/envs/logosdb-query/lib/python3.11/site-packages (from markdown-it-py>=2.2.0->rich) (0.1.2)\n",
      "Note: you may need to restart the kernel to use updated packages.\n"
     ]
    }
   ],
   "source": [
    "%pip install psycopg2 rich scikit-learn\n",
    "\n",
    "from typing import List, Tuple\n",
    "from datetime import datetime\n",
    "from sklearn.feature_extraction.text import TfidfVectorizer\n",
    "from sklearn.metrics.pairwise import cosine_similarity\n",
    "from psycopg2 import sql\n",
    "from rich import print\n",
    "import psycopg2\n"
   ]
  },
  {
   "cell_type": "markdown",
   "metadata": {},
   "source": [
    "# HELPER FUNCTIONS"
   ]
  },
  {
   "cell_type": "code",
   "execution_count": 25,
   "metadata": {},
   "outputs": [],
   "source": [
    "def log(message: str) -> None:\n",
    "    \"\"\"\n",
    "    Logs a message to the console.\n",
    "    \"\"\"\n",
    "    print(message)\n",
    "    with open(\"sumdb_log.txt\", \"a\") as log_file:\n",
    "        log_file.write(message + \"\\n\")"
   ]
  },
  {
   "cell_type": "code",
   "execution_count": 26,
   "metadata": {},
   "outputs": [],
   "source": [
    "def get_column_names(conn, table):\n",
    "    \"\"\"\n",
    "    Fetches and logs the column names of a specified table.\n",
    "    \"\"\"\n",
    "    query = sql.SQL(\"\"\"\n",
    "        SELECT column_name \n",
    "        FROM information_schema.columns \n",
    "        WHERE table_name = %s\n",
    "        ORDER BY ordinal_position;\n",
    "    \"\"\")\n",
    "    cur = conn.cursor()\n",
    "    cur.execute(query, (table,))\n",
    "    columns = cur.fetchall()\n",
    "    cur.close()\n",
    "    return [col[0] for col in columns]"
   ]
  },
  {
   "cell_type": "markdown",
   "metadata": {},
   "source": [
    "# Perform SumDB Query"
   ]
  },
  {
   "cell_type": "code",
   "execution_count": 27,
   "metadata": {},
   "outputs": [],
   "source": [
    "# sumb db config\n",
    "sumdb_topic = \"localhost\"  # using localhost for now\n",
    "port = \"5432\"\n",
    "dbname = \"db\"  # internal database name\n",
    "username = \"user\"\n",
    "password = \"password\"\n",
    "\n",
    "table = \"test\"  # Name of table to query"
   ]
  },
  {
   "cell_type": "code",
   "execution_count": 28,
   "metadata": {},
   "outputs": [
    {
     "data": {
      "text/html": [
       "<pre style=\"white-space:pre;overflow-x:auto;line-height:normal;font-family:Menlo,'DejaVu Sans Mono',consolas,'Courier New',monospace\"><span style=\"font-weight: bold\">[</span><span style=\"color: #008080; text-decoration-color: #008080; font-weight: bold\">2024</span>-<span style=\"color: #008080; text-decoration-color: #008080; font-weight: bold\">08</span>-<span style=\"color: #008080; text-decoration-color: #008080; font-weight: bold\">25</span> <span style=\"color: #00ff00; text-decoration-color: #00ff00; font-weight: bold\">19:28:27</span><span style=\"font-weight: bold\">]</span> Connected to database <span style=\"color: #008000; text-decoration-color: #008000\">'db'</span> on localhost:<span style=\"color: #008080; text-decoration-color: #008080; font-weight: bold\">5432</span> as <span style=\"color: #008000; text-decoration-color: #008000\">'user'</span>\n",
       "</pre>\n"
      ],
      "text/plain": [
       "\u001b[1m[\u001b[0m\u001b[1;36m2024\u001b[0m-\u001b[1;36m08\u001b[0m-\u001b[1;36m25\u001b[0m \u001b[1;92m19:28:27\u001b[0m\u001b[1m]\u001b[0m Connected to database \u001b[32m'db'\u001b[0m on localhost:\u001b[1;36m5432\u001b[0m as \u001b[32m'user'\u001b[0m\n"
      ]
     },
     "metadata": {},
     "output_type": "display_data"
    },
    {
     "data": {
      "text/html": [
       "<pre style=\"white-space:pre;overflow-x:auto;line-height:normal;font-family:Menlo,'DejaVu Sans Mono',consolas,'Courier New',monospace\">Column names in <span style=\"color: #008000; text-decoration-color: #008000\">'test'</span> table: id, chunkstart, chunkend, topic, summary, updatedat\n",
       "</pre>\n"
      ],
      "text/plain": [
       "Column names in \u001b[32m'test'\u001b[0m table: id, chunkstart, chunkend, topic, summary, updatedat\n"
      ]
     },
     "metadata": {},
     "output_type": "display_data"
    }
   ],
   "source": [
    "# Connect to the database\n",
    "conn = psycopg2.connect(\n",
    "    dbname=dbname,\n",
    "    user=username,\n",
    "    password=password,\n",
    "    host=sumdb_topic,\n",
    "    port=port\n",
    ")\n",
    "\n",
    "# Format datetime for readability\n",
    "formatted_datetime = datetime.now().strftime(\"%Y-%m-%d %H:%M:%S\")\n",
    "log(f\"[{formatted_datetime}] Connected to database '{dbname}' on {sumdb_topic}:{port} as '{username}'\")\n",
    "\n",
    "# Get and log column names\n",
    "column_names = get_column_names(conn, table)\n",
    "log(\"Column names in '{}' table: {}\".format(table, \", \".join(column_names)))\n"
   ]
  },
  {
   "cell_type": "code",
   "execution_count": 29,
   "metadata": {},
   "outputs": [],
   "source": [
    "def similarity_search(user_query: str, chunk_summary: str) -> float:\n",
    "    \"\"\"\n",
    "    Calculate the similarity between the user query and a chunk summary using cosine similarity.\n",
    "    \"\"\"\n",
    "    # Create a TF-IDF Vectorizer\n",
    "    vectorizer = TfidfVectorizer()\n",
    "\n",
    "    # Combine the user query and chunk summary into a list\n",
    "    documents = [user_query, chunk_summary]\n",
    "\n",
    "    # Fit and transform the documents into TF-IDF matrix\n",
    "    tfidf_matrix = vectorizer.fit_transform(documents)\n",
    "\n",
    "    # Calculate the cosine similarity between the first and second document\n",
    "    similarity = cosine_similarity(tfidf_matrix[0:1], tfidf_matrix[1:2])\n",
    "\n",
    "    # Return the similarity score as a float\n",
    "    return similarity[0][0]"
   ]
  },
  {
   "cell_type": "code",
   "execution_count": 30,
   "metadata": {},
   "outputs": [],
   "source": [
    "def get_all_sumdb_data(conn: psycopg2.extensions.connection, table: str) -> List[Tuple[str]]:\n",
    "    \"\"\"\n",
    "    Fetches all data from the specified table.\n",
    "    \"\"\"\n",
    "    query = sql.SQL(\"SELECT id, chunkstart, chunkend, topic, summary, updatedat FROM {}\").format(sql.Identifier(table))\n",
    "    cur = conn.cursor()\n",
    "    cur.execute(query)\n",
    "    data = cur.fetchall()\n",
    "    cur.close()\n",
    "    return data"
   ]
  },
  {
   "cell_type": "code",
   "execution_count": 31,
   "metadata": {},
   "outputs": [],
   "source": [
    "def max_relevant_score(chunk_summary: str, user_query: str) -> float:\n",
    "    \"\"\"\n",
    "    Find the highest similarity score between the user query and the chunk summary.\n",
    "    A chunk max relevant score is the highest similarity score between the user query and 1 line in the chunk summary.\n",
    "    \"\"\"\n",
    "    \n",
    "    # first format the chunk summary\n",
    "    chunk_summary = chunk_summary.lower()\n",
    "    \n",
    "    # split the chunk summary into lines\n",
    "    chunk_summary = chunk_summary.split(\"\\n\")\n",
    "    \n",
    "    # remove empty lines\n",
    "    chunk_summary = [line for line in chunk_summary if line.strip()]\n",
    "    \n",
    "    # remove lines that are too short\n",
    "    chunk_summary = [line for line in chunk_summary if len(line) > 5]\n",
    "    \n",
    "    # compare each line to the user query\n",
    "    max_score = 0.0\n",
    "    for line in chunk_summary:\n",
    "        max_score = max(max_score, similarity_search(user_query, line))\n",
    "\n",
    "    return max_score"
   ]
  },
  {
   "cell_type": "code",
   "execution_count": 32,
   "metadata": {},
   "outputs": [],
   "source": [
    "def get_relevant_chunks(raw_data: List[Tuple[str]], user_query: str, threshold: float=0.5) -> List[Tuple[int, int, str, float]]:\n",
    "    \"\"\"\n",
    "    Get a list of chunkstart Id values that are relevant to the user query.\n",
    "    (which has similarity > threshold)\n",
    "    \"\"\"\n",
    "\n",
    "    # Do similarity search for each chunk summary\n",
    "    relevant_chunks = []\n",
    "    \n",
    "    max_score = 0.0\n",
    "    # A chunk is considered relevant if 1 row within it is relevant\n",
    "    for chunk_row in raw_data:\n",
    "        chunk_start, chunk_end, topic, chunk_summary = chunk_row[:4]\n",
    "        similarity = max_relevant_score(chunk_summary, user_query)\n",
    "        if similarity > threshold:\n",
    "            relevant_chunks.append((chunk_start, chunk_end, topic, similarity))\n",
    "\n",
    "        max_score = max(max_score, similarity)\n",
    "    print(f\"Max score: {max_score}\")\n",
    "    return relevant_chunks"
   ]
  },
  {
   "cell_type": "code",
   "execution_count": 33,
   "metadata": {},
   "outputs": [],
   "source": [
    "def find_detail_articles(logos_table: str, relevant_chunks: List[Tuple[int, int, str, float]]) -> List[Tuple[int, float]]:\n",
    "    \"\"\"\n",
    "    Fetches the detail articles for the relevant chunks.\n",
    "    \"\"\"\n",
    "    logos_dbname = \"db\"  # internal database name\n",
    "    logos_username = \"user\"\n",
    "    logos_password = \"password\"\n",
    "\n",
    "    output = []\n",
    "    for chunk in relevant_chunks:\n",
    "        chunk_start, chunk_end, node_topic, _ = chunk\n",
    "        \n",
    "        # connect to db first\n",
    "        logos_conn = psycopg2.connect(\n",
    "            dbname=logos_dbname,\n",
    "            user=logos_username,\n",
    "            password=logos_password,\n",
    "            host=node_topic,\n",
    "        )\n",
    "        \n",
    "        # then do query on topic node\n",
    "        query = sql.SQL(\"\"\"\n",
    "            SELECT question, answer, keywords FROM {} WHERE id BETWEEN %s AND %s\n",
    "        \"\"\").format(sql.Identifier(logos_table))\n",
    "        \n",
    "        with logos_conn.cursor() as cur:\n",
    "            cur.execute(query, (chunk_start, chunk_end))\n",
    "            data = cur.fetchall()\n",
    "            output.append(data)\n",
    "            \n",
    "        logos_conn.close()\n",
    "\n",
    "    return output"
   ]
  },
  {
   "cell_type": "code",
   "execution_count": 34,
   "metadata": {},
   "outputs": [
    {
     "data": {
      "text/html": [
       "<pre style=\"white-space:pre;overflow-x:auto;line-height:normal;font-family:Menlo,'DejaVu Sans Mono',consolas,'Courier New',monospace\">Fetching all data from the database<span style=\"color: #808000; text-decoration-color: #808000\">...</span>\n",
       "</pre>\n"
      ],
      "text/plain": [
       "Fetching all data from the database\u001b[33m...\u001b[0m\n"
      ]
     },
     "metadata": {},
     "output_type": "display_data"
    },
    {
     "data": {
      "text/html": [
       "<pre style=\"white-space:pre;overflow-x:auto;line-height:normal;font-family:Menlo,'DejaVu Sans Mono',consolas,'Courier New',monospace\">Data fetched successfully.\n",
       "</pre>\n"
      ],
      "text/plain": [
       "Data fetched successfully.\n"
      ]
     },
     "metadata": {},
     "output_type": "display_data"
    }
   ],
   "source": [
    "log(\"Fetching all data from the database...\")\n",
    "raw_data = get_all_sumdb_data(conn, table)\n",
    "log(\"Data fetched successfully.\")"
   ]
  },
  {
   "cell_type": "code",
   "execution_count": 35,
   "metadata": {},
   "outputs": [
    {
     "data": {
      "text/html": [
       "<pre style=\"white-space:pre;overflow-x:auto;line-height:normal;font-family:Menlo,'DejaVu Sans Mono',consolas,'Courier New',monospace\">Max score: <span style=\"color: #008080; text-decoration-color: #008080; font-weight: bold\">0.0</span>\n",
       "</pre>\n"
      ],
      "text/plain": [
       "Max score: \u001b[1;36m0.0\u001b[0m\n"
      ]
     },
     "metadata": {},
     "output_type": "display_data"
    },
    {
     "data": {
      "text/html": [
       "<pre style=\"white-space:pre;overflow-x:auto;line-height:normal;font-family:Menlo,'DejaVu Sans Mono',consolas,'Courier New',monospace\">No relevant chunks found for query <span style=\"color: #008000; text-decoration-color: #008000\">'Vertigo is a Marvel Comics character from the Savage Land with the power to </span>\n",
       "<span style=\"color: #008000; text-decoration-color: #008000\">induce severe dizziness and unconsciousness in others, first appearing in Marvel Fanfare #1 in 1982. Initially a </span>\n",
       "<span style=\"color: #008000; text-decoration-color: #008000\">member of the Marauders, she was involved in battles against the X-Men and has been killed and cloned multiple </span>\n",
       "<span style=\"color: #008000; text-decoration-color: #008000\">times, with varying portrayals in different media including animated series and video games.'</span>\n",
       "</pre>\n"
      ],
      "text/plain": [
       "No relevant chunks found for query \u001b[32m'Vertigo is a Marvel Comics character from the Savage Land with the power to \u001b[0m\n",
       "\u001b[32minduce severe dizziness and unconsciousness in others, first appearing in Marvel Fanfare #1 in 1982. Initially a \u001b[0m\n",
       "\u001b[32mmember of the Marauders, she was involved in battles against the X-Men and has been killed and cloned multiple \u001b[0m\n",
       "\u001b[32mtimes, with varying portrayals in different media including animated series and video games.'\u001b[0m\n"
      ]
     },
     "metadata": {},
     "output_type": "display_data"
    }
   ],
   "source": [
    "user_query = r\"Vertigo is a Marvel Comics character from the Savage Land with the power to induce severe dizziness and unconsciousness in others, first appearing in Marvel Fanfare #1 in 1982. Initially a member of the Marauders, she was involved in battles against the X-Men and has been killed and cloned multiple times, with varying portrayals in different media including animated series and video games.\"\n",
    "threshold = 0.5\n",
    "relevant_chunks = get_relevant_chunks(raw_data, user_query, threshold)\n",
    "\n",
    "if not relevant_chunks:\n",
    "    log(\"No relevant chunks found for query '{}'\".format(user_query))\n",
    "else:\n",
    "    log(\"Relevant chunks for query '{}' are: {}\".format(user_query, \", \".join(relevant_chunks)))"
   ]
  },
  {
   "cell_type": "code",
   "execution_count": 36,
   "metadata": {},
   "outputs": [],
   "source": [
    "conn.close()"
   ]
  }
 ],
 "metadata": {
  "kernelspec": {
   "display_name": "logosdb",
   "language": "python",
   "name": "python3"
  },
  "language_info": {
   "codemirror_mode": {
    "name": "ipython",
    "version": 3
   },
   "file_extension": ".py",
   "mimetype": "text/x-python",
   "name": "python",
   "nbconvert_exporter": "python",
   "pygments_lexer": "ipython3",
   "version": "3.11.9"
  }
 },
 "nbformat": 4,
 "nbformat_minor": 2
}
