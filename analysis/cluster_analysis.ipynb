{
 "cells": [
  {
   "cell_type": "code",
   "execution_count": 1,
   "id": "c4f18981-bca1-4184-99a2-d2aca30b6b5a",
   "metadata": {},
   "outputs": [
    {
     "name": "stdout",
     "output_type": "stream",
     "text": [
      "Collecting psycopg2-binary\n",
      "  Downloading psycopg2_binary-2.9.9-cp311-cp311-manylinux_2_17_x86_64.manylinux2014_x86_64.whl.metadata (4.4 kB)\n",
      "Collecting pandas\n",
      "  Downloading pandas-2.2.2-cp311-cp311-manylinux_2_17_x86_64.manylinux2014_x86_64.whl.metadata (19 kB)\n",
      "Collecting pyarrow\n",
      "  Downloading pyarrow-17.0.0-cp311-cp311-manylinux_2_28_x86_64.whl.metadata (3.3 kB)\n",
      "Collecting numpy>=1.23.2 (from pandas)\n",
      "  Downloading numpy-2.1.0-cp311-cp311-manylinux_2_17_x86_64.manylinux2014_x86_64.whl.metadata (60 kB)\n",
      "\u001b[2K     \u001b[90m━━━━━━━━━━━━━━━━━━━━━━━━━━━━━━━━━━━━━━━━\u001b[0m \u001b[32m60.9/60.9 kB\u001b[0m \u001b[31m1.0 MB/s\u001b[0m eta \u001b[36m0:00:00\u001b[0ma \u001b[36m0:00:01\u001b[0m\n",
      "\u001b[?25hRequirement already satisfied: python-dateutil>=2.8.2 in /opt/conda/lib/python3.11/site-packages (from pandas) (2.8.2)\n",
      "Requirement already satisfied: pytz>=2020.1 in /opt/conda/lib/python3.11/site-packages (from pandas) (2023.3.post1)\n",
      "Collecting tzdata>=2022.7 (from pandas)\n",
      "  Downloading tzdata-2024.1-py2.py3-none-any.whl.metadata (1.4 kB)\n",
      "Requirement already satisfied: six>=1.5 in /opt/conda/lib/python3.11/site-packages (from python-dateutil>=2.8.2->pandas) (1.16.0)\n",
      "Downloading psycopg2_binary-2.9.9-cp311-cp311-manylinux_2_17_x86_64.manylinux2014_x86_64.whl (3.0 MB)\n",
      "\u001b[2K   \u001b[90m━━━━━━━━━━━━━━━━━━━━━━━━━━━━━━━━━━━━━━━━\u001b[0m \u001b[32m3.0/3.0 MB\u001b[0m \u001b[31m9.6 MB/s\u001b[0m eta \u001b[36m0:00:00\u001b[0m:00:01\u001b[0m0:01\u001b[0m\n",
      "\u001b[?25hDownloading pandas-2.2.2-cp311-cp311-manylinux_2_17_x86_64.manylinux2014_x86_64.whl (13.0 MB)\n",
      "\u001b[2K   \u001b[90m━━━━━━━━━━━━━━━━━━━━━━━━━━━━━━━━━━━━━━━━\u001b[0m \u001b[32m13.0/13.0 MB\u001b[0m \u001b[31m14.8 MB/s\u001b[0m eta \u001b[36m0:00:00\u001b[0m00:01\u001b[0m00:01\u001b[0m\n",
      "\u001b[?25hDownloading pyarrow-17.0.0-cp311-cp311-manylinux_2_28_x86_64.whl (39.9 MB)\n",
      "\u001b[2K   \u001b[90m━━━━━━━━━━━━━━━━━━━━━━━━━━━━━━━━━━━━━━━━\u001b[0m \u001b[32m39.9/39.9 MB\u001b[0m \u001b[31m12.7 MB/s\u001b[0m eta \u001b[36m0:00:00\u001b[0m00:01\u001b[0m00:01\u001b[0m\n",
      "\u001b[?25hDownloading numpy-2.1.0-cp311-cp311-manylinux_2_17_x86_64.manylinux2014_x86_64.whl (16.3 MB)\n",
      "\u001b[2K   \u001b[90m━━━━━━━━━━━━━━━━━━━━━━━━━━━━━━━━━━━━━━━━\u001b[0m \u001b[32m16.3/16.3 MB\u001b[0m \u001b[31m8.5 MB/s\u001b[0m eta \u001b[36m0:00:00\u001b[0m00:01\u001b[0m00:01\u001b[0m\n",
      "\u001b[?25hDownloading tzdata-2024.1-py2.py3-none-any.whl (345 kB)\n",
      "\u001b[2K   \u001b[90m━━━━━━━━━━━━━━━━━━━━━━━━━━━━━━━━━━━━━━━━\u001b[0m \u001b[32m345.4/345.4 kB\u001b[0m \u001b[31m6.5 MB/s\u001b[0m eta \u001b[36m0:00:00\u001b[0ma \u001b[36m0:00:01\u001b[0m\n",
      "\u001b[?25hInstalling collected packages: tzdata, psycopg2-binary, numpy, pyarrow, pandas\n",
      "Successfully installed numpy-2.1.0 pandas-2.2.2 psycopg2-binary-2.9.9 pyarrow-17.0.0 tzdata-2024.1\n",
      "Note: you may need to restart the kernel to use updated packages.\n"
     ]
    }
   ],
   "source": [
    "%pip install psycopg2-binary pandas pyarrow"
   ]
  },
  {
   "cell_type": "code",
   "execution_count": 2,
   "id": "a8f4e699-bea5-4425-8b1f-07f3a6b3b741",
   "metadata": {},
   "outputs": [
    {
     "data": {
      "text/plain": [
       "['Biology']"
      ]
     },
     "execution_count": 2,
     "metadata": {},
     "output_type": "execute_result"
    }
   ],
   "source": [
    "topics = []\n",
    "with open(\"../inputs/topics.txt\", \"r\") as file:\n",
    "    topics = file.read().split()\n",
    "topics"
   ]
  },
  {
   "cell_type": "code",
   "execution_count": 3,
   "id": "28b42465-e721-4b56-a53a-4c0a3c6483ca",
   "metadata": {},
   "outputs": [],
   "source": [
    "from collections import defaultdict\n",
    "from psycopg2 import sql\n",
    "import psycopg2\n",
    "import pandas as pd"
   ]
  },
  {
   "cell_type": "code",
   "execution_count": 4,
   "id": "3b79390c-ed57-41f4-a866-0e72821d0655",
   "metadata": {},
   "outputs": [],
   "source": [
    "def get_column_names(conn, table):\n",
    "    \"\"\"\n",
    "    Fetches and prints the column names of a specified table.\n",
    "    \"\"\"\n",
    "    query = sql.SQL(\"\"\"\n",
    "        SELECT column_name \n",
    "        FROM information_schema.columns \n",
    "        WHERE table_name = %s\n",
    "        ORDER BY ordinal_position;\n",
    "    \"\"\")\n",
    "    cur = conn.cursor()\n",
    "    cur.execute(query, (table,))\n",
    "    columns = cur.fetchall()\n",
    "    cur.close()\n",
    "    return [col[0] for col in columns]"
   ]
  },
  {
   "cell_type": "code",
   "execution_count": 5,
   "id": "c2af9116-ac31-446d-b447-f245d644a277",
   "metadata": {},
   "outputs": [],
   "source": [
    "dbname = \"db\"  # internal database name\n",
    "username = \"user\"\n",
    "password = \"password\"\n",
    "\n",
    "table = \"test\"  # Name of table to query"
   ]
  },
  {
   "cell_type": "markdown",
   "id": "f842b7af-d036-475e-9ee3-df27e79396b4",
   "metadata": {},
   "source": [
    "# QUERY ON ALL TOPIC NODES"
   ]
  },
  {
   "cell_type": "code",
   "execution_count": 6,
   "id": "afbe9d91-a460-47b8-99e9-db9fb4178584",
   "metadata": {},
   "outputs": [
    {
     "ename": "OperationalError",
     "evalue": "could not translate host name \"Biology\" to address: Temporary failure in name resolution\n",
     "output_type": "error",
     "traceback": [
      "\u001b[0;31m---------------------------------------------------------------------------\u001b[0m",
      "\u001b[0;31mOperationalError\u001b[0m                          Traceback (most recent call last)",
      "Cell \u001b[0;32mIn[6], line 4\u001b[0m\n\u001b[1;32m      1\u001b[0m count_topic \u001b[38;5;241m=\u001b[39m defaultdict(\u001b[38;5;28mint\u001b[39m)\n\u001b[1;32m      3\u001b[0m \u001b[38;5;28;01mfor\u001b[39;00m topic \u001b[38;5;129;01min\u001b[39;00m topics:\n\u001b[0;32m----> 4\u001b[0m     conn \u001b[38;5;241m=\u001b[39m \u001b[43mpsycopg2\u001b[49m\u001b[38;5;241;43m.\u001b[39;49m\u001b[43mconnect\u001b[49m\u001b[43m(\u001b[49m\n\u001b[1;32m      5\u001b[0m \u001b[43m                \u001b[49m\u001b[43mdbname\u001b[49m\u001b[38;5;241;43m=\u001b[39;49m\u001b[43mdbname\u001b[49m\u001b[43m,\u001b[49m\n\u001b[1;32m      6\u001b[0m \u001b[43m                \u001b[49m\u001b[43muser\u001b[49m\u001b[38;5;241;43m=\u001b[39;49m\u001b[43musername\u001b[49m\u001b[43m,\u001b[49m\n\u001b[1;32m      7\u001b[0m \u001b[43m                \u001b[49m\u001b[43mpassword\u001b[49m\u001b[38;5;241;43m=\u001b[39;49m\u001b[43mpassword\u001b[49m\u001b[43m,\u001b[49m\n\u001b[1;32m      8\u001b[0m \u001b[43m                \u001b[49m\u001b[43mhost\u001b[49m\u001b[38;5;241;43m=\u001b[39;49m\u001b[43mtopic\u001b[49m\u001b[43m,\u001b[49m\n\u001b[1;32m      9\u001b[0m \u001b[43m            \u001b[49m\u001b[43m)\u001b[49m\n\u001b[1;32m     11\u001b[0m     \u001b[38;5;66;03m# Prepare and execute the query\u001b[39;00m\n\u001b[1;32m     12\u001b[0m     query \u001b[38;5;241m=\u001b[39m sql\u001b[38;5;241m.\u001b[39mSQL(\u001b[38;5;124m\"\u001b[39m\u001b[38;5;124mSELECT id, question, answer, keywords FROM \u001b[39m\u001b[38;5;132;01m{}\u001b[39;00m\u001b[38;5;124m\"\u001b[39m)\u001b[38;5;241m.\u001b[39mformat(sql\u001b[38;5;241m.\u001b[39mIdentifier(table))\n",
      "File \u001b[0;32m/opt/conda/lib/python3.11/site-packages/psycopg2/__init__.py:122\u001b[0m, in \u001b[0;36mconnect\u001b[0;34m(dsn, connection_factory, cursor_factory, **kwargs)\u001b[0m\n\u001b[1;32m    119\u001b[0m     kwasync[\u001b[38;5;124m'\u001b[39m\u001b[38;5;124masync_\u001b[39m\u001b[38;5;124m'\u001b[39m] \u001b[38;5;241m=\u001b[39m kwargs\u001b[38;5;241m.\u001b[39mpop(\u001b[38;5;124m'\u001b[39m\u001b[38;5;124masync_\u001b[39m\u001b[38;5;124m'\u001b[39m)\n\u001b[1;32m    121\u001b[0m dsn \u001b[38;5;241m=\u001b[39m _ext\u001b[38;5;241m.\u001b[39mmake_dsn(dsn, \u001b[38;5;241m*\u001b[39m\u001b[38;5;241m*\u001b[39mkwargs)\n\u001b[0;32m--> 122\u001b[0m conn \u001b[38;5;241m=\u001b[39m \u001b[43m_connect\u001b[49m\u001b[43m(\u001b[49m\u001b[43mdsn\u001b[49m\u001b[43m,\u001b[49m\u001b[43m \u001b[49m\u001b[43mconnection_factory\u001b[49m\u001b[38;5;241;43m=\u001b[39;49m\u001b[43mconnection_factory\u001b[49m\u001b[43m,\u001b[49m\u001b[43m \u001b[49m\u001b[38;5;241;43m*\u001b[39;49m\u001b[38;5;241;43m*\u001b[39;49m\u001b[43mkwasync\u001b[49m\u001b[43m)\u001b[49m\n\u001b[1;32m    123\u001b[0m \u001b[38;5;28;01mif\u001b[39;00m cursor_factory \u001b[38;5;129;01mis\u001b[39;00m \u001b[38;5;129;01mnot\u001b[39;00m \u001b[38;5;28;01mNone\u001b[39;00m:\n\u001b[1;32m    124\u001b[0m     conn\u001b[38;5;241m.\u001b[39mcursor_factory \u001b[38;5;241m=\u001b[39m cursor_factory\n",
      "\u001b[0;31mOperationalError\u001b[0m: could not translate host name \"Biology\" to address: Temporary failure in name resolution\n"
     ]
    }
   ],
   "source": [
    "count_topic = defaultdict(int)\n",
    "\n",
    "for topic in topics:\n",
    "    conn = psycopg2.connect(\n",
    "                dbname=dbname,\n",
    "                user=username,\n",
    "                password=password,\n",
    "                host=topic,\n",
    "            )\n",
    "\n",
    "    # Prepare and execute the query\n",
    "    query = sql.SQL(\"SELECT id, question, answer, keywords FROM {}\").format(sql.Identifier(table))\n",
    "    try:\n",
    "        with conn.cursor() as cur:\n",
    "            cur.execute(query)\n",
    "            rows = cur.fetchall()\n",
    "            count_topic[topic] = len(rows)\n",
    "    except psycopg2.errors.UndefinedTable:  # Handle table not found error\n",
    "        print(f\"Table '{table}' does not exist in database '{dbname}' on node '{topic}'\")\n",
    "        count_topic[topic] = 0  # Or handle the case as you see fit\n",
    "    finally:\n",
    "        conn.close()\n"
   ]
  },
  {
   "cell_type": "code",
   "execution_count": null,
   "id": "3494dd9b-c2fd-4697-8a78-842e78c0e58a",
   "metadata": {},
   "outputs": [],
   "source": [
    "# sort by desending frequency\n",
    "count_topic = dict(sorted(count_topic.items(), key=lambda x: x[1], reverse=True))\n",
    "\n",
    "print('Num Topic:', len(count_topic))\n",
    "total = sum(count_topic.values())\n",
    "\n",
    "print(count_topic)\n",
    "print(total)"
   ]
  },
  {
   "cell_type": "markdown",
   "id": "a6f12714-23e7-4112-8cd3-f0fbeaf3dddd",
   "metadata": {},
   "source": [
    "# CUSTOM QUERY ON SINGLE NODE\n"
   ]
  },
  {
   "cell_type": "code",
   "execution_count": 7,
   "id": "e0328a4f-e611-4560-ac60-338a3b3d681c",
   "metadata": {},
   "outputs": [
    {
     "name": "stdout",
     "output_type": "stream",
     "text": [
      "['id', 'question', 'answer', 'keywords', 'updatedat']\n"
     ]
    }
   ],
   "source": [
    "count_topic = defaultdict(int)\n",
    "\n",
    "# test for topic[0]\n",
    "topic = 'Biology'\n",
    "conn = psycopg2.connect(\n",
    "        dbname=dbname,\n",
    "        user=username,\n",
    "        password=password,\n",
    "        host=topic,\n",
    "    )\n",
    "\n",
    "query = sql.SQL(\"SELECT id, question, answer, keywords FROM {}\").format(sql.Identifier(table))\n",
    "\n",
    "try:\n",
    "    with conn.cursor() as cur:\n",
    "        header = get_column_names(conn, table)\n",
    "        cur.execute(query)\n",
    "        rows = cur.fetchall()\n",
    "except psycopg2.errors.UndefinedTable:  # Handle table not found error\n",
    "    print(f\"Table '{table}' does not exist in database '{dbname}' on node '{topic}'\")\n",
    "finally:\n",
    "    conn.close()\n",
    "\n",
    "print(header)"
   ]
  },
  {
   "cell_type": "code",
   "execution_count": 11,
   "id": "99b8cb3c-094d-4a87-9205-0cdea26af7fc",
   "metadata": {},
   "outputs": [],
   "source": [
    "pd.set_option('display.max_colwidth', None)\n",
    "def get_chunk(node_df, start, end):\n",
    "    chunk_df = node_df[(node_df['id'] >= start) & (node_df['id'] <= end)]\n",
    "\n",
    "    return chunk_df"
   ]
  },
  {
   "cell_type": "code",
   "execution_count": 12,
   "id": "0eb98b23-db5a-4b4f-958e-3bbc8b6e0675",
   "metadata": {},
   "outputs": [],
   "source": [
    "node_df = pd.DataFrame(rows, columns=header[:-1])\n",
    "# node_df.sort_values('id', inplace=True)\n",
    "# node_df.head(10)\n",
    "\n",
    "# for idx, row in node_df[114495:115015].iterrows():\n",
    "#     # print(row['id'])\n",
    "#     print(row['question'], row['answer'])\n",
    "\n",
    "cur_chunk = get_chunk(node_df, 732501, 733000)\n",
    "next_chunk = get_chunk(node_df, 733001, 733501)\n",
    "\n",
    "# Display rows with null 'id'\n",
    "# null_id_rows = node_df[pd.isnull(node_df['id'])]\n",
    "# print(null_id_rows)"
   ]
  },
  {
   "cell_type": "code",
   "execution_count": 13,
   "id": "3e5948a9-0016-46cb-8a02-42c9269c8ca6",
   "metadata": {},
   "outputs": [
    {
     "name": "stdout",
     "output_type": "stream",
     "text": [
      "Cur Chunk Start\n"
     ]
    },
    {
     "data": {
      "text/html": [
       "<div>\n",
       "<style scoped>\n",
       "    .dataframe tbody tr th:only-of-type {\n",
       "        vertical-align: middle;\n",
       "    }\n",
       "\n",
       "    .dataframe tbody tr th {\n",
       "        vertical-align: top;\n",
       "    }\n",
       "\n",
       "    .dataframe thead th {\n",
       "        text-align: right;\n",
       "    }\n",
       "</style>\n",
       "<table border=\"1\" class=\"dataframe\">\n",
       "  <thead>\n",
       "    <tr style=\"text-align: right;\">\n",
       "      <th></th>\n",
       "      <th>id</th>\n",
       "      <th>question</th>\n",
       "      <th>answer</th>\n",
       "      <th>keywords</th>\n",
       "    </tr>\n",
       "  </thead>\n",
       "  <tbody>\n",
       "    <tr>\n",
       "      <th>495496</th>\n",
       "      <td>732546</td>\n",
       "      <td></td>\n",
       "      <td>asian culture asian culture categoryeastern culture asian culture categoryeastern culture</td>\n",
       "      <td>[kw1, kw2, kw3, kw4, kw5]</td>\n",
       "    </tr>\n",
       "    <tr>\n",
       "      <th>495581</th>\n",
       "      <td>732547</td>\n",
       "      <td></td>\n",
       "      <td>a dame to kill forjpg the sin city graphic novels will be reprinted and given new covers in the months leading up to the sin city movie categorysin city the sin city graphic novels will be reprinted and given new covers in the months leading up to the sin city movie categorysin city</td>\n",
       "      <td>[kw1, kw2, kw3, kw4, kw5]</td>\n",
       "    </tr>\n",
       "    <tr>\n",
       "      <th>495626</th>\n",
       "      <td>732548</td>\n",
       "      <td></td>\n",
       "      <td>ailments of unknown cause illnesses of unknown or unsettled etiology unknown categoryunsolved problems in biology categorycause medicine illnesses of unknown or unsettled etiology unknown categoryunsolved problems in biology categorycause medicine</td>\n",
       "      <td>[kw1, kw2, kw3, kw4, kw5]</td>\n",
       "    </tr>\n",
       "    <tr>\n",
       "      <th>753086</th>\n",
       "      <td>732745</td>\n",
       "      <td></td>\n",
       "      <td>arch bridges categorybridges by structural type bridges categorybridges by structural type bridges</td>\n",
       "      <td>[kw1, kw2, kw3, kw4, kw5]</td>\n",
       "    </tr>\n",
       "    <tr>\n",
       "      <th>753168</th>\n",
       "      <td>732827</td>\n",
       "      <td></td>\n",
       "      <td>bosnia and herzegovina geography stubs bosnia and herzegovina  geography bosnia and herzegovina  geography</td>\n",
       "      <td>[kw1, kw2, kw3, kw4, kw5]</td>\n",
       "    </tr>\n",
       "    <tr>\n",
       "      <th>753210</th>\n",
       "      <td>732853</td>\n",
       "      <td></td>\n",
       "      <td>indian film producers categoryasian film producers producers producers categoryasian film producers producers producers</td>\n",
       "      <td>[kw1, kw2, kw3, kw4, kw5]</td>\n",
       "    </tr>\n",
       "    <tr>\n",
       "      <th>753225</th>\n",
       "      <td>732854</td>\n",
       "      <td></td>\n",
       "      <td>vertigo marvel comics vertigo is a fictional character appearing in american comic books published by marvel comics the character is depicted as a native of the savage land who obtained superhuman powers at a young age by genetic engineering her powers enable her to render a person severely dizzy and even unconscious vertigo is a fictional character appearing in american comic books published by marvel comics the character is depicted as a native of the savage land who obtained superhuman powers at a young age by genetic engineering her powers enable her to render a person severely dizzy and even unconscious publication history vertigo first appeared in marvel fanfare 1 march 1982 created by writer chris claremont and artist michael golden fictional character biography in her first appearance she was depicted as a member of the savage land mutates empowered by magneto with whom she first battled the xmen and spidermanmarvel fanfare 1 marauders later although not a mutant she joined the marauders a group of mutants working as assassins for the enigmatic geneticist known as mister sinisterrevealed in the uncanny xmen 211 sinister wanted his assassins to destroy a large community of mutants known as the morlocks who lived under new york city as he had deemed them genetically useless the marauders did succeed in annihilating a large number of the underground mutants while the marauders were accomplishing this they also clashed with the xmenthe uncanny xmen 210213 october 1986january 1987 xfactorxfactor 10 november 1986 thorthor 374 december 1986 and power packpower pack 27 december 1986 with the marauders she also attempted to kill madelyne pryorthe uncanny xmen 221 september 1987 sinister later sent vertigo along with the other marauders to fight the xmen in new york city just before the extradimensional incursion known as the infernothe uncanny xmen 240 january 1989 she was apparently killed in battle with the xmenthe uncanny xmen 241 february 1989 her alliance with sinister was shortlived at that time as she soon rejoined her savage land mutate allies said allies join with the more peaceful of the lands inhabitants to resist a territorial grab by humanoid saurians her powers are central in defeating the enemy army various xmen broker a peace agreement leaving the mutates to their own devices againthe uncanny xmen 457459 mayjuly 2005 vertigo and sauron encountered the new avengers in the savage land vertigo used her powers to render them all unconscious and they were all taken captive briefly until shield comes to the rescuenew avengers 5 marauderscloned vertigo is a member of mister sinisters marauders as well as living in the savage land as a marauder she has been killed and cloned various times it is unclear whether the vertigo that appears in the savage land is another clone or indeed the original vertigo though it appears that the original vertigo never left the savage land and does not have any ties with the marauders messiah complex and death vertigo later reappears as a member of the reformed maraudersxmen vol 2 200 during messiah complex she aids the marauders in search of the new mutant babynew xmen vol 2 44 january 2008 during the marauders and the acolytes first battle with the xmen in alaska she and scrambler are taken out by storm after coming into a confrontation with bishop and finally getting her hands on the baby she joins the others in the final fight between the xmen and xfactor and the marauders and the acolytes only to be killed and eaten by predator x who was teleported in by the mutant pixienew xmen vol 2 46 march 2008 a vertigo clone appears in xforce 9xforce vol 2 9 january 2009 powers and abilities vertigo is an artificially enhanced mutate possessing the ability to project waves of psionic energy into her environment which affect the nervous systems of other living beings distorting their physical perceptions and sense of balance this power induces effects ranging from mild disorientation and vertigo to unconsciousness vertigo can focus her power on one or more individuals or project it outward from herself in all directions affecting everyone within her range of influence vertigo is not immune to her own powers as she was thrown off balance when thor reflected her psychic waves back at her with mjolnir other versions age of x in the age of x reality vertigo appeared as an xmanxmen legacy 245 in other media television  vertigo appeared in xmen the animated series voiced by megan smith this version is a follower of mister sinister who genetically modified her with magnetos dna to strengthen her powers in the twopart episode reunion in the fourpart episode beyond good and evil she joins sinisters nasty boys  vertigo first appears in wolverine and the xmen voiced by vanessa marshall this version is a member of mister sinisters marauders in the episode excessive force vertigo and blockbuster pursue berzerker only to encounter cyclops while blockbuster fights him vertigo escapes to warn arclight after cyclops catches up to them she escapes once more in shades of grey vertigo joins the marauders in fighting the xmen only to be defeated by emma frost video games vertigo appears as a boss in deadpool this version is a member of mister sinisters marauders who encounter the eponymous character after they unknowingly cost him a bounty deadpool fights and kills vertigo and later does the same with several clones of her while hunting sinister references external links      vertigo on mutanthighcom  vertigo on uncannyxmennet categorycharacters created by chris claremont categorycharacters created by michael golden categoryclone characters in comics categorycomics characters introduced in 1982 categoryfictional mercenaries in comics categorymarvel comics female supervillains categorymarvel comics mutates</td>\n",
       "      <td>[kw1, kw2, kw3, kw4, kw5]</td>\n",
       "    </tr>\n",
       "    <tr>\n",
       "      <th>753393</th>\n",
       "      <td>732855</td>\n",
       "      <td></td>\n",
       "      <td>caribbean geography stubs caribbean  geography caribbean  geography</td>\n",
       "      <td>[kw1, kw2, kw3, kw4, kw5]</td>\n",
       "    </tr>\n",
       "    <tr>\n",
       "      <th>753815</th>\n",
       "      <td>732824</td>\n",
       "      <td></td>\n",
       "      <td>2000s albums this category contains articles about albums released in the 2000s from 2000 to 2009 albums this category contains articles about albums released in the 2000s from 2000 to 2009 albums</td>\n",
       "      <td>[kw1, kw2, kw3, kw4, kw5]</td>\n",
       "    </tr>\n",
       "    <tr>\n",
       "      <th>753868</th>\n",
       "      <td>732501</td>\n",
       "      <td></td>\n",
       "      <td>nazi concentration camp survivors survivors of the nazi concentration camps survivors of the nazi concentration camps see also categoryjewish resistance during the holocaust   categoryholocaust survivors categorycategories requiring diffusion</td>\n",
       "      <td>[kw1, kw2, kw3, kw4, kw5]</td>\n",
       "    </tr>\n",
       "  </tbody>\n",
       "</table>\n",
       "</div>"
      ],
      "text/plain": [
       "            id question  \\\n",
       "495496  732546            \n",
       "495581  732547            \n",
       "495626  732548            \n",
       "753086  732745            \n",
       "753168  732827            \n",
       "753210  732853            \n",
       "753225  732854            \n",
       "753393  732855            \n",
       "753815  732824            \n",
       "753868  732501            \n",
       "\n",
       "                                                                                                                                                                                                                                                                                                                                                                                                                                                                                                                                                                                                                                                                                                                                                                                                                                                                                                                                                                                                                                                                                                                                                                                                                                                                                                                                                                                                                                                                                                                                                                                                                                                                                                                                                                                                                                                                                                                                                                                                                                                                                                                                                                                                                                                                                                                                                                                                                                                                                                                                                                                                                                                                                                                                                                                                                                                                                                                                                                                                                                                                                                                                                                                                                                                                                                                                                                                                                                                                                                                                                                                                                                                                                                                                                                                                                                                                                                                                                                                                                                                                                                                                                                                                                                                                                                                                                                                                                                                                                                                                                                                                                                                                                                                                                                                                                                                                                                                                                                                                                                                                                                                                                                                                                                                                                                                                                                                                                                                                                                                                                                                                                                                                                                                                                                                                                                                                                                                                                                                                                                                                  answer  \\\n",
       "495496                                                                                                                                                                                                                                                                                                                                                                                                                                                                                                                                                                                                                                                                                                                                                                                                                                                                                                                                                                                                                                                                                                                                                                                                                                                                                                                                                                                                                                                                                                                                                                                                                                                                                                                                                                                                                                                                                                                                                                                                                                                                                                                                                                                                                                                                                                                                                                                                                                                                                                                                                                                                                                                                                                                                                                                                                                                                                                                                                                                                                                                                                                                                                                                                                                                                                                                                                                                                                                                                                                                                                                                                                                                                                                                                                                                                                                                                                                                                                                                                                                                                                                                                                                                                                                                                                                                                                                                                                                                                                                                                                                                                                                                                                                                                                                                                                                                                                                                                                                                                                                                                                                                                                                                                                                                                                                                                                                                                                                                                                                                                                                                                                                                                                                                                                                                                                                                                                                                                                                         asian culture asian culture categoryeastern culture asian culture categoryeastern culture   \n",
       "495581                                                                                                                                                                                                                                                                                                                                                                                                                                                                                                                                                                                                                                                                                                                                                                                                                                                                                                                                                                                                                                                                                                                                                                                                                                                                                                                                                                                                                                                                                                                                                                                                                                                                                                                                                                                                                                                                                                                                                                                                                                                                                                                                                                                                                                                                                                                                                                                                                                                                                                                                                                                                                                                                                                                                                                                                                                                                                                                                                                                                                                                                                                                                                                                                                                                                                                                                                                                                                                                                                                                                                                                                                                                                                                                                                                                                                                                                                                                                                                                                                                                                                                                                                                                                                                                                                                                                                                                                                                                                                                                                                                                                                                                                                                                                                                                                                                                                                                                                                                                                                                                                                                                                                                                                                                                                                                                                                                                                                                                                                                                                                                                                                                                                                                                                                                       a dame to kill forjpg the sin city graphic novels will be reprinted and given new covers in the months leading up to the sin city movie categorysin city the sin city graphic novels will be reprinted and given new covers in the months leading up to the sin city movie categorysin city   \n",
       "495626                                                                                                                                                                                                                                                                                                                                                                                                                                                                                                                                                                                                                                                                                                                                                                                                                                                                                                                                                                                                                                                                                                                                                                                                                                                                                                                                                                                                                                                                                                                                                                                                                                                                                                                                                                                                                                                                                                                                                                                                                                                                                                                                                                                                                                                                                                                                                                                                                                                                                                                                                                                                                                                                                                                                                                                                                                                                                                                                                                                                                                                                                                                                                                                                                                                                                                                                                                                                                                                                                                                                                                                                                                                                                                                                                                                                                                                                                                                                                                                                                                                                                                                                                                                                                                                                                                                                                                                                                                                                                                                                                                                                                                                                                                                                                                                                                                                                                                                                                                                                                                                                                                                                                                                                                                                                                                                                                                                                                                                                                                                                                                                                                                                                                                                                                                                                           ailments of unknown cause illnesses of unknown or unsettled etiology unknown categoryunsolved problems in biology categorycause medicine illnesses of unknown or unsettled etiology unknown categoryunsolved problems in biology categorycause medicine   \n",
       "753086                                                                                                                                                                                                                                                                                                                                                                                                                                                                                                                                                                                                                                                                                                                                                                                                                                                                                                                                                                                                                                                                                                                                                                                                                                                                                                                                                                                                                                                                                                                                                                                                                                                                                                                                                                                                                                                                                                                                                                                                                                                                                                                                                                                                                                                                                                                                                                                                                                                                                                                                                                                                                                                                                                                                                                                                                                                                                                                                                                                                                                                                                                                                                                                                                                                                                                                                                                                                                                                                                                                                                                                                                                                                                                                                                                                                                                                                                                                                                                                                                                                                                                                                                                                                                                                                                                                                                                                                                                                                                                                                                                                                                                                                                                                                                                                                                                                                                                                                                                                                                                                                                                                                                                                                                                                                                                                                                                                                                                                                                                                                                                                                                                                                                                                                                                                                                                                                                                                                                                arch bridges categorybridges by structural type bridges categorybridges by structural type bridges   \n",
       "753168                                                                                                                                                                                                                                                                                                                                                                                                                                                                                                                                                                                                                                                                                                                                                                                                                                                                                                                                                                                                                                                                                                                                                                                                                                                                                                                                                                                                                                                                                                                                                                                                                                                                                                                                                                                                                                                                                                                                                                                                                                                                                                                                                                                                                                                                                                                                                                                                                                                                                                                                                                                                                                                                                                                                                                                                                                                                                                                                                                                                                                                                                                                                                                                                                                                                                                                                                                                                                                                                                                                                                                                                                                                                                                                                                                                                                                                                                                                                                                                                                                                                                                                                                                                                                                                                                                                                                                                                                                                                                                                                                                                                                                                                                                                                                                                                                                                                                                                                                                                                                                                                                                                                                                                                                                                                                                                                                                                                                                                                                                                                                                                                                                                                                                                                                                                                                                                                                                                                                        bosnia and herzegovina geography stubs bosnia and herzegovina  geography bosnia and herzegovina  geography   \n",
       "753210                                                                                                                                                                                                                                                                                                                                                                                                                                                                                                                                                                                                                                                                                                                                                                                                                                                                                                                                                                                                                                                                                                                                                                                                                                                                                                                                                                                                                                                                                                                                                                                                                                                                                                                                                                                                                                                                                                                                                                                                                                                                                                                                                                                                                                                                                                                                                                                                                                                                                                                                                                                                                                                                                                                                                                                                                                                                                                                                                                                                                                                                                                                                                                                                                                                                                                                                                                                                                                                                                                                                                                                                                                                                                                                                                                                                                                                                                                                                                                                                                                                                                                                                                                                                                                                                                                                                                                                                                                                                                                                                                                                                                                                                                                                                                                                                                                                                                                                                                                                                                                                                                                                                                                                                                                                                                                                                                                                                                                                                                                                                                                                                                                                                                                                                                                                                                                                                                                                                           indian film producers categoryasian film producers producers producers categoryasian film producers producers producers   \n",
       "753225  vertigo marvel comics vertigo is a fictional character appearing in american comic books published by marvel comics the character is depicted as a native of the savage land who obtained superhuman powers at a young age by genetic engineering her powers enable her to render a person severely dizzy and even unconscious vertigo is a fictional character appearing in american comic books published by marvel comics the character is depicted as a native of the savage land who obtained superhuman powers at a young age by genetic engineering her powers enable her to render a person severely dizzy and even unconscious publication history vertigo first appeared in marvel fanfare 1 march 1982 created by writer chris claremont and artist michael golden fictional character biography in her first appearance she was depicted as a member of the savage land mutates empowered by magneto with whom she first battled the xmen and spidermanmarvel fanfare 1 marauders later although not a mutant she joined the marauders a group of mutants working as assassins for the enigmatic geneticist known as mister sinisterrevealed in the uncanny xmen 211 sinister wanted his assassins to destroy a large community of mutants known as the morlocks who lived under new york city as he had deemed them genetically useless the marauders did succeed in annihilating a large number of the underground mutants while the marauders were accomplishing this they also clashed with the xmenthe uncanny xmen 210213 october 1986january 1987 xfactorxfactor 10 november 1986 thorthor 374 december 1986 and power packpower pack 27 december 1986 with the marauders she also attempted to kill madelyne pryorthe uncanny xmen 221 september 1987 sinister later sent vertigo along with the other marauders to fight the xmen in new york city just before the extradimensional incursion known as the infernothe uncanny xmen 240 january 1989 she was apparently killed in battle with the xmenthe uncanny xmen 241 february 1989 her alliance with sinister was shortlived at that time as she soon rejoined her savage land mutate allies said allies join with the more peaceful of the lands inhabitants to resist a territorial grab by humanoid saurians her powers are central in defeating the enemy army various xmen broker a peace agreement leaving the mutates to their own devices againthe uncanny xmen 457459 mayjuly 2005 vertigo and sauron encountered the new avengers in the savage land vertigo used her powers to render them all unconscious and they were all taken captive briefly until shield comes to the rescuenew avengers 5 marauderscloned vertigo is a member of mister sinisters marauders as well as living in the savage land as a marauder she has been killed and cloned various times it is unclear whether the vertigo that appears in the savage land is another clone or indeed the original vertigo though it appears that the original vertigo never left the savage land and does not have any ties with the marauders messiah complex and death vertigo later reappears as a member of the reformed maraudersxmen vol 2 200 during messiah complex she aids the marauders in search of the new mutant babynew xmen vol 2 44 january 2008 during the marauders and the acolytes first battle with the xmen in alaska she and scrambler are taken out by storm after coming into a confrontation with bishop and finally getting her hands on the baby she joins the others in the final fight between the xmen and xfactor and the marauders and the acolytes only to be killed and eaten by predator x who was teleported in by the mutant pixienew xmen vol 2 46 march 2008 a vertigo clone appears in xforce 9xforce vol 2 9 january 2009 powers and abilities vertigo is an artificially enhanced mutate possessing the ability to project waves of psionic energy into her environment which affect the nervous systems of other living beings distorting their physical perceptions and sense of balance this power induces effects ranging from mild disorientation and vertigo to unconsciousness vertigo can focus her power on one or more individuals or project it outward from herself in all directions affecting everyone within her range of influence vertigo is not immune to her own powers as she was thrown off balance when thor reflected her psychic waves back at her with mjolnir other versions age of x in the age of x reality vertigo appeared as an xmanxmen legacy 245 in other media television  vertigo appeared in xmen the animated series voiced by megan smith this version is a follower of mister sinister who genetically modified her with magnetos dna to strengthen her powers in the twopart episode reunion in the fourpart episode beyond good and evil she joins sinisters nasty boys  vertigo first appears in wolverine and the xmen voiced by vanessa marshall this version is a member of mister sinisters marauders in the episode excessive force vertigo and blockbuster pursue berzerker only to encounter cyclops while blockbuster fights him vertigo escapes to warn arclight after cyclops catches up to them she escapes once more in shades of grey vertigo joins the marauders in fighting the xmen only to be defeated by emma frost video games vertigo appears as a boss in deadpool this version is a member of mister sinisters marauders who encounter the eponymous character after they unknowingly cost him a bounty deadpool fights and kills vertigo and later does the same with several clones of her while hunting sinister references external links      vertigo on mutanthighcom  vertigo on uncannyxmennet categorycharacters created by chris claremont categorycharacters created by michael golden categoryclone characters in comics categorycomics characters introduced in 1982 categoryfictional mercenaries in comics categorymarvel comics female supervillains categorymarvel comics mutates   \n",
       "753393                                                                                                                                                                                                                                                                                                                                                                                                                                                                                                                                                                                                                                                                                                                                                                                                                                                                                                                                                                                                                                                                                                                                                                                                                                                                                                                                                                                                                                                                                                                                                                                                                                                                                                                                                                                                                                                                                                                                                                                                                                                                                                                                                                                                                                                                                                                                                                                                                                                                                                                                                                                                                                                                                                                                                                                                                                                                                                                                                                                                                                                                                                                                                                                                                                                                                                                                                                                                                                                                                                                                                                                                                                                                                                                                                                                                                                                                                                                                                                                                                                                                                                                                                                                                                                                                                                                                                                                                                                                                                                                                                                                                                                                                                                                                                                                                                                                                                                                                                                                                                                                                                                                                                                                                                                                                                                                                                                                                                                                                                                                                                                                                                                                                                                                                                                                                                                                                                                                                                                                               caribbean geography stubs caribbean  geography caribbean  geography   \n",
       "753815                                                                                                                                                                                                                                                                                                                                                                                                                                                                                                                                                                                                                                                                                                                                                                                                                                                                                                                                                                                                                                                                                                                                                                                                                                                                                                                                                                                                                                                                                                                                                                                                                                                                                                                                                                                                                                                                                                                                                                                                                                                                                                                                                                                                                                                                                                                                                                                                                                                                                                                                                                                                                                                                                                                                                                                                                                                                                                                                                                                                                                                                                                                                                                                                                                                                                                                                                                                                                                                                                                                                                                                                                                                                                                                                                                                                                                                                                                                                                                                                                                                                                                                                                                                                                                                                                                                                                                                                                                                                                                                                                                                                                                                                                                                                                                                                                                                                                                                                                                                                                                                                                                                                                                                                                                                                                                                                                                                                                                                                                                                                                                                                                                                                                                                                                                                                                                                              2000s albums this category contains articles about albums released in the 2000s from 2000 to 2009 albums this category contains articles about albums released in the 2000s from 2000 to 2009 albums   \n",
       "753868                                                                                                                                                                                                                                                                                                                                                                                                                                                                                                                                                                                                                                                                                                                                                                                                                                                                                                                                                                                                                                                                                                                                                                                                                                                                                                                                                                                                                                                                                                                                                                                                                                                                                                                                                                                                                                                                                                                                                                                                                                                                                                                                                                                                                                                                                                                                                                                                                                                                                                                                                                                                                                                                                                                                                                                                                                                                                                                                                                                                                                                                                                                                                                                                                                                                                                                                                                                                                                                                                                                                                                                                                                                                                                                                                                                                                                                                                                                                                                                                                                                                                                                                                                                                                                                                                                                                                                                                                                                                                                                                                                                                                                                                                                                                                                                                                                                                                                                                                                                                                                                                                                                                                                                                                                                                                                                                                                                                                                                                                                                                                                                                                                                                                                                                                                                                                nazi concentration camp survivors survivors of the nazi concentration camps survivors of the nazi concentration camps see also categoryjewish resistance during the holocaust   categoryholocaust survivors categorycategories requiring diffusion   \n",
       "\n",
       "                         keywords  \n",
       "495496  [kw1, kw2, kw3, kw4, kw5]  \n",
       "495581  [kw1, kw2, kw3, kw4, kw5]  \n",
       "495626  [kw1, kw2, kw3, kw4, kw5]  \n",
       "753086  [kw1, kw2, kw3, kw4, kw5]  \n",
       "753168  [kw1, kw2, kw3, kw4, kw5]  \n",
       "753210  [kw1, kw2, kw3, kw4, kw5]  \n",
       "753225  [kw1, kw2, kw3, kw4, kw5]  \n",
       "753393  [kw1, kw2, kw3, kw4, kw5]  \n",
       "753815  [kw1, kw2, kw3, kw4, kw5]  \n",
       "753868  [kw1, kw2, kw3, kw4, kw5]  "
      ]
     },
     "execution_count": 13,
     "metadata": {},
     "output_type": "execute_result"
    }
   ],
   "source": [
    "print('Cur Chunk Start')\n",
    "cur_chunk.head(10)"
   ]
  },
  {
   "cell_type": "code",
   "execution_count": null,
   "id": "9359fa75-d5a1-407e-aa9e-c280dcc23b6f",
   "metadata": {},
   "outputs": [],
   "source": [
    "print('Cur Chunk End')\n",
    "cur_chunk.tail(10)"
   ]
  },
  {
   "cell_type": "code",
   "execution_count": null,
   "id": "02091dc9-df2a-4429-b301-94a373ce9f4a",
   "metadata": {},
   "outputs": [],
   "source": [
    "print('Next Chunk Start')\n",
    "next_chunk.head(10)"
   ]
  },
  {
   "cell_type": "code",
   "execution_count": null,
   "id": "667f2d31-4798-4d40-9580-73d845592a9d",
   "metadata": {},
   "outputs": [],
   "source": [
    "print('Next Chunk End')\n",
    "next_chunk.tail(10)"
   ]
  },
  {
   "cell_type": "code",
   "execution_count": null,
   "id": "d6ea0c15-816f-4a56-834a-b3f370a25804",
   "metadata": {},
   "outputs": [],
   "source": [
    "# Save next chunk to csv\n",
    "next_chunk.to_csv('biology.csv')"
   ]
  },
  {
   "cell_type": "code",
   "execution_count": null,
   "id": "489bf054-02e8-4efc-a185-ec6402a50597",
   "metadata": {},
   "outputs": [],
   "source": [
    "input_df = pd.read_csv('Automotive.csv')\n",
    "# input_df.drop('index', axis=1, inplace=True)\n",
    "# input_df.sort_values('question', inplace=True)\n",
    "\n",
    "# check if any id is null\n",
    "input_df.head(10)"
   ]
  },
  {
   "cell_type": "code",
   "execution_count": null,
   "id": "4af44aff-64bf-4b1f-b84f-320484800f14",
   "metadata": {},
   "outputs": [],
   "source": [
    "node_df.dtypes\n",
    "input_df.dtypes"
   ]
  },
  {
   "cell_type": "code",
   "execution_count": null,
   "id": "53d73577-38f3-4e23-a9e9-1e5e2319c41a",
   "metadata": {},
   "outputs": [],
   "source": [
    "def escape(s):\n",
    "    result = \"\"\n",
    "    for c in s:\n",
    "        if c == \"'\":\n",
    "            result += \"''\"  # Escape single quote with another single quote\n",
    "        elif c == '\"':\n",
    "            result += '\\\\\"'  # Escape double quote\n",
    "        elif c == '\\\\':\n",
    "            result += '\\\\\\\\'  # Escape backslash\n",
    "        else:\n",
    "            result += c\n",
    "    return result"
   ]
  },
  {
   "cell_type": "code",
   "execution_count": null,
   "id": "a775bf4a-5074-40f3-a9b3-bfe89ac33dfc",
   "metadata": {},
   "outputs": [],
   "source": [
    "diff = []\n",
    "for (index1, row1), (index2, row2) in zip(node_df.iterrows(), input_df.iterrows()):\n",
    "    r1 = row1['question'].strip()\n",
    "    r2 = row2['question'].strip()\n",
    "    if r1 != r2:\n",
    "        print(r1, '\\n\\n', r2)\n",
    "        break\n",
    "        diff.append(index1)\n",
    "len(diff)"
   ]
  },
  {
   "cell_type": "code",
   "execution_count": null,
   "id": "fef8b24a-db20-40ca-8f84-8735295798fd",
   "metadata": {},
   "outputs": [],
   "source": []
  }
 ],
 "metadata": {
  "kernelspec": {
   "display_name": "Python 3 (ipykernel)",
   "language": "python",
   "name": "python3"
  },
  "language_info": {
   "codemirror_mode": {
    "name": "ipython",
    "version": 3
   },
   "file_extension": ".py",
   "mimetype": "text/x-python",
   "name": "python",
   "nbconvert_exporter": "python",
   "pygments_lexer": "ipython3",
   "version": "3.11.6"
  }
 },
 "nbformat": 4,
 "nbformat_minor": 5
}
