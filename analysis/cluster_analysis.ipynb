{
 "cells": [
  {
   "cell_type": "code",
   "execution_count": null,
   "id": "c4f18981-bca1-4184-99a2-d2aca30b6b5a",
   "metadata": {},
   "outputs": [],
   "source": [
    "%pip install psycopg2-binary pandas pyarrow"
   ]
  },
  {
   "cell_type": "code",
   "execution_count": null,
   "id": "a8f4e699-bea5-4425-8b1f-07f3a6b3b741",
   "metadata": {},
   "outputs": [],
   "source": [
    "topics = []\n",
    "with open(\"../inputs/topics.txt\", \"r\") as file:\n",
    "    topics = file.read().split()\n",
    "topics"
   ]
  },
  {
   "cell_type": "code",
   "execution_count": null,
   "id": "28b42465-e721-4b56-a53a-4c0a3c6483ca",
   "metadata": {},
   "outputs": [],
   "source": [
    "from collections import defaultdict\n",
    "from psycopg2 import sql\n",
    "import psycopg2\n",
    "import pandas as pd"
   ]
  },
  {
   "cell_type": "code",
   "execution_count": null,
   "id": "3b79390c-ed57-41f4-a866-0e72821d0655",
   "metadata": {},
   "outputs": [],
   "source": [
    "def get_column_names(conn, table):\n",
    "    \"\"\"\n",
    "    Fetches and prints the column names of a specified table.\n",
    "    \"\"\"\n",
    "    query = sql.SQL(\"\"\"\n",
    "        SELECT column_name \n",
    "        FROM information_schema.columns \n",
    "        WHERE table_name = %s\n",
    "        ORDER BY ordinal_position;\n",
    "    \"\"\")\n",
    "    cur = conn.cursor()\n",
    "    cur.execute(query, (table,))\n",
    "    columns = cur.fetchall()\n",
    "    cur.close()\n",
    "    return [col[0] for col in columns]"
   ]
  },
  {
   "cell_type": "code",
   "execution_count": null,
   "id": "c2af9116-ac31-446d-b447-f245d644a277",
   "metadata": {},
   "outputs": [],
   "source": [
    "dbname = \"db\"  # internal database name\n",
    "username = \"user\"\n",
    "password = \"password\"\n",
    "\n",
    "table = \"test\"  # Name of table to query"
   ]
  },
  {
   "cell_type": "markdown",
   "id": "f842b7af-d036-475e-9ee3-df27e79396b4",
   "metadata": {},
   "source": [
    "# QUERY ON ALL TOPIC NODES"
   ]
  },
  {
   "cell_type": "code",
   "execution_count": null,
   "id": "afbe9d91-a460-47b8-99e9-db9fb4178584",
   "metadata": {},
   "outputs": [],
   "source": [
    "count_topic = defaultdict(int)\n",
    "\n",
    "for topic in topics:\n",
    "    conn = psycopg2.connect(\n",
    "                dbname=dbname,\n",
    "                user=username,\n",
    "                password=password,\n",
    "                host=topic,\n",
    "            )\n",
    "\n",
    "    # Prepare and execute the query\n",
    "    query = sql.SQL(\"SELECT id, question, answer, keywords FROM {}\").format(sql.Identifier(table))\n",
    "    try:\n",
    "        with conn.cursor() as cur:\n",
    "            cur.execute(query)\n",
    "            rows = cur.fetchall()\n",
    "            count_topic[topic] = len(rows)\n",
    "    except psycopg2.errors.UndefinedTable:  # Handle table not found error\n",
    "        print(f\"Table '{table}' does not exist in database '{dbname}' on node '{topic}'\")\n",
    "        count_topic[topic] = 0  # Or handle the case as you see fit\n",
    "    finally:\n",
    "        conn.close()\n"
   ]
  },
  {
   "cell_type": "code",
   "execution_count": null,
   "id": "3494dd9b-c2fd-4697-8a78-842e78c0e58a",
   "metadata": {},
   "outputs": [],
   "source": [
    "# sort by desending frequency\n",
    "count_topic = dict(sorted(count_topic.items(), key=lambda x: x[1], reverse=True))\n",
    "\n",
    "print('Num Topic:', len(count_topic))\n",
    "total = sum(count_topic.values())\n",
    "\n",
    "print(count_topic)\n",
    "print(total)"
   ]
  },
  {
   "cell_type": "markdown",
   "id": "a6f12714-23e7-4112-8cd3-f0fbeaf3dddd",
   "metadata": {},
   "source": [
    "# CUSTOM QUERY ON SINGLE NODE\n"
   ]
  },
  {
   "cell_type": "code",
   "execution_count": null,
   "id": "e0328a4f-e611-4560-ac60-338a3b3d681c",
   "metadata": {},
   "outputs": [],
   "source": [
    "count_topic = defaultdict(int)\n",
    "\n",
    "# test for topic[0]\n",
    "topic = 'Biology'\n",
    "conn = psycopg2.connect(\n",
    "        dbname=dbname,\n",
    "        user=username,\n",
    "        password=password,\n",
    "        host=topic,\n",
    "    )\n",
    "\n",
    "query = sql.SQL(\"SELECT id, question, answer, keywords FROM {}\").format(sql.Identifier(table))\n",
    "\n",
    "try:\n",
    "    with conn.cursor() as cur:\n",
    "        header = get_column_names(conn, table)\n",
    "        cur.execute(query)\n",
    "        rows = cur.fetchall()\n",
    "except psycopg2.errors.UndefinedTable:  # Handle table not found error\n",
    "    print(f\"Table '{table}' does not exist in database '{dbname}' on node '{topic}'\")\n",
    "finally:\n",
    "    conn.close()\n",
    "\n",
    "print(header)"
   ]
  },
  {
   "cell_type": "code",
   "execution_count": null,
   "id": "99b8cb3c-094d-4a87-9205-0cdea26af7fc",
   "metadata": {},
   "outputs": [],
   "source": [
    "def get_chunk(node_df, start, end):\n",
    "    chunk_df = node_df[(node_df['id'] >= start) & (node_df['id'] <= end)]\n",
    "\n",
    "    return chunk_df"
   ]
  },
  {
   "cell_type": "code",
   "execution_count": null,
   "id": "0eb98b23-db5a-4b4f-958e-3bbc8b6e0675",
   "metadata": {},
   "outputs": [],
   "source": [
    "node_df = pd.DataFrame(rows, columns=header[:-1])\n",
    "# node_df.sort_values('id', inplace=True)\n",
    "# node_df.head(10)\n",
    "\n",
    "# for idx, row in node_df[114495:115015].iterrows():\n",
    "#     # print(row['id'])\n",
    "#     print(row['question'], row['answer'])\n",
    "\n",
    "cur_chunk = get_chunk(node_df, 732501, 733000)\n",
    "next_chunk = get_chunk(node_df, 733001, 733501)\n",
    "\n",
    "# Display rows with null 'id'\n",
    "# null_id_rows = node_df[pd.isnull(node_df['id'])]\n",
    "# print(null_id_rows)"
   ]
  },
  {
   "cell_type": "code",
   "execution_count": null,
   "id": "3e5948a9-0016-46cb-8a02-42c9269c8ca6",
   "metadata": {},
   "outputs": [],
   "source": [
    "print('Cur Chunk Start')\n",
    "cur_chunk.head(10)"
   ]
  },
  {
   "cell_type": "code",
   "execution_count": null,
   "id": "9359fa75-d5a1-407e-aa9e-c280dcc23b6f",
   "metadata": {},
   "outputs": [],
   "source": [
    "print('Cur Chunk End')\n",
    "cur_chunk.tail(10)"
   ]
  },
  {
   "cell_type": "code",
   "execution_count": null,
   "id": "02091dc9-df2a-4429-b301-94a373ce9f4a",
   "metadata": {},
   "outputs": [],
   "source": [
    "print('Next Chunk Start')\n",
    "next_chunk.head(10)"
   ]
  },
  {
   "cell_type": "code",
   "execution_count": null,
   "id": "667f2d31-4798-4d40-9580-73d845592a9d",
   "metadata": {},
   "outputs": [],
   "source": [
    "print('Next Chunk End')\n",
    "next_chunk.tail(10)"
   ]
  },
  {
   "cell_type": "code",
   "execution_count": null,
   "id": "d6ea0c15-816f-4a56-834a-b3f370a25804",
   "metadata": {},
   "outputs": [],
   "source": [
    "# Save next chunk to csv\n",
    "next_chunk.to_csv('biology.csv')"
   ]
  },
  {
   "cell_type": "code",
   "execution_count": null,
   "id": "489bf054-02e8-4efc-a185-ec6402a50597",
   "metadata": {},
   "outputs": [],
   "source": [
    "input_df = pd.read_csv('Automotive.csv')\n",
    "# input_df.drop('index', axis=1, inplace=True)\n",
    "# input_df.sort_values('question', inplace=True)\n",
    "\n",
    "# check if any id is null\n",
    "input_df.head(10)"
   ]
  },
  {
   "cell_type": "code",
   "execution_count": null,
   "id": "4af44aff-64bf-4b1f-b84f-320484800f14",
   "metadata": {},
   "outputs": [],
   "source": [
    "node_df.dtypes\n",
    "input_df.dtypes"
   ]
  },
  {
   "cell_type": "code",
   "execution_count": null,
   "id": "53d73577-38f3-4e23-a9e9-1e5e2319c41a",
   "metadata": {},
   "outputs": [],
   "source": [
    "def escape(s):\n",
    "    result = \"\"\n",
    "    for c in s:\n",
    "        if c == \"'\":\n",
    "            result += \"''\"  # Escape single quote with another single quote\n",
    "        elif c == '\"':\n",
    "            result += '\\\\\"'  # Escape double quote\n",
    "        elif c == '\\\\':\n",
    "            result += '\\\\\\\\'  # Escape backslash\n",
    "        else:\n",
    "            result += c\n",
    "    return result"
   ]
  },
  {
   "cell_type": "code",
   "execution_count": null,
   "id": "a775bf4a-5074-40f3-a9b3-bfe89ac33dfc",
   "metadata": {},
   "outputs": [],
   "source": [
    "diff = []\n",
    "for (index1, row1), (index2, row2) in zip(node_df.iterrows(), input_df.iterrows()):\n",
    "    r1 = row1['question'].strip()\n",
    "    r2 = row2['question'].strip()\n",
    "    if r1 != r2:\n",
    "        print(r1, '\\n\\n', r2)\n",
    "        break\n",
    "        diff.append(index1)\n",
    "len(diff)"
   ]
  },
  {
   "cell_type": "code",
   "execution_count": null,
   "id": "fef8b24a-db20-40ca-8f84-8735295798fd",
   "metadata": {},
   "outputs": [],
   "source": []
  }
 ],
 "metadata": {
  "kernelspec": {
   "display_name": "Python 3 (ipykernel)",
   "language": "python",
   "name": "python3"
  },
  "language_info": {
   "codemirror_mode": {
    "name": "ipython",
    "version": 3
   },
   "file_extension": ".py",
   "mimetype": "text/x-python",
   "name": "python",
   "nbconvert_exporter": "python",
   "pygments_lexer": "ipython3",
   "version": "3.11.9"
  }
 },
 "nbformat": 4,
 "nbformat_minor": 5
}
