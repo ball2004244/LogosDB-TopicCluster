{
 "cells": [
  {
   "cell_type": "code",
   "execution_count": 1,
   "metadata": {},
   "outputs": [
    {
     "name": "stdout",
     "output_type": "stream",
     "text": [
      "Requirement already satisfied: psycopg2-binary in /opt/conda/lib/python3.11/site-packages (2.9.9)\n",
      "Requirement already satisfied: rich in /opt/conda/lib/python3.11/site-packages (13.8.0)\n",
      "Requirement already satisfied: markdown-it-py>=2.2.0 in /opt/conda/lib/python3.11/site-packages (from rich) (3.0.0)\n",
      "Requirement already satisfied: pygments<3.0.0,>=2.13.0 in /opt/conda/lib/python3.11/site-packages (from rich) (2.16.1)\n",
      "Requirement already satisfied: mdurl~=0.1 in /opt/conda/lib/python3.11/site-packages (from markdown-it-py>=2.2.0->rich) (0.1.2)\n",
      "Note: you may need to restart the kernel to use updated packages.\n"
     ]
    }
   ],
   "source": [
    "%pip install psycopg2-binary rich"
   ]
  },
  {
   "cell_type": "code",
   "execution_count": 2,
   "metadata": {},
   "outputs": [],
   "source": [
    "from datetime import datetime\n",
    "from collections import defaultdict\n",
    "from psycopg2 import sql\n",
    "from rich import print\n",
    "import psycopg2\n",
    "import sys"
   ]
  },
  {
   "cell_type": "markdown",
   "metadata": {},
   "source": [
    "# HELPER FUNCTIONS"
   ]
  },
  {
   "cell_type": "code",
   "execution_count": 3,
   "metadata": {},
   "outputs": [],
   "source": [
    "def log(message: str) -> None:\n",
    "    \"\"\"\n",
    "    Logs a message to the console.\n",
    "    \"\"\"\n",
    "    print(message)\n",
    "    with open(\"sumdb_log.txt\", \"a\") as log_file:\n",
    "        log_file.write(message + \"\\n\")"
   ]
  },
  {
   "cell_type": "code",
   "execution_count": 4,
   "metadata": {},
   "outputs": [],
   "source": [
    "def get_column_names(conn, table):\n",
    "    \"\"\"\n",
    "    Fetches and logs the column names of a specified table.\n",
    "    \"\"\"\n",
    "    query = sql.SQL(\"\"\"\n",
    "        SELECT column_name \n",
    "        FROM information_schema.columns \n",
    "        WHERE table_name = %s\n",
    "        ORDER BY ordinal_position;\n",
    "    \"\"\")\n",
    "    cur = conn.cursor()\n",
    "    cur.execute(query, (table,))\n",
    "    columns = cur.fetchall()\n",
    "    cur.close()\n",
    "    return [col[0] for col in columns]"
   ]
  },
  {
   "cell_type": "markdown",
   "metadata": {},
   "source": [
    "# OVERVIEW OF SUMDB"
   ]
  },
  {
   "cell_type": "code",
   "execution_count": 5,
   "metadata": {},
   "outputs": [],
   "source": [
    "dirs = '../inputs'\n",
    "filename = \"input.csv\"\n",
    "topicFileName = \"topics.txt\"\n",
    "\n",
    "inputFilePath = f\"{dirs}/{filename}\"\n",
    "topicFilePath = f\"{dirs}/{topicFileName}\""
   ]
  },
  {
   "cell_type": "code",
   "execution_count": 6,
   "metadata": {},
   "outputs": [
    {
     "data": {
      "text/html": [
       "<pre style=\"white-space:pre;overflow-x:auto;line-height:normal;font-family:Menlo,'DejaVu Sans Mono',consolas,'Courier New',monospace\">Number of true topics: <span style=\"color: #008080; text-decoration-color: #008080; font-weight: bold\">1</span>\n",
       "</pre>\n"
      ],
      "text/plain": [
       "Number of true topics: \u001b[1;36m1\u001b[0m\n"
      ]
     },
     "metadata": {},
     "output_type": "display_data"
    },
    {
     "data": {
      "text/html": [
       "<pre style=\"white-space:pre;overflow-x:auto;line-height:normal;font-family:Menlo,'DejaVu Sans Mono',consolas,'Courier New',monospace\"><span style=\"color: #00ff00; text-decoration-color: #00ff00; font-style: italic\">True</span> topics: <span style=\"font-weight: bold\">[</span><span style=\"color: #008000; text-decoration-color: #008000\">'Computer-Science'</span><span style=\"font-weight: bold\">]</span>\n",
       "</pre>\n"
      ],
      "text/plain": [
       "\u001b[3;92mTrue\u001b[0m topics: \u001b[1m[\u001b[0m\u001b[32m'Computer-Science'\u001b[0m\u001b[1m]\u001b[0m\n"
      ]
     },
     "metadata": {},
     "output_type": "display_data"
    }
   ],
   "source": [
    "# find len\n",
    "with open(topicFilePath, 'r') as file:\n",
    "    true_topics = file.readlines()\n",
    "    true_topics = [topic.strip() for topic in true_topics]\n",
    "    \n",
    "print(f\"Number of true topics: {len(true_topics)}\")\n",
    "print(f\"True topics: {true_topics}\")"
   ]
  },
  {
   "cell_type": "code",
   "execution_count": 7,
   "metadata": {},
   "outputs": [],
   "source": [
    "db_topic = \"logosdb-sumdb\"  # using localhost for now\n",
    "port = \"5432\"\n",
    "dbname = \"db\"  # internal database name\n",
    "username = \"user\"\n",
    "password = \"password\"\n",
    "\n",
    "table = \"test\"  # Name of table to query"
   ]
  },
  {
   "cell_type": "code",
   "execution_count": 8,
   "metadata": {},
   "outputs": [
    {
     "data": {
      "text/html": [
       "<pre style=\"white-space:pre;overflow-x:auto;line-height:normal;font-family:Menlo,'DejaVu Sans Mono',consolas,'Courier New',monospace\"><span style=\"font-weight: bold\">[</span><span style=\"color: #008080; text-decoration-color: #008080; font-weight: bold\">2024</span>-<span style=\"color: #008080; text-decoration-color: #008080; font-weight: bold\">08</span>-<span style=\"color: #008080; text-decoration-color: #008080; font-weight: bold\">26</span> <span style=\"color: #00ff00; text-decoration-color: #00ff00; font-weight: bold\">19:20:46</span><span style=\"font-weight: bold\">]</span> Connected to database <span style=\"color: #008000; text-decoration-color: #008000\">'db'</span> on logosdb-sum<span style=\"color: #00ff00; text-decoration-color: #00ff00; font-weight: bold\">db:5432</span> as <span style=\"color: #008000; text-decoration-color: #008000\">'user'</span>\n",
       "</pre>\n"
      ],
      "text/plain": [
       "\u001b[1m[\u001b[0m\u001b[1;36m2024\u001b[0m-\u001b[1;36m08\u001b[0m-\u001b[1;36m26\u001b[0m \u001b[1;92m19:20:46\u001b[0m\u001b[1m]\u001b[0m Connected to database \u001b[32m'db'\u001b[0m on logosdb-sum\u001b[1;92mdb:5432\u001b[0m as \u001b[32m'user'\u001b[0m\n"
      ]
     },
     "metadata": {},
     "output_type": "display_data"
    },
    {
     "data": {
      "text/html": [
       "<pre style=\"white-space:pre;overflow-x:auto;line-height:normal;font-family:Menlo,'DejaVu Sans Mono',consolas,'Courier New',monospace\">Column names in <span style=\"color: #008000; text-decoration-color: #008000\">'test'</span> table: id, chunkstart, chunkend, topic, summary, updatedat\n",
       "</pre>\n"
      ],
      "text/plain": [
       "Column names in \u001b[32m'test'\u001b[0m table: id, chunkstart, chunkend, topic, summary, updatedat\n"
      ]
     },
     "metadata": {},
     "output_type": "display_data"
    }
   ],
   "source": [
    "# Connect to the database\n",
    "conn = psycopg2.connect(\n",
    "    dbname=dbname,\n",
    "    user=username,\n",
    "    password=password,\n",
    "    host=db_topic,\n",
    "    port=port\n",
    ")\n",
    "\n",
    "# Format datetime for readability\n",
    "formatted_datetime = datetime.now().strftime(\"%Y-%m-%d %H:%M:%S\")\n",
    "log(f\"[{formatted_datetime}] Connected to database '{dbname}' on {db_topic}:{port} as '{username}'\")\n",
    "\n",
    "# Get and log column names\n",
    "column_names = get_column_names(conn, table)\n",
    "log(\"Column names in '{}' table: {}\".format(table, \", \".join(column_names)))\n"
   ]
  },
  {
   "cell_type": "code",
   "execution_count": 9,
   "metadata": {},
   "outputs": [
    {
     "data": {
      "text/html": [
       "<pre style=\"white-space:pre;overflow-x:auto;line-height:normal;font-family:Menlo,'DejaVu Sans Mono',consolas,'Courier New',monospace\"><span style=\"font-weight: bold\">[</span>\n",
       "    <span style=\"font-weight: bold\">(</span><span style=\"color: #008080; text-decoration-color: #008080; font-weight: bold\">1</span>, <span style=\"color: #008080; text-decoration-color: #008080; font-weight: bold\">500</span>, <span style=\"color: #008000; text-decoration-color: #008000\">'Computer-Science'</span><span style=\"font-weight: bold\">)</span>,\n",
       "    <span style=\"font-weight: bold\">(</span><span style=\"color: #008080; text-decoration-color: #008080; font-weight: bold\">501</span>, <span style=\"color: #008080; text-decoration-color: #008080; font-weight: bold\">1000</span>, <span style=\"color: #008000; text-decoration-color: #008000\">'Computer-Science'</span><span style=\"font-weight: bold\">)</span>,\n",
       "    <span style=\"font-weight: bold\">(</span><span style=\"color: #008080; text-decoration-color: #008080; font-weight: bold\">1001</span>, <span style=\"color: #008080; text-decoration-color: #008080; font-weight: bold\">1500</span>, <span style=\"color: #008000; text-decoration-color: #008000\">'Computer-Science'</span><span style=\"font-weight: bold\">)</span>,\n",
       "    <span style=\"font-weight: bold\">(</span><span style=\"color: #008080; text-decoration-color: #008080; font-weight: bold\">1501</span>, <span style=\"color: #008080; text-decoration-color: #008080; font-weight: bold\">2000</span>, <span style=\"color: #008000; text-decoration-color: #008000\">'Computer-Science'</span><span style=\"font-weight: bold\">)</span>,\n",
       "    <span style=\"font-weight: bold\">(</span><span style=\"color: #008080; text-decoration-color: #008080; font-weight: bold\">2001</span>, <span style=\"color: #008080; text-decoration-color: #008080; font-weight: bold\">2500</span>, <span style=\"color: #008000; text-decoration-color: #008000\">'Computer-Science'</span><span style=\"font-weight: bold\">)</span>\n",
       "<span style=\"font-weight: bold\">]</span>\n",
       "</pre>\n"
      ],
      "text/plain": [
       "\u001b[1m[\u001b[0m\n",
       "    \u001b[1m(\u001b[0m\u001b[1;36m1\u001b[0m, \u001b[1;36m500\u001b[0m, \u001b[32m'Computer-Science'\u001b[0m\u001b[1m)\u001b[0m,\n",
       "    \u001b[1m(\u001b[0m\u001b[1;36m501\u001b[0m, \u001b[1;36m1000\u001b[0m, \u001b[32m'Computer-Science'\u001b[0m\u001b[1m)\u001b[0m,\n",
       "    \u001b[1m(\u001b[0m\u001b[1;36m1001\u001b[0m, \u001b[1;36m1500\u001b[0m, \u001b[32m'Computer-Science'\u001b[0m\u001b[1m)\u001b[0m,\n",
       "    \u001b[1m(\u001b[0m\u001b[1;36m1501\u001b[0m, \u001b[1;36m2000\u001b[0m, \u001b[32m'Computer-Science'\u001b[0m\u001b[1m)\u001b[0m,\n",
       "    \u001b[1m(\u001b[0m\u001b[1;36m2001\u001b[0m, \u001b[1;36m2500\u001b[0m, \u001b[32m'Computer-Science'\u001b[0m\u001b[1m)\u001b[0m\n",
       "\u001b[1m]\u001b[0m\n"
      ]
     },
     "metadata": {},
     "output_type": "display_data"
    }
   ],
   "source": [
    "# Prepare and execute the query\n",
    "query = sql.SQL(\"SELECT chunkstart, chunkend, topic FROM {}\").format(sql.Identifier(table))\n",
    "with conn.cursor() as cur:\n",
    "    cur.execute(query)\n",
    "    rows = cur.fetchall()\n",
    "\n",
    "# conn.close()\n",
    "\n",
    "print(rows[:5])"
   ]
  },
  {
   "cell_type": "code",
   "execution_count": 10,
   "metadata": {},
   "outputs": [],
   "source": [
    "topic_chunk_count = defaultdict(int)\n",
    "row_topic_pairs = defaultdict(list)\n",
    "row_topic_count = defaultdict(int)\n",
    "\n",
    "for row in rows:\n",
    "    chunk_start, chunk_end, topic = row\n",
    "\n",
    "    topic_chunk_count[topic] += 1\n",
    "    row_topic_pairs[topic].append((chunk_start, chunk_end))\n",
    "    row_topic_count[topic] += abs(chunk_end - chunk_start) + 1\n"
   ]
  },
  {
   "cell_type": "code",
   "execution_count": 11,
   "metadata": {},
   "outputs": [
    {
     "data": {
      "text/html": [
       "<pre style=\"white-space:pre;overflow-x:auto;line-height:normal;font-family:Menlo,'DejaVu Sans Mono',consolas,'Courier New',monospace\">\n",
       "TOPIC NODE ANALYSIS\n",
       "</pre>\n"
      ],
      "text/plain": [
       "\n",
       "TOPIC NODE ANALYSIS\n"
      ]
     },
     "metadata": {},
     "output_type": "display_data"
    },
    {
     "data": {
      "text/html": [
       "<pre style=\"white-space:pre;overflow-x:auto;line-height:normal;font-family:Menlo,'DejaVu Sans Mono',consolas,'Courier New',monospace\">Computer-Science: <span style=\"color: #008080; text-decoration-color: #008080; font-weight: bold\">450</span> chunks\n",
       "</pre>\n"
      ],
      "text/plain": [
       "Computer-Science: \u001b[1;36m450\u001b[0m chunks\n"
      ]
     },
     "metadata": {},
     "output_type": "display_data"
    },
    {
     "data": {
      "text/html": [
       "<pre style=\"white-space:pre;overflow-x:auto;line-height:normal;font-family:Menlo,'DejaVu Sans Mono',consolas,'Courier New',monospace\">Chunk Count: <span style=\"color: #008080; text-decoration-color: #008080; font-weight: bold\">450</span> saved chunks\n",
       "</pre>\n"
      ],
      "text/plain": [
       "Chunk Count: \u001b[1;36m450\u001b[0m saved chunks\n"
      ]
     },
     "metadata": {},
     "output_type": "display_data"
    },
    {
     "data": {
      "text/html": [
       "<pre style=\"white-space:pre;overflow-x:auto;line-height:normal;font-family:Menlo,'DejaVu Sans Mono',consolas,'Courier New',monospace\">Actual topic node: <span style=\"color: #008080; text-decoration-color: #008080; font-weight: bold\">1</span> nodes\n",
       "</pre>\n"
      ],
      "text/plain": [
       "Actual topic node: \u001b[1;36m1\u001b[0m nodes\n"
      ]
     },
     "metadata": {},
     "output_type": "display_data"
    },
    {
     "data": {
      "text/html": [
       "<pre style=\"white-space:pre;overflow-x:auto;line-height:normal;font-family:Menlo,'DejaVu Sans Mono',consolas,'Courier New',monospace\">Expected topic node: <span style=\"color: #008080; text-decoration-color: #008080; font-weight: bold\">1</span> nodes\n",
       "</pre>\n"
      ],
      "text/plain": [
       "Expected topic node: \u001b[1;36m1\u001b[0m nodes\n"
      ]
     },
     "metadata": {},
     "output_type": "display_data"
    },
    {
     "data": {
      "text/html": [
       "<pre style=\"white-space:pre;overflow-x:auto;line-height:normal;font-family:Menlo,'DejaVu Sans Mono',consolas,'Courier New',monospace\">Missing <span style=\"color: #008080; text-decoration-color: #008080; font-weight: bold\">0</span> nodes: <span style=\"color: #800080; text-decoration-color: #800080; font-weight: bold\">set</span><span style=\"font-weight: bold\">()</span>\n",
       "</pre>\n"
      ],
      "text/plain": [
       "Missing \u001b[1;36m0\u001b[0m nodes: \u001b[1;35mset\u001b[0m\u001b[1m(\u001b[0m\u001b[1m)\u001b[0m\n"
      ]
     },
     "metadata": {},
     "output_type": "display_data"
    }
   ],
   "source": [
    "# log the count of chunks for each topic\n",
    "log('\\nTOPIC NODE ANALYSIS')\n",
    "for topic, count in topic_chunk_count.items():\n",
    "    log(f\"{topic}: {count} chunks\")\n",
    "\n",
    "log('Chunk Count: ' + str(len(rows)) + ' saved chunks')\n",
    "log(f'Actual topic node: {len(topic_chunk_count)} nodes')\n",
    "log(f'Expected topic node: {len(true_topics)} nodes')\n",
    "log(f'Missing {len(true_topics) - len(topic_chunk_count)} nodes: {set(true_topics) - set(topic_chunk_count.keys())}')\n"
   ]
  },
  {
   "cell_type": "code",
   "execution_count": 12,
   "metadata": {},
   "outputs": [
    {
     "data": {
      "text/html": [
       "<pre style=\"white-space:pre;overflow-x:auto;line-height:normal;font-family:Menlo,'DejaVu Sans Mono',consolas,'Courier New',monospace\">\n",
       "DATA COUNT ANALYSIS\n",
       "</pre>\n"
      ],
      "text/plain": [
       "\n",
       "DATA COUNT ANALYSIS\n"
      ]
     },
     "metadata": {},
     "output_type": "display_data"
    },
    {
     "data": {
      "text/html": [
       "<pre style=\"white-space:pre;overflow-x:auto;line-height:normal;font-family:Menlo,'DejaVu Sans Mono',consolas,'Courier New',monospace\">Computer-Science: <span style=\"color: #008080; text-decoration-color: #008080; font-weight: bold\">224</span>,<span style=\"color: #008080; text-decoration-color: #008080; font-weight: bold\">853</span>\n",
       "</pre>\n"
      ],
      "text/plain": [
       "Computer-Science: \u001b[1;36m224\u001b[0m,\u001b[1;36m853\u001b[0m\n"
      ]
     },
     "metadata": {},
     "output_type": "display_data"
    },
    {
     "data": {
      "text/html": [
       "<pre style=\"white-space:pre;overflow-x:auto;line-height:normal;font-family:Menlo,'DejaVu Sans Mono',consolas,'Courier New',monospace\">\n",
       "Total rows: <span style=\"color: #008080; text-decoration-color: #008080; font-weight: bold\">224</span>,<span style=\"color: #008080; text-decoration-color: #008080; font-weight: bold\">853</span>\n",
       "</pre>\n"
      ],
      "text/plain": [
       "\n",
       "Total rows: \u001b[1;36m224\u001b[0m,\u001b[1;36m853\u001b[0m\n"
      ]
     },
     "metadata": {},
     "output_type": "display_data"
    }
   ],
   "source": [
    "\n",
    "log('\\nDATA COUNT ANALYSIS')\n",
    "row_topic_pairs = dict(sorted(row_topic_pairs.items(), key=lambda x: x[1], reverse=True))\n",
    "\n",
    "for topic, rows in row_topic_pairs.items():\n",
    "    log(f\"{topic}: {row_topic_count[topic]:,}\")\n",
    "    # log(f\"Pairs: {rows}\")\n",
    "\n",
    "total_rows = sum(row_topic_count.values())\n",
    "log(f'\\nTotal rows: {total_rows:,}')\n"
   ]
  },
  {
   "cell_type": "code",
   "execution_count": 13,
   "metadata": {},
   "outputs": [
    {
     "data": {
      "text/html": [
       "<pre style=\"white-space:pre;overflow-x:auto;line-height:normal;font-family:Menlo,'DejaVu Sans Mono',consolas,'Courier New',monospace\">\n",
       "CONTINUITY CHECK\n",
       "</pre>\n"
      ],
      "text/plain": [
       "\n",
       "CONTINUITY CHECK\n"
      ]
     },
     "metadata": {},
     "output_type": "display_data"
    },
    {
     "data": {
      "text/html": [
       "<pre style=\"white-space:pre;overflow-x:auto;line-height:normal;font-family:Menlo,'DejaVu Sans Mono',consolas,'Courier New',monospace\">No gap found!\n",
       "</pre>\n"
      ],
      "text/plain": [
       "No gap found!\n"
      ]
     },
     "metadata": {},
     "output_type": "display_data"
    }
   ],
   "source": [
    "log('\\nCONTINUITY CHECK')\n",
    "no_gap = True\n",
    "for topic, chunks in row_topic_pairs.items():\n",
    "    # Sort the chunks by chunkstart to ensure correct order\n",
    "    chunks.sort(key=lambda x: x[0])\n",
    "    for i in range(len(chunks) - 1):\n",
    "        current_chunk_end = chunks[i][1]\n",
    "        next_chunk_start = chunks[i + 1][0]\n",
    "        # Check if there is a gap\n",
    "        if next_chunk_start != current_chunk_end + 1:\n",
    "            log(f\"Gap found in topic '{topic}' within chunks [{current_chunk_end}, {next_chunk_start}]\")\n",
    "            no_gap = False\n",
    "\n",
    "if no_gap:\n",
    "    log('No gap found!')\n"
   ]
  },
  {
   "cell_type": "code",
   "execution_count": 14,
   "metadata": {},
   "outputs": [],
   "source": [
    "conn.close()"
   ]
  },
  {
   "cell_type": "markdown",
   "metadata": {},
   "source": [
    "# Custom Analysis"
   ]
  },
  {
   "cell_type": "code",
   "execution_count": 15,
   "metadata": {},
   "outputs": [
    {
     "data": {
      "text/html": [
       "<pre style=\"white-space:pre;overflow-x:auto;line-height:normal;font-family:Menlo,'DejaVu Sans Mono',consolas,'Courier New',monospace\">CURRENT CHUNKS <span style=\"color: #008080; text-decoration-color: #008080; font-weight: bold\">1</span>\n",
       "</pre>\n"
      ],
      "text/plain": [
       "CURRENT CHUNKS \u001b[1;36m1\u001b[0m\n"
      ]
     },
     "metadata": {},
     "output_type": "display_data"
    },
    {
     "data": {
      "text/html": [
       "<pre style=\"white-space:pre;overflow-x:auto;line-height:normal;font-family:Menlo,'DejaVu Sans Mono',consolas,'Courier New',monospace\">Chunk range: <span style=\"font-weight: bold\">(</span><span style=\"color: #008080; text-decoration-color: #008080; font-weight: bold\">224501</span>, <span style=\"color: #008080; text-decoration-color: #008080; font-weight: bold\">224853</span><span style=\"font-weight: bold\">)</span>\n",
       "</pre>\n"
      ],
      "text/plain": [
       "Chunk range: \u001b[1m(\u001b[0m\u001b[1;36m224501\u001b[0m, \u001b[1;36m224853\u001b[0m\u001b[1m)\u001b[0m\n"
      ]
     },
     "metadata": {},
     "output_type": "display_data"
    },
    {
     "data": {
      "text/html": [
       "<pre style=\"white-space:pre;overflow-x:auto;line-height:normal;font-family:Menlo,'DejaVu Sans Mono',consolas,'Courier New',monospace\">Topic: Computer-Science\n",
       "</pre>\n"
      ],
      "text/plain": [
       "Topic: Computer-Science\n"
      ]
     },
     "metadata": {},
     "output_type": "display_data"
    },
    {
     "data": {
      "text/html": [
       "<pre style=\"white-space:pre;overflow-x:auto;line-height:normal;font-family:Menlo,'DejaVu Sans Mono',consolas,'Courier New',monospace\">CURRENT CHUNKS <span style=\"color: #008080; text-decoration-color: #008080; font-weight: bold\">2</span>\n",
       "</pre>\n"
      ],
      "text/plain": [
       "CURRENT CHUNKS \u001b[1;36m2\u001b[0m\n"
      ]
     },
     "metadata": {},
     "output_type": "display_data"
    },
    {
     "data": {
      "text/html": [
       "<pre style=\"white-space:pre;overflow-x:auto;line-height:normal;font-family:Menlo,'DejaVu Sans Mono',consolas,'Courier New',monospace\">Chunk range: <span style=\"font-weight: bold\">(</span><span style=\"color: #008080; text-decoration-color: #008080; font-weight: bold\">224001</span>, <span style=\"color: #008080; text-decoration-color: #008080; font-weight: bold\">224500</span><span style=\"font-weight: bold\">)</span>\n",
       "</pre>\n"
      ],
      "text/plain": [
       "Chunk range: \u001b[1m(\u001b[0m\u001b[1;36m224001\u001b[0m, \u001b[1;36m224500\u001b[0m\u001b[1m)\u001b[0m\n"
      ]
     },
     "metadata": {},
     "output_type": "display_data"
    },
    {
     "data": {
      "text/html": [
       "<pre style=\"white-space:pre;overflow-x:auto;line-height:normal;font-family:Menlo,'DejaVu Sans Mono',consolas,'Courier New',monospace\">Topic: Computer-Science\n",
       "</pre>\n"
      ],
      "text/plain": [
       "Topic: Computer-Science\n"
      ]
     },
     "metadata": {},
     "output_type": "display_data"
    },
    {
     "data": {
      "text/html": [
       "<pre style=\"white-space:pre;overflow-x:auto;line-height:normal;font-family:Menlo,'DejaVu Sans Mono',consolas,'Courier New',monospace\">CURRENT CHUNKS <span style=\"color: #008080; text-decoration-color: #008080; font-weight: bold\">3</span>\n",
       "</pre>\n"
      ],
      "text/plain": [
       "CURRENT CHUNKS \u001b[1;36m3\u001b[0m\n"
      ]
     },
     "metadata": {},
     "output_type": "display_data"
    },
    {
     "data": {
      "text/html": [
       "<pre style=\"white-space:pre;overflow-x:auto;line-height:normal;font-family:Menlo,'DejaVu Sans Mono',consolas,'Courier New',monospace\">Chunk range: <span style=\"font-weight: bold\">(</span><span style=\"color: #008080; text-decoration-color: #008080; font-weight: bold\">223501</span>, <span style=\"color: #008080; text-decoration-color: #008080; font-weight: bold\">224000</span><span style=\"font-weight: bold\">)</span>\n",
       "</pre>\n"
      ],
      "text/plain": [
       "Chunk range: \u001b[1m(\u001b[0m\u001b[1;36m223501\u001b[0m, \u001b[1;36m224000\u001b[0m\u001b[1m)\u001b[0m\n"
      ]
     },
     "metadata": {},
     "output_type": "display_data"
    },
    {
     "data": {
      "text/html": [
       "<pre style=\"white-space:pre;overflow-x:auto;line-height:normal;font-family:Menlo,'DejaVu Sans Mono',consolas,'Courier New',monospace\">Topic: Computer-Science\n",
       "</pre>\n"
      ],
      "text/plain": [
       "Topic: Computer-Science\n"
      ]
     },
     "metadata": {},
     "output_type": "display_data"
    }
   ],
   "source": [
    "# this will select the most recent 3 rows\n",
    "query = sql.SQL(\"\"\"\n",
    "    SELECT chunkstart, chunkend, topic, summary \n",
    "    FROM {} \n",
    "    ORDER BY updatedat DESC\n",
    "    LIMIT 3;\n",
    "\"\"\").format(sql.Identifier(table))\n",
    "\n",
    "conn = psycopg2.connect(\n",
    "    dbname=dbname,\n",
    "    user=username,\n",
    "    password=password,\n",
    "    host=db_topic,\n",
    "    port=port\n",
    ")\n",
    "\n",
    "with conn.cursor() as cur:\n",
    "    cur.execute(query)\n",
    "    rows = cur.fetchall()\n",
    "\n",
    "conn.close()\n",
    "\n",
    "for i, row in enumerate(rows):\n",
    "    log(f\"CURRENT CHUNKS {i + 1}\")\n",
    "    log(f\"Chunk range: ({row[0]}, {row[1]})\")\n",
    "    log(f'Topic: {row[2]}')\n",
    "    # log(f\"Chunk content: {row[3][-1000:]}\")"
   ]
  },
  {
   "cell_type": "code",
   "execution_count": 16,
   "metadata": {},
   "outputs": [
    {
     "data": {
      "text/html": [
       "<pre style=\"white-space:pre;overflow-x:auto;line-height:normal;font-family:Menlo,'DejaVu Sans Mono',consolas,'Courier New',monospace\"><span style=\"color: #008080; text-decoration-color: #008080; font-weight: bold\">224501</span>. datamaker datamaker is a canadian developer and marketer of test data management software datamaker was \n",
       "founded by mathieu pelletier in <span style=\"color: #008080; text-decoration-color: #008080; font-weight: bold\">2020</span>  its products and services aim to provide tools for generating synthetic data \n",
       "datamaker is a canadian developer and marketer of test data management software datamaker was founded by mathieu \n",
       "pelletier in <span style=\"color: #008080; text-decoration-color: #008080; font-weight: bold\">2020</span>  its products and services aim to provide tools for generating synthetic data  history  the \n",
       "company was started in stealth mode in <span style=\"color: #008080; text-decoration-color: #008080; font-weight: bold\">2018</span> the idea was developed inside a big data project the software was \n",
       "publically launched in the september <span style=\"color: #008080; text-decoration-color: #008080; font-weight: bold\">2021</span> reasons challenges faced the company has receive a preseed funding of \n",
       "100k  the startup is part of startup montreal ecosystem   software and services  the software is available in aws \n",
       "marketplace as an ec2 ami  there is also a offering on in azure the platform is available as a standalone \n",
       "application or in the cloud  references  categorysoftware forcetoc\n",
       "</pre>\n"
      ],
      "text/plain": [
       "\u001b[1;36m224501\u001b[0m. datamaker datamaker is a canadian developer and marketer of test data management software datamaker was \n",
       "founded by mathieu pelletier in \u001b[1;36m2020\u001b[0m  its products and services aim to provide tools for generating synthetic data \n",
       "datamaker is a canadian developer and marketer of test data management software datamaker was founded by mathieu \n",
       "pelletier in \u001b[1;36m2020\u001b[0m  its products and services aim to provide tools for generating synthetic data  history  the \n",
       "company was started in stealth mode in \u001b[1;36m2018\u001b[0m the idea was developed inside a big data project the software was \n",
       "publically launched in the september \u001b[1;36m2021\u001b[0m reasons challenges faced the company has receive a preseed funding of \n",
       "100k  the startup is part of startup montreal ecosystem   software and services  the software is available in aws \n",
       "marketplace as an ec2 ami  there is also a offering on in azure the platform is available as a standalone \n",
       "application or in the cloud  references  categorysoftware forcetoc\n"
      ]
     },
     "metadata": {},
     "output_type": "display_data"
    },
    {
     "data": {
      "text/html": [
       "<pre style=\"white-space:pre;overflow-x:auto;line-height:normal;font-family:Menlo,'DejaVu Sans Mono',consolas,'Courier New',monospace\"><span style=\"color: #008080; text-decoration-color: #008080; font-weight: bold\">224502</span>. cornelius schmitt  cornelius schmitt  is a german industrial engineer that has invented the worlds first \n",
       "fully 3d printed sneaker he was raised in momberg germany and is a cofounder and currently the ceo of zellerfeld \n",
       "shoe company inc  cornelius schmitt  is a german industrial engineer that has invented the worlds first fully 3d \n",
       "printed sneaker he was raised in momberg germany and is a cofounder and currently the ceo of zellerfeld shoe \n",
       "company inc   education schmitt studied industrial engineering at clausthal university of technology in \n",
       "clausthalzellerfeld germany    career during his time studying at clausthal university of technology cornelius \n",
       "schmitt was frustrated with the repetitive offering by sneaker companies with the goal of reducing high upfront \n",
       "investment costs in footwear production for designers he started developing custom 3d printing machines capable of \n",
       "producing shoes at the push of a button   after developing his first 3d printer which schmitt sold to his \n",
       "university institute he continued developing and advancing the technology into what now are the best regarded 3d \n",
       "printing machines specialized for footwear creation   zellerfeld shoe company keeping the focus on footwear \n",
       "cornelius schmitt and lennard stoever cofounded the zellerfeld shoe company inc in <span style=\"color: #008080; text-decoration-color: #008080; font-weight: bold\">2019</span> since then zellerfeld has \n",
       "gained popularity by collaborating with notable designers such as heron preston kidsuper finn rushtaylor and yoon \n",
       "ambush to create 3d printed footwear    after rumours of acquisition offers by kanye west zellerfeld also created \n",
       "awareness for their technology when grimes and elon musk ordered a custom shoe for their child x ae axii musk in \n",
       "<span style=\"color: #008080; text-decoration-color: #008080; font-weight: bold\">2021</span> zellerfelds innovative approach of bringing footwear design closer to software development is viewed by many \n",
       "industry experts as the future of footwear manufacturing  references\n",
       "</pre>\n"
      ],
      "text/plain": [
       "\u001b[1;36m224502\u001b[0m. cornelius schmitt  cornelius schmitt  is a german industrial engineer that has invented the worlds first \n",
       "fully 3d printed sneaker he was raised in momberg germany and is a cofounder and currently the ceo of zellerfeld \n",
       "shoe company inc  cornelius schmitt  is a german industrial engineer that has invented the worlds first fully 3d \n",
       "printed sneaker he was raised in momberg germany and is a cofounder and currently the ceo of zellerfeld shoe \n",
       "company inc   education schmitt studied industrial engineering at clausthal university of technology in \n",
       "clausthalzellerfeld germany    career during his time studying at clausthal university of technology cornelius \n",
       "schmitt was frustrated with the repetitive offering by sneaker companies with the goal of reducing high upfront \n",
       "investment costs in footwear production for designers he started developing custom 3d printing machines capable of \n",
       "producing shoes at the push of a button   after developing his first 3d printer which schmitt sold to his \n",
       "university institute he continued developing and advancing the technology into what now are the best regarded 3d \n",
       "printing machines specialized for footwear creation   zellerfeld shoe company keeping the focus on footwear \n",
       "cornelius schmitt and lennard stoever cofounded the zellerfeld shoe company inc in \u001b[1;36m2019\u001b[0m since then zellerfeld has \n",
       "gained popularity by collaborating with notable designers such as heron preston kidsuper finn rushtaylor and yoon \n",
       "ambush to create 3d printed footwear    after rumours of acquisition offers by kanye west zellerfeld also created \n",
       "awareness for their technology when grimes and elon musk ordered a custom shoe for their child x ae axii musk in \n",
       "\u001b[1;36m2021\u001b[0m zellerfelds innovative approach of bringing footwear design closer to software development is viewed by many \n",
       "industry experts as the future of footwear manufacturing  references\n"
      ]
     },
     "metadata": {},
     "output_type": "display_data"
    },
    {
     "data": {
      "text/html": [
       "<pre style=\"white-space:pre;overflow-x:auto;line-height:normal;font-family:Menlo,'DejaVu Sans Mono',consolas,'Courier New',monospace\"><span style=\"color: #008080; text-decoration-color: #008080; font-weight: bold\">224503</span>. messor security   messor security is the free decentralized and opensource intrusion prevention system with\n",
       "its own data transfer protocol and hybrid peertopeer network that is capable of performing packet registration and \n",
       "realtime analysis and blocking dangerous traffic   it was published by messor limited in <span style=\"color: #008080; text-decoration-color: #008080; font-weight: bold\">2020</span>   it performs logging\n",
       "analyzing and searching by content and it is also used to actively block or passively detect a number of attacks \n",
       "and probing such as attempts of ddos sql injection bruteforce and other attacks on web apps messor is used to \n",
       "prevent intrusion and block attacks   it can work together with other software such as iptables portsentry apache2 \n",
       "and nginx   messor security is the free decentralized and opensource intrusion prevention system with its own data \n",
       "transfer protocol and hybrid peertopeer network that is capable of performing packet registration and realtime \n",
       "analysis and blocking dangerous traffic   it was published by messor limited in <span style=\"color: #008080; text-decoration-color: #008080; font-weight: bold\">2020</span>   it performs logging \n",
       "analyzing and searching by content and it is also used to actively block or passively detect a number of attacks \n",
       "and probing such as attempts of ddos sql injection bruteforce and other attacks on web apps messor is used to \n",
       "prevent intrusion and block attacks   it can work together with other software such as iptables portsentry apache2 \n",
       "and nginx    key points   ability to protect against scanning regardless of purpose whether exploiting \n",
       "vulnerabilities bots search engines or other apps  peertopeer data transmission system   opensource  geopolitical \n",
       "independence  what is messor  messor was born as an idea of free independent and decentralized software to ensure \n",
       "the security of networks and transparent collection of data on attacks and scans   the main difference between \n",
       "messor and other ips is its own network structure everyone who installed messor becomes a part of the messornetwork\n",
       "that allows himher to obtain daily database updates    database inclusions   a list of ip addresses that the \n",
       "network recognized as dangerous which means that attacks were recorded from them repeatedly  lists of ip addresses \n",
       "of various bots and crawlers  regular expressions for detecting attacks on useragentgetpostcookies data  regular \n",
       "expressions for detecting bots on the useragent  a list of honeypots for scan detection   each participant of the \n",
       "messor network must distribute the current database to other participants of the network and send the collected \n",
       "data on attacks to the central servers of the network    media about messor   \n",
       "httpsfullcirclemagazineorgpodcastfullcircleweeklynews245  httpswwwfullcirclemagfrdownload744  \n",
       "httpswwwopennetruopennewsartshtmlnum56472  download   httpssourceforgenetprojectsmessoropencart  \n",
       "httpswwwopencartcomindexphproutemarketplaceextensioninfoextensionid42800filtersearchmessor    external links   \n",
       "httpsmessornetwork  an official site  httpsdocmessornetwork  documentation  httpsgithubcommessornetwork  a \n",
       "repository\n",
       "</pre>\n"
      ],
      "text/plain": [
       "\u001b[1;36m224503\u001b[0m. messor security   messor security is the free decentralized and opensource intrusion prevention system with\n",
       "its own data transfer protocol and hybrid peertopeer network that is capable of performing packet registration and \n",
       "realtime analysis and blocking dangerous traffic   it was published by messor limited in \u001b[1;36m2020\u001b[0m   it performs logging\n",
       "analyzing and searching by content and it is also used to actively block or passively detect a number of attacks \n",
       "and probing such as attempts of ddos sql injection bruteforce and other attacks on web apps messor is used to \n",
       "prevent intrusion and block attacks   it can work together with other software such as iptables portsentry apache2 \n",
       "and nginx   messor security is the free decentralized and opensource intrusion prevention system with its own data \n",
       "transfer protocol and hybrid peertopeer network that is capable of performing packet registration and realtime \n",
       "analysis and blocking dangerous traffic   it was published by messor limited in \u001b[1;36m2020\u001b[0m   it performs logging \n",
       "analyzing and searching by content and it is also used to actively block or passively detect a number of attacks \n",
       "and probing such as attempts of ddos sql injection bruteforce and other attacks on web apps messor is used to \n",
       "prevent intrusion and block attacks   it can work together with other software such as iptables portsentry apache2 \n",
       "and nginx    key points   ability to protect against scanning regardless of purpose whether exploiting \n",
       "vulnerabilities bots search engines or other apps  peertopeer data transmission system   opensource  geopolitical \n",
       "independence  what is messor  messor was born as an idea of free independent and decentralized software to ensure \n",
       "the security of networks and transparent collection of data on attacks and scans   the main difference between \n",
       "messor and other ips is its own network structure everyone who installed messor becomes a part of the messornetwork\n",
       "that allows himher to obtain daily database updates    database inclusions   a list of ip addresses that the \n",
       "network recognized as dangerous which means that attacks were recorded from them repeatedly  lists of ip addresses \n",
       "of various bots and crawlers  regular expressions for detecting attacks on useragentgetpostcookies data  regular \n",
       "expressions for detecting bots on the useragent  a list of honeypots for scan detection   each participant of the \n",
       "messor network must distribute the current database to other participants of the network and send the collected \n",
       "data on attacks to the central servers of the network    media about messor   \n",
       "httpsfullcirclemagazineorgpodcastfullcircleweeklynews245  httpswwwfullcirclemagfrdownload744  \n",
       "httpswwwopennetruopennewsartshtmlnum56472  download   httpssourceforgenetprojectsmessoropencart  \n",
       "httpswwwopencartcomindexphproutemarketplaceextensioninfoextensionid42800filtersearchmessor    external links   \n",
       "httpsmessornetwork  an official site  httpsdocmessornetwork  documentation  httpsgithubcommessornetwork  a \n",
       "repository\n"
      ]
     },
     "metadata": {},
     "output_type": "display_data"
    },
    {
     "data": {
      "text/html": [
       "<pre style=\"white-space:pre;overflow-x:auto;line-height:normal;font-family:Menlo,'DejaVu Sans Mono',consolas,'Courier New',monospace\"><span style=\"color: #008080; text-decoration-color: #008080; font-weight: bold\">224504</span>. george geo mueller george geo mueller  <span style=\"color: #008080; text-decoration-color: #008080; font-weight: bold\">19712021</span> was an inventor and serial entrepreneur his work is widely \n",
       "known both for bringing solid state lighting into the mainstream through his companies color kinetics and ecosense \n",
       "lighting now korrus and for founding and cocreating robot heart a burning man camp and foundation he was also a \n",
       "founder and cocreator of the further future festival in nevada   while muellers early entrepreneurship had proven \n",
       "to be highly successful in its own right it is his work with led technology that had a meaningful impact in \n",
       "changing the way humanity interacts with light while revolutionary in its scope and reach it was his creation of \n",
       "and work with robot heart a collective centered around music that may have had the most resonance as it was as much\n",
       "about community as it was spectacle hundreds of thousands of revelers have partaken in the ongoing robot heart \n",
       "events at burning man and in new york since <span style=\"color: #008080; text-decoration-color: #008080; font-weight: bold\">2008</span>   born in <span style=\"color: #008080; text-decoration-color: #008080; font-weight: bold\">1970</span> in south windsor connecticut and raised in west \n",
       "bloomfield michigan a suburb of detroit mueller as a youngster was a natural athlete who played soccer and hockey \n",
       "and also excelled in art his passions being sculpture and photography  he also showed early engineering prowess \n",
       "while taking apart and reconfiguring such household items as lawn mowers and microwaves a prankster at heart he \n",
       "bugged his brothers room at <span style=\"color: #008080; text-decoration-color: #008080; font-weight: bold\">10</span> years old and upon acquiring a trs80 computer hacked phone company computers and \n",
       "wrote a program to have the computer automate calls to one of their local hang outs custard cone to keep a \n",
       "curmudgeonly owner distracted by having him answer the computer generated intermittent prank calls his early \n",
       "encounters with leds dated back to high school when he created a kinetic sculpture with robert indianas love \n",
       "sculpture visible in the air through peripheral vision i would make pendants by taking a little lr44 watch battery \n",
       "hooking it up to an led then gluing them on top of a translucent crystal and attaching a leather cord to form a \n",
       "glowing necklace aliens from planet pittsburg how two young roboticists from carnegie mellon pioneered digital \n",
       "lighting george geo mueller  <span style=\"color: #008080; text-decoration-color: #008080; font-weight: bold\">19712021</span> was an inventor and serial entrepreneur his work is widely known both for \n",
       "bringing solid state lighting into the mainstream through his companies color kinetics and ecosense lighting now \n",
       "korrus and for founding and cocreating robot heart a burning man camp and foundation he was also a founder and \n",
       "cocreator of the further future festival in nevada   while muellers early entrepreneurship had proven to be highly \n",
       "successful in its own right it is his work with led technology that had a meaningful impact in changing the way \n",
       "humanity interacts with light while revolutionary in its scope and reach it was his creation of and work with robot\n",
       "heart a collective centered around music that may have had the most resonance as it was as much about community as \n",
       "it was spectacle hundreds of thousands of revelers have partaken in the ongoing robot heart events at burning man \n",
       "and in new york since <span style=\"color: #008080; text-decoration-color: #008080; font-weight: bold\">2008</span>   born in <span style=\"color: #008080; text-decoration-color: #008080; font-weight: bold\">1970</span> in south windsor connecticut and raised in west bloomfield michigan a \n",
       "suburb of detroit mueller as a youngster was a natural athlete who played soccer and hockey and also excelled in \n",
       "art his passions being sculpture and photography  he also showed early engineering prowess while taking apart and \n",
       "reconfiguring such household items as lawn mowers and microwaves a prankster at heart he bugged his brothers room \n",
       "at <span style=\"color: #008080; text-decoration-color: #008080; font-weight: bold\">10</span> years old and upon acquiring a trs80 computer hacked phone company computers and wrote a program to have the \n",
       "computer automate calls to one of their local hang outs custard cone to keep a curmudgeonly owner distracted by \n",
       "having him answer the computer generated intermittent prank calls his early encounters with leds dated back to high\n",
       "school when he created a kinetic sculpture with robert indianas love sculpture visible in the air through \n",
       "peripheral vision i would make pendants by taking a little lr44 watch battery hooking it up to an led then gluing \n",
       "them on top of a translucent crystal and attaching a leather cord to form a glowing necklace aliens from planet \n",
       "pittsburg how two young roboticists from carnegie mellon pioneered digital lighting    education    george attended\n",
       "carnegie mellon university school of engineering and graduated in <span style=\"color: #008080; text-decoration-color: #008080; font-weight: bold\">1993</span> with a degree in computer and electrical \n",
       "engineering at cmu he met dr ihor lys also an engineering student they struck a fast friendship and their \n",
       "connection was a harbinger of what was to later become a worldchanging partnership    career     isi  upon \n",
       "graduating carnegie mellon university in <span style=\"color: #008080; text-decoration-color: #008080; font-weight: bold\">1994</span> george and his brother gary formed internet securities inc isi the \n",
       "company aggregated economic and corporate data in developing economies from offices in <span style=\"color: #008080; text-decoration-color: #008080; font-weight: bold\">29</span> countries across the \n",
       "americas africa asia the middle east and europe the company grew to <span style=\"color: #008080; text-decoration-color: #008080; font-weight: bold\">350</span> employees and was sold to euromoney plc  in\n",
       "<span style=\"color: #008080; text-decoration-color: #008080; font-weight: bold\">1999</span> for 50m  color kinetics    while involved in isi george and lys partnered to form color kinetics incorporated \n",
       "with gary as their first investor  george had roles in both companies but in <span style=\"color: #008080; text-decoration-color: #008080; font-weight: bold\">1998</span> left isi to focus his efforts and\n",
       "attention on color kinetics while gary continued to run isi   color kinetics capitalized on the nascent solid state\n",
       "lighting ssl technology that with the advent of blue leds and exponential improvements in output had become viable \n",
       "for uses beyond indicator lights mueller and lys were able to develop and bring to market many uses for led \n",
       "technology that had previously been unavailable both in commercial and residential settings they were the first to \n",
       "create white light with leds through additive color mixing blending the output of red green and blue rgb it was \n",
       "this development and their securing of the intellectual property around it that made leds primed for the \n",
       "replacement of the incandescent bulb the prevailing technology of the era and made color kinetics an extremely \n",
       "valuable company   the company developed numerous products for entertainment municipal and architectural uses and \n",
       "stewarded multiple generations of improvements in the technology starting from small color changing lights in <span style=\"color: #008080; text-decoration-color: #008080; font-weight: bold\">1997</span> \n",
       "to entertainment units for arenas and stadiums to the bay lights by leo villareal which at the time was the worlds \n",
       "largest led installation covering the entire western facing expanse of the bay bridge from san francisco to \n",
       "treasure island in addition to the flexibility and long lamp life that leds embodied millions and millions of tons \n",
       "of carbon emissions have been saved over the last two decades on the basis of muellers and lys work a fact that \n",
       "mueller was particularly proud of   color kinetics was a pioneer in taking leds from a novelty item to the \n",
       "mainstream of illumination  and the companys developments in solid state lighting changed the way humans interact \n",
       "with light the switch to leds also enabled a significant reduction in the required level of power consumption to \n",
       "create usable levels of illumination   the company grew to <span style=\"color: #008080; text-decoration-color: #008080; font-weight: bold\">350</span> employees and <span style=\"color: #008080; text-decoration-color: #008080; font-weight: bold\">100</span> million in sales but it was the \n",
       "extensive intellectual property that mueller and lys secured that made the company exponentially more valuable than\n",
       "a usual ebitda multiple    ecosense korrus  after the sale of color kinetics the groundwork was laid for muellers \n",
       "next venture in the lighting field ecosense now korrus ecosense deployed the now more mature white led technology \n",
       "with improved power supplies and a focus on modular design for linear and cove lighting applications their \n",
       "capability to rapidly configure and ship a vast array of light configurations further enabled ecosense to light \n",
       "beautiful major projects around the world later developments centered around understanding how light affects our \n",
       "natural circadian rhythms and creating healthy lighting the human body operates on a predictable cycle or time \n",
       "clock and environmental cues or zeitgebers the most significant of which is light resets that clock  historically \n",
       "the sun provided humans with a steady and predictable zeitgeber delivering the right light at the right time to \n",
       "continuously keep circadian clocks in sync this syncedup state known as circadian entrainment relies on \n",
       "photoreceptors in our eyes called intrinsically photosensitive retinal ganglion cells iprgcs iprgcs transform \n",
       "incoming light into signals which are then sent to multiple regions of the brain chief among these regions is the \n",
       "suprachiasmatic nucleus scn the bodys master clock and the heart of the circadian system to put it simply iprgcs \n",
       "utilize light to keep the circadian clock on time  korrus has developed technology to produce healthy light whether\n",
       "in displays screens or fixtures korrus uses spectral agility to separate the visual experience from the beneficial \n",
       "properties of light the technology korrus created enables consistent white light for vision while manipulating its \n",
       "underlying composition to support circadian health  korrus is pioneering a field called human light interaction   \n",
       "robot heart    in <span style=\"color: #008080; text-decoration-color: #008080; font-weight: bold\">2005</span> mueller first went to burning man with friend and architect walt smith and they camped with \n",
       "an established group called disorient mueller left disorient and founded robot heart in <span style=\"color: #008080; text-decoration-color: #008080; font-weight: bold\">2008</span> bringing together a \n",
       "collective of doers and dreamers artists and entrepreneurs it was the fusion of georges fierce desire to create a \n",
       "sense of community along with his passion for light and music    robot heart is most widely known for its iconic \n",
       "<span style=\"color: #008080; text-decoration-color: #008080; font-weight: bold\">1972</span> leyland double decker bus that was modified to have tens of thousands of watts of highquality audio and an \n",
       "expansive led heart sitting atop the bus would drive to the deep playa and throw parties far outside of black rock \n",
       "city these parties quickly became legendary and djs from around the world would come to burning man to play the bus\n",
       "free of charge  to any and all participants at burning man these soundcloud sets including one of muellers \n",
       "favorites and the last set he listened to above  beyond with elena brower are memorialized online and accessible to\n",
       "all    robot heart events have expanded beyond the reaches of the burning man community and have become widely \n",
       "known in many parts of the globe what mueller may be most known for amongst his friends is the community he built \n",
       "around robot heart and the indelible impact that this community has had on so many others robot heart participated \n",
       "in the 2021freeburn in part a memorial to its founder and continues to this day the robot heart foundation is \n",
       "preparing its formal launch in new york the weekend of april <span style=\"color: #008080; text-decoration-color: #008080; font-weight: bold\">29</span> through may 1st the spirit of mueller is arguably \n",
       "most alive through the community he created with his friends how burning mans famed robot heart camp is carrying on\n",
       "after the death of founder george mueller  further future  mueller along with other members of robot heart created \n",
       "further future a transformational festival held in southern nevada in <span style=\"color: #008080; text-decoration-color: #008080; font-weight: bold\">2015</span> and <span style=\"color: #008080; text-decoration-color: #008080; font-weight: bold\">2016</span> the further future model was a \n",
       "shared experience thats beyond our future and promised a carefully curated slate of business and cultural leaders \n",
       "chefs mixologists and masseuses further future located on the moapa band of paiute indians aspired to be a \n",
       "gathering of people with the common goal to spend time together celebrating the infinite possibilities of the \n",
       "future without necessarily being shackled to the dictates of the past or the cycles of presentday society the \n",
       "invitationonly festival for as many as <span style=\"color: #008080; text-decoration-color: #008080; font-weight: bold\">5000</span> people ran from april <span style=\"color: #008080; text-decoration-color: #008080; font-weight: bold\">29</span> to may <span style=\"color: #008080; text-decoration-color: #008080; font-weight: bold\">1</span> in <span style=\"color: #008080; text-decoration-color: #008080; font-weight: bold\">2015</span> and <span style=\"color: #008080; text-decoration-color: #008080; font-weight: bold\">2016</span>  personal life  \n",
       "georges life partner was ting ji and the couple had two children together astro ji mueller january <span style=\"color: #008080; text-decoration-color: #008080; font-weight: bold\">7</span> <span style=\"color: #008080; text-decoration-color: #008080; font-weight: bold\">2017</span> and xing \n",
       "ji mueller march <span style=\"color: #008080; text-decoration-color: #008080; font-weight: bold\">29</span> <span style=\"color: #008080; text-decoration-color: #008080; font-weight: bold\">2019</span>  references  \n",
       "httpswwwnytimescom20000131businesspatentstiredchanginglightbulbsonedayperhapsyourwallscouldglowdarkhtml   \n",
       "httpswwwarchitectmagazinecomtechnologylightingoneononewithgeorgemuellero   \n",
       "httpswwwforbescomforbes20021014154htmlsh4425257959fb   \n",
       "httpswwwbizjournalscombostonblogmasshightech200409youngceoofftoacolorfulstarthtml   \n",
       "httpswwwforbescomsitesryanmac20150409burningmanscoolkidsbreakofftomixtechandmusicinnewfestivalsh71c249ee19ee\n",
       "</pre>\n"
      ],
      "text/plain": [
       "\u001b[1;36m224504\u001b[0m. george geo mueller george geo mueller  \u001b[1;36m19712021\u001b[0m was an inventor and serial entrepreneur his work is widely \n",
       "known both for bringing solid state lighting into the mainstream through his companies color kinetics and ecosense \n",
       "lighting now korrus and for founding and cocreating robot heart a burning man camp and foundation he was also a \n",
       "founder and cocreator of the further future festival in nevada   while muellers early entrepreneurship had proven \n",
       "to be highly successful in its own right it is his work with led technology that had a meaningful impact in \n",
       "changing the way humanity interacts with light while revolutionary in its scope and reach it was his creation of \n",
       "and work with robot heart a collective centered around music that may have had the most resonance as it was as much\n",
       "about community as it was spectacle hundreds of thousands of revelers have partaken in the ongoing robot heart \n",
       "events at burning man and in new york since \u001b[1;36m2008\u001b[0m   born in \u001b[1;36m1970\u001b[0m in south windsor connecticut and raised in west \n",
       "bloomfield michigan a suburb of detroit mueller as a youngster was a natural athlete who played soccer and hockey \n",
       "and also excelled in art his passions being sculpture and photography  he also showed early engineering prowess \n",
       "while taking apart and reconfiguring such household items as lawn mowers and microwaves a prankster at heart he \n",
       "bugged his brothers room at \u001b[1;36m10\u001b[0m years old and upon acquiring a trs80 computer hacked phone company computers and \n",
       "wrote a program to have the computer automate calls to one of their local hang outs custard cone to keep a \n",
       "curmudgeonly owner distracted by having him answer the computer generated intermittent prank calls his early \n",
       "encounters with leds dated back to high school when he created a kinetic sculpture with robert indianas love \n",
       "sculpture visible in the air through peripheral vision i would make pendants by taking a little lr44 watch battery \n",
       "hooking it up to an led then gluing them on top of a translucent crystal and attaching a leather cord to form a \n",
       "glowing necklace aliens from planet pittsburg how two young roboticists from carnegie mellon pioneered digital \n",
       "lighting george geo mueller  \u001b[1;36m19712021\u001b[0m was an inventor and serial entrepreneur his work is widely known both for \n",
       "bringing solid state lighting into the mainstream through his companies color kinetics and ecosense lighting now \n",
       "korrus and for founding and cocreating robot heart a burning man camp and foundation he was also a founder and \n",
       "cocreator of the further future festival in nevada   while muellers early entrepreneurship had proven to be highly \n",
       "successful in its own right it is his work with led technology that had a meaningful impact in changing the way \n",
       "humanity interacts with light while revolutionary in its scope and reach it was his creation of and work with robot\n",
       "heart a collective centered around music that may have had the most resonance as it was as much about community as \n",
       "it was spectacle hundreds of thousands of revelers have partaken in the ongoing robot heart events at burning man \n",
       "and in new york since \u001b[1;36m2008\u001b[0m   born in \u001b[1;36m1970\u001b[0m in south windsor connecticut and raised in west bloomfield michigan a \n",
       "suburb of detroit mueller as a youngster was a natural athlete who played soccer and hockey and also excelled in \n",
       "art his passions being sculpture and photography  he also showed early engineering prowess while taking apart and \n",
       "reconfiguring such household items as lawn mowers and microwaves a prankster at heart he bugged his brothers room \n",
       "at \u001b[1;36m10\u001b[0m years old and upon acquiring a trs80 computer hacked phone company computers and wrote a program to have the \n",
       "computer automate calls to one of their local hang outs custard cone to keep a curmudgeonly owner distracted by \n",
       "having him answer the computer generated intermittent prank calls his early encounters with leds dated back to high\n",
       "school when he created a kinetic sculpture with robert indianas love sculpture visible in the air through \n",
       "peripheral vision i would make pendants by taking a little lr44 watch battery hooking it up to an led then gluing \n",
       "them on top of a translucent crystal and attaching a leather cord to form a glowing necklace aliens from planet \n",
       "pittsburg how two young roboticists from carnegie mellon pioneered digital lighting    education    george attended\n",
       "carnegie mellon university school of engineering and graduated in \u001b[1;36m1993\u001b[0m with a degree in computer and electrical \n",
       "engineering at cmu he met dr ihor lys also an engineering student they struck a fast friendship and their \n",
       "connection was a harbinger of what was to later become a worldchanging partnership    career     isi  upon \n",
       "graduating carnegie mellon university in \u001b[1;36m1994\u001b[0m george and his brother gary formed internet securities inc isi the \n",
       "company aggregated economic and corporate data in developing economies from offices in \u001b[1;36m29\u001b[0m countries across the \n",
       "americas africa asia the middle east and europe the company grew to \u001b[1;36m350\u001b[0m employees and was sold to euromoney plc  in\n",
       "\u001b[1;36m1999\u001b[0m for 50m  color kinetics    while involved in isi george and lys partnered to form color kinetics incorporated \n",
       "with gary as their first investor  george had roles in both companies but in \u001b[1;36m1998\u001b[0m left isi to focus his efforts and\n",
       "attention on color kinetics while gary continued to run isi   color kinetics capitalized on the nascent solid state\n",
       "lighting ssl technology that with the advent of blue leds and exponential improvements in output had become viable \n",
       "for uses beyond indicator lights mueller and lys were able to develop and bring to market many uses for led \n",
       "technology that had previously been unavailable both in commercial and residential settings they were the first to \n",
       "create white light with leds through additive color mixing blending the output of red green and blue rgb it was \n",
       "this development and their securing of the intellectual property around it that made leds primed for the \n",
       "replacement of the incandescent bulb the prevailing technology of the era and made color kinetics an extremely \n",
       "valuable company   the company developed numerous products for entertainment municipal and architectural uses and \n",
       "stewarded multiple generations of improvements in the technology starting from small color changing lights in \u001b[1;36m1997\u001b[0m \n",
       "to entertainment units for arenas and stadiums to the bay lights by leo villareal which at the time was the worlds \n",
       "largest led installation covering the entire western facing expanse of the bay bridge from san francisco to \n",
       "treasure island in addition to the flexibility and long lamp life that leds embodied millions and millions of tons \n",
       "of carbon emissions have been saved over the last two decades on the basis of muellers and lys work a fact that \n",
       "mueller was particularly proud of   color kinetics was a pioneer in taking leds from a novelty item to the \n",
       "mainstream of illumination  and the companys developments in solid state lighting changed the way humans interact \n",
       "with light the switch to leds also enabled a significant reduction in the required level of power consumption to \n",
       "create usable levels of illumination   the company grew to \u001b[1;36m350\u001b[0m employees and \u001b[1;36m100\u001b[0m million in sales but it was the \n",
       "extensive intellectual property that mueller and lys secured that made the company exponentially more valuable than\n",
       "a usual ebitda multiple    ecosense korrus  after the sale of color kinetics the groundwork was laid for muellers \n",
       "next venture in the lighting field ecosense now korrus ecosense deployed the now more mature white led technology \n",
       "with improved power supplies and a focus on modular design for linear and cove lighting applications their \n",
       "capability to rapidly configure and ship a vast array of light configurations further enabled ecosense to light \n",
       "beautiful major projects around the world later developments centered around understanding how light affects our \n",
       "natural circadian rhythms and creating healthy lighting the human body operates on a predictable cycle or time \n",
       "clock and environmental cues or zeitgebers the most significant of which is light resets that clock  historically \n",
       "the sun provided humans with a steady and predictable zeitgeber delivering the right light at the right time to \n",
       "continuously keep circadian clocks in sync this syncedup state known as circadian entrainment relies on \n",
       "photoreceptors in our eyes called intrinsically photosensitive retinal ganglion cells iprgcs iprgcs transform \n",
       "incoming light into signals which are then sent to multiple regions of the brain chief among these regions is the \n",
       "suprachiasmatic nucleus scn the bodys master clock and the heart of the circadian system to put it simply iprgcs \n",
       "utilize light to keep the circadian clock on time  korrus has developed technology to produce healthy light whether\n",
       "in displays screens or fixtures korrus uses spectral agility to separate the visual experience from the beneficial \n",
       "properties of light the technology korrus created enables consistent white light for vision while manipulating its \n",
       "underlying composition to support circadian health  korrus is pioneering a field called human light interaction   \n",
       "robot heart    in \u001b[1;36m2005\u001b[0m mueller first went to burning man with friend and architect walt smith and they camped with \n",
       "an established group called disorient mueller left disorient and founded robot heart in \u001b[1;36m2008\u001b[0m bringing together a \n",
       "collective of doers and dreamers artists and entrepreneurs it was the fusion of georges fierce desire to create a \n",
       "sense of community along with his passion for light and music    robot heart is most widely known for its iconic \n",
       "\u001b[1;36m1972\u001b[0m leyland double decker bus that was modified to have tens of thousands of watts of highquality audio and an \n",
       "expansive led heart sitting atop the bus would drive to the deep playa and throw parties far outside of black rock \n",
       "city these parties quickly became legendary and djs from around the world would come to burning man to play the bus\n",
       "free of charge  to any and all participants at burning man these soundcloud sets including one of muellers \n",
       "favorites and the last set he listened to above  beyond with elena brower are memorialized online and accessible to\n",
       "all    robot heart events have expanded beyond the reaches of the burning man community and have become widely \n",
       "known in many parts of the globe what mueller may be most known for amongst his friends is the community he built \n",
       "around robot heart and the indelible impact that this community has had on so many others robot heart participated \n",
       "in the 2021freeburn in part a memorial to its founder and continues to this day the robot heart foundation is \n",
       "preparing its formal launch in new york the weekend of april \u001b[1;36m29\u001b[0m through may 1st the spirit of mueller is arguably \n",
       "most alive through the community he created with his friends how burning mans famed robot heart camp is carrying on\n",
       "after the death of founder george mueller  further future  mueller along with other members of robot heart created \n",
       "further future a transformational festival held in southern nevada in \u001b[1;36m2015\u001b[0m and \u001b[1;36m2016\u001b[0m the further future model was a \n",
       "shared experience thats beyond our future and promised a carefully curated slate of business and cultural leaders \n",
       "chefs mixologists and masseuses further future located on the moapa band of paiute indians aspired to be a \n",
       "gathering of people with the common goal to spend time together celebrating the infinite possibilities of the \n",
       "future without necessarily being shackled to the dictates of the past or the cycles of presentday society the \n",
       "invitationonly festival for as many as \u001b[1;36m5000\u001b[0m people ran from april \u001b[1;36m29\u001b[0m to may \u001b[1;36m1\u001b[0m in \u001b[1;36m2015\u001b[0m and \u001b[1;36m2016\u001b[0m  personal life  \n",
       "georges life partner was ting ji and the couple had two children together astro ji mueller january \u001b[1;36m7\u001b[0m \u001b[1;36m2017\u001b[0m and xing \n",
       "ji mueller march \u001b[1;36m29\u001b[0m \u001b[1;36m2019\u001b[0m  references  \n",
       "httpswwwnytimescom20000131businesspatentstiredchanginglightbulbsonedayperhapsyourwallscouldglowdarkhtml   \n",
       "httpswwwarchitectmagazinecomtechnologylightingoneononewithgeorgemuellero   \n",
       "httpswwwforbescomforbes20021014154htmlsh4425257959fb   \n",
       "httpswwwbizjournalscombostonblogmasshightech200409youngceoofftoacolorfulstarthtml   \n",
       "httpswwwforbescomsitesryanmac20150409burningmanscoolkidsbreakofftomixtechandmusicinnewfestivalsh71c249ee19ee\n"
      ]
     },
     "metadata": {},
     "output_type": "display_data"
    },
    {
     "data": {
      "text/html": [
       "<pre style=\"white-space:pre;overflow-x:auto;line-height:normal;font-family:Menlo,'DejaVu Sans Mono',consolas,'Courier New',monospace\"><span style=\"color: #008080; text-decoration-color: #008080; font-weight: bold\">224505</span>. antnio silva footballer antnio joo pereira de albuquerque tavares da silva  born <span style=\"color: #008080; text-decoration-color: #008080; font-weight: bold\">30</span> october <span style=\"color: #008080; text-decoration-color: #008080; font-weight: bold\">2003</span> is a \n",
       "portuguese professional footballer who plays as a centreback for primeira liga club benfica and the portugal \n",
       "national team coming through benficas youth system silva impressed during his time with the reserve side winning \n",
       "the uefa youth league in <span style=\"color: #008080; text-decoration-color: #008080; font-weight: bold\">202122</span> being instrumental part of benficas first european trophy in <span style=\"color: #008080; text-decoration-color: #008080; font-weight: bold\">60</span> years he was \n",
       "subsequently promoted to the firstteam making his professional debut at age <span style=\"color: #008080; text-decoration-color: #008080; font-weight: bold\">17</span> in a breakthrough <span style=\"color: #008080; text-decoration-color: #008080; font-weight: bold\">202223</span> season \n",
       "silva is a former portugal youth international representing his country at various levels he was chosen in the \n",
       "senior squad for the <span style=\"color: #008080; text-decoration-color: #008080; font-weight: bold\">2022</span> fifa world cup making shortly after his senior international debut antnio joo pereira de \n",
       "albuquerque tavares da silva  born <span style=\"color: #008080; text-decoration-color: #008080; font-weight: bold\">30</span> october <span style=\"color: #008080; text-decoration-color: #008080; font-weight: bold\">2003</span> is a portuguese professional footballer who plays as a \n",
       "centreback for primeira liga club benfica and the portugal national team coming through benficas youth system silva\n",
       "impressed during his time with the reserve side winning the uefa youth league in <span style=\"color: #008080; text-decoration-color: #008080; font-weight: bold\">202122</span> being instrumental part of \n",
       "benficas first european trophy in <span style=\"color: #008080; text-decoration-color: #008080; font-weight: bold\">60</span> years he was subsequently promoted to the firstteam making his professional \n",
       "debut at age <span style=\"color: #008080; text-decoration-color: #008080; font-weight: bold\">17</span> in a breakthrough <span style=\"color: #008080; text-decoration-color: #008080; font-weight: bold\">202223</span> season silva is a former portugal youth international representing his \n",
       "country at various levels he was chosen in the senior squad for the <span style=\"color: #008080; text-decoration-color: #008080; font-weight: bold\">2022</span> fifa world cup making shortly after his \n",
       "senior international debut club career benfica early career born in viseu silva began his youth career with \n",
       "hometown club viseu united aged <span style=\"color: #008080; text-decoration-color: #008080; font-weight: bold\">11</span> and also had spells at penalva do castelo and repesenses he quickly stood out \n",
       "subsequently began having multiple training sessions with sporting cp while porto also showed an interest in \n",
       "signing him but he ended up joining their rivals and his boyhood club benficas youth academy in <span style=\"color: #008080; text-decoration-color: #008080; font-weight: bold\">2016</span> struggling \n",
       "with homesickness silva returned to his hometown to spend time with his family but with the help of the clubs \n",
       "psychologist he managed to overcome his mental health problems and went back to benfica a year later after \n",
       "adjusting to life in lisbon <span style=\"color: #008080; text-decoration-color: #008080; font-weight: bold\">202123</span> youth league win and firstteam breakthrough on <span style=\"color: #008080; text-decoration-color: #008080; font-weight: bold\">28</span> november <span style=\"color: #008080; text-decoration-color: #008080; font-weight: bold\">2021</span> silva signed his\n",
       "first professional contract with benfica b he made his professional debut with benfica b in a <span style=\"color: #008080; text-decoration-color: #008080; font-weight: bold\">21</span> ligapro loss to \n",
       "mafra on <span style=\"color: #008080; text-decoration-color: #008080; font-weight: bold\">2</span> april <span style=\"color: #008080; text-decoration-color: #008080; font-weight: bold\">2022</span> during that season silva played a major role in the <span style=\"color: #008080; text-decoration-color: #008080; font-weight: bold\">202122</span> uefa youth league where benfica \n",
       "u19 topped their group against dynamo kyiv barcelona and bayern munich in the final phases he scored the equaliser \n",
       "in a <span style=\"color: #008080; text-decoration-color: #008080; font-weight: bold\">32</span> win over midtjylland after his side were two goals behind and in the final he helped his side keep a clean \n",
       "sheet in a <span style=\"color: #008080; text-decoration-color: #008080; font-weight: bold\">60</span> win over red bull salzburg to help benfica win their first youth league title and their first title \n",
       "in european football since the <span style=\"color: #008080; text-decoration-color: #008080; font-weight: bold\">196162</span> european cup having appeared for the clubs b team it was expected that silva \n",
       "would spend the <span style=\"color: #008080; text-decoration-color: #008080; font-weight: bold\">202223</span> season continuing his development there but he began training with the first team after \n",
       "impressing newly arrived coach roger schmidt which led him to progress in the teams centrebacks ranks ahead of toms\n",
       "araujo and jan vertonghen who was away on international duty for belgium following the suspension of nicols \n",
       "otamendi he was given his first start by the new coach on <span style=\"color: #008080; text-decoration-color: #008080; font-weight: bold\">27</span> august being entrusted in the centre defence alongside\n",
       "morato and putting a strong performance in a <span style=\"color: #008080; text-decoration-color: #008080; font-weight: bold\">30</span> away win over boavista in the primeira liga he subsequently became \n",
       "a starter following an injury crisis at the club leading silva to fill the void alongside otamendi who was the only\n",
       "fit centreback available on <span style=\"color: #008080; text-decoration-color: #008080; font-weight: bold\">5</span> september he agreed to a contract extension to <span style=\"color: #008080; text-decoration-color: #008080; font-weight: bold\">2027</span> increasing his buyout clause to \n",
       "<span style=\"color: #008080; text-decoration-color: #008080; font-weight: bold\">100</span> million the following day silva made his uefa champions league debut partnering with nicols otamendi in the \n",
       "centre of defence keeping a clean sheet in a <span style=\"color: #008080; text-decoration-color: #008080; font-weight: bold\">20</span> home win over maccabi haifa  silva was named the leagues defender \n",
       "of the month for september after helping benfica maintaining their unbeaten run which included three clean sheets \n",
       "on <span style=\"color: #008080; text-decoration-color: #008080; font-weight: bold\">25</span> october silva scored his first goal for the club opening benficas <span style=\"color: #008080; text-decoration-color: #008080; font-weight: bold\">43</span> home victory over juventus in a <span style=\"color: #008080; text-decoration-color: #008080; font-weight: bold\">202223</span> \n",
       "uefa champions league group stage match his form throughout the clubs champions league group stage campaign saw him\n",
       "help his side qualify to the round of sixteen as group winners following a <span style=\"color: #008080; text-decoration-color: #008080; font-weight: bold\">61</span> away win over maccabi haifa on <span style=\"color: #008080; text-decoration-color: #008080; font-weight: bold\">2</span> \n",
       "november four days later silva scored his first league goals netting a brace in a <span style=\"color: #008080; text-decoration-color: #008080; font-weight: bold\">51</span> victory against estoril \n",
       "international career silva represented portugal at under16 under17 under18 and under19 for a total of <span style=\"color: #008080; text-decoration-color: #008080; font-weight: bold\">18</span> caps \n",
       "serving as captain for the latter on <span style=\"color: #008080; text-decoration-color: #008080; font-weight: bold\">24</span> september <span style=\"color: #008080; text-decoration-color: #008080; font-weight: bold\">2022</span> silva made his under21 debut replacing andr amaro in a <span style=\"color: #008080; text-decoration-color: #008080; font-weight: bold\">41</span> \n",
       "friendly defeat of georgia in october <span style=\"color: #008080; text-decoration-color: #008080; font-weight: bold\">2022</span> he was named in portugals preliminary 55man squad for the <span style=\"color: #008080; text-decoration-color: #008080; font-weight: bold\">2022</span> fifa \n",
       "world cup in qatar being included in the final 26man squad for the tournament he made his senior international \n",
       "debut in a friendly against nigeria on <span style=\"color: #008080; text-decoration-color: #008080; font-weight: bold\">17</span> november starting in portugals <span style=\"color: #008080; text-decoration-color: #008080; font-weight: bold\">40</span> win style of play a hardtackling and \n",
       "versatile defender silva is a physically strong rightfooted centreback who usually features on the righthand side \n",
       "of central defence but he is able to play on both sides due to being comfortable at passing the ball with both feet\n",
       "he is able to pass in different directions whether to a teammate on the same side as him or switching it to the \n",
       "opposing side or making vertical linebreaking passes in order to dictate play in any direction from the back he is \n",
       "known for being a accurate tackler who is very good at winning back possession and at anticipating and intercepting\n",
       "plays due to his acute tactical intelligence speed of thought marking ability positional sense and his ability to \n",
       "read the game in addition to his defensive skills he is comfortable on the ball possessing good technical ability \n",
       "as well as good distribution he is also known for his ability to cover ground and put pressure on or anticipate \n",
       "opponents in positions higher up on the pitch  he is also known for his leadership skills with former portuguese \n",
       "international abel xavier commenting that for his security maturity vision of the game assertiveness aggression and\n",
       "for his leadership and not for his age he can be the future captain of benfica silva idolises compratriot cristiano\n",
       "ronaldo and benfica legend luiso and also cited compratriot rben dias antonio rdiger and virgil van dijk as \n",
       "inspirations career statistics club  classwikitable styletextaligncenter  appearances and goals by club season and \n",
       "competition  rowspan2club rowspan2season colspan3league colspan2taa de portugal colspan2taa da liga colspan2europe \n",
       "colspan2total  divisionappsgoalsappsgoalsappsgoalsappsgoalsappsgoals  rowspan3benfica b <span style=\"color: #008080; text-decoration-color: #008080; font-weight: bold\">202122</span> rowspan2liga \n",
       "portugal <span style=\"color: #008080; text-decoration-color: #008080; font-weight: bold\">2</span> 20colspan2colspan2colspan220  <span style=\"color: #008080; text-decoration-color: #008080; font-weight: bold\">202223</span> 20colspan2colspan2colspan220  colspan2total \n",
       "40colspan2colspan2colspan240  benfica <span style=\"color: #008080; text-decoration-color: #008080; font-weight: bold\">202223</span> primeira liga <span style=\"color: #008080; text-decoration-color: #008080; font-weight: bold\">102200061183</span>  colspan3career total <span style=\"color: #008080; text-decoration-color: #008080; font-weight: bold\">142200061223</span>  \n",
       "international  classwikitable styletextaligncenter  appearances and goals by national team and year  national \n",
       "teamyearappsgoals  portugal <span style=\"color: #008080; text-decoration-color: #008080; font-weight: bold\">202210</span>  colspan2total10  honours benfica youth campeonato nacional de juniores \n",
       "202122raio x de jogador antnio silva benfica zerozeropt  uefa youth league 202122conhea os <span style=\"color: #008080; text-decoration-color: #008080; font-weight: bold\">24</span> heris da youth league\n",
       "individual primeira liga defender of the month september <span style=\"color: #008080; text-decoration-color: #008080; font-weight: bold\">2022</span> references category2003 births categoryliving people \n",
       "categorypeople from viseu categoryportuguese footballers categoryportugal youth international footballers \n",
       "categoryportugal international footballers categoryassociation football defenders categoryliga portugal <span style=\"color: #008080; text-decoration-color: #008080; font-weight: bold\">2</span> players \n",
       "categoryprimeira liga players categorysl benfica footballers categorysl benfica b players categorysportspeople from\n",
       "viseu district category2022 fifa world cup players\n",
       "</pre>\n"
      ],
      "text/plain": [
       "\u001b[1;36m224505\u001b[0m. antnio silva footballer antnio joo pereira de albuquerque tavares da silva  born \u001b[1;36m30\u001b[0m october \u001b[1;36m2003\u001b[0m is a \n",
       "portuguese professional footballer who plays as a centreback for primeira liga club benfica and the portugal \n",
       "national team coming through benficas youth system silva impressed during his time with the reserve side winning \n",
       "the uefa youth league in \u001b[1;36m202122\u001b[0m being instrumental part of benficas first european trophy in \u001b[1;36m60\u001b[0m years he was \n",
       "subsequently promoted to the firstteam making his professional debut at age \u001b[1;36m17\u001b[0m in a breakthrough \u001b[1;36m202223\u001b[0m season \n",
       "silva is a former portugal youth international representing his country at various levels he was chosen in the \n",
       "senior squad for the \u001b[1;36m2022\u001b[0m fifa world cup making shortly after his senior international debut antnio joo pereira de \n",
       "albuquerque tavares da silva  born \u001b[1;36m30\u001b[0m october \u001b[1;36m2003\u001b[0m is a portuguese professional footballer who plays as a \n",
       "centreback for primeira liga club benfica and the portugal national team coming through benficas youth system silva\n",
       "impressed during his time with the reserve side winning the uefa youth league in \u001b[1;36m202122\u001b[0m being instrumental part of \n",
       "benficas first european trophy in \u001b[1;36m60\u001b[0m years he was subsequently promoted to the firstteam making his professional \n",
       "debut at age \u001b[1;36m17\u001b[0m in a breakthrough \u001b[1;36m202223\u001b[0m season silva is a former portugal youth international representing his \n",
       "country at various levels he was chosen in the senior squad for the \u001b[1;36m2022\u001b[0m fifa world cup making shortly after his \n",
       "senior international debut club career benfica early career born in viseu silva began his youth career with \n",
       "hometown club viseu united aged \u001b[1;36m11\u001b[0m and also had spells at penalva do castelo and repesenses he quickly stood out \n",
       "subsequently began having multiple training sessions with sporting cp while porto also showed an interest in \n",
       "signing him but he ended up joining their rivals and his boyhood club benficas youth academy in \u001b[1;36m2016\u001b[0m struggling \n",
       "with homesickness silva returned to his hometown to spend time with his family but with the help of the clubs \n",
       "psychologist he managed to overcome his mental health problems and went back to benfica a year later after \n",
       "adjusting to life in lisbon \u001b[1;36m202123\u001b[0m youth league win and firstteam breakthrough on \u001b[1;36m28\u001b[0m november \u001b[1;36m2021\u001b[0m silva signed his\n",
       "first professional contract with benfica b he made his professional debut with benfica b in a \u001b[1;36m21\u001b[0m ligapro loss to \n",
       "mafra on \u001b[1;36m2\u001b[0m april \u001b[1;36m2022\u001b[0m during that season silva played a major role in the \u001b[1;36m202122\u001b[0m uefa youth league where benfica \n",
       "u19 topped their group against dynamo kyiv barcelona and bayern munich in the final phases he scored the equaliser \n",
       "in a \u001b[1;36m32\u001b[0m win over midtjylland after his side were two goals behind and in the final he helped his side keep a clean \n",
       "sheet in a \u001b[1;36m60\u001b[0m win over red bull salzburg to help benfica win their first youth league title and their first title \n",
       "in european football since the \u001b[1;36m196162\u001b[0m european cup having appeared for the clubs b team it was expected that silva \n",
       "would spend the \u001b[1;36m202223\u001b[0m season continuing his development there but he began training with the first team after \n",
       "impressing newly arrived coach roger schmidt which led him to progress in the teams centrebacks ranks ahead of toms\n",
       "araujo and jan vertonghen who was away on international duty for belgium following the suspension of nicols \n",
       "otamendi he was given his first start by the new coach on \u001b[1;36m27\u001b[0m august being entrusted in the centre defence alongside\n",
       "morato and putting a strong performance in a \u001b[1;36m30\u001b[0m away win over boavista in the primeira liga he subsequently became \n",
       "a starter following an injury crisis at the club leading silva to fill the void alongside otamendi who was the only\n",
       "fit centreback available on \u001b[1;36m5\u001b[0m september he agreed to a contract extension to \u001b[1;36m2027\u001b[0m increasing his buyout clause to \n",
       "\u001b[1;36m100\u001b[0m million the following day silva made his uefa champions league debut partnering with nicols otamendi in the \n",
       "centre of defence keeping a clean sheet in a \u001b[1;36m20\u001b[0m home win over maccabi haifa  silva was named the leagues defender \n",
       "of the month for september after helping benfica maintaining their unbeaten run which included three clean sheets \n",
       "on \u001b[1;36m25\u001b[0m october silva scored his first goal for the club opening benficas \u001b[1;36m43\u001b[0m home victory over juventus in a \u001b[1;36m202223\u001b[0m \n",
       "uefa champions league group stage match his form throughout the clubs champions league group stage campaign saw him\n",
       "help his side qualify to the round of sixteen as group winners following a \u001b[1;36m61\u001b[0m away win over maccabi haifa on \u001b[1;36m2\u001b[0m \n",
       "november four days later silva scored his first league goals netting a brace in a \u001b[1;36m51\u001b[0m victory against estoril \n",
       "international career silva represented portugal at under16 under17 under18 and under19 for a total of \u001b[1;36m18\u001b[0m caps \n",
       "serving as captain for the latter on \u001b[1;36m24\u001b[0m september \u001b[1;36m2022\u001b[0m silva made his under21 debut replacing andr amaro in a \u001b[1;36m41\u001b[0m \n",
       "friendly defeat of georgia in october \u001b[1;36m2022\u001b[0m he was named in portugals preliminary 55man squad for the \u001b[1;36m2022\u001b[0m fifa \n",
       "world cup in qatar being included in the final 26man squad for the tournament he made his senior international \n",
       "debut in a friendly against nigeria on \u001b[1;36m17\u001b[0m november starting in portugals \u001b[1;36m40\u001b[0m win style of play a hardtackling and \n",
       "versatile defender silva is a physically strong rightfooted centreback who usually features on the righthand side \n",
       "of central defence but he is able to play on both sides due to being comfortable at passing the ball with both feet\n",
       "he is able to pass in different directions whether to a teammate on the same side as him or switching it to the \n",
       "opposing side or making vertical linebreaking passes in order to dictate play in any direction from the back he is \n",
       "known for being a accurate tackler who is very good at winning back possession and at anticipating and intercepting\n",
       "plays due to his acute tactical intelligence speed of thought marking ability positional sense and his ability to \n",
       "read the game in addition to his defensive skills he is comfortable on the ball possessing good technical ability \n",
       "as well as good distribution he is also known for his ability to cover ground and put pressure on or anticipate \n",
       "opponents in positions higher up on the pitch  he is also known for his leadership skills with former portuguese \n",
       "international abel xavier commenting that for his security maturity vision of the game assertiveness aggression and\n",
       "for his leadership and not for his age he can be the future captain of benfica silva idolises compratriot cristiano\n",
       "ronaldo and benfica legend luiso and also cited compratriot rben dias antonio rdiger and virgil van dijk as \n",
       "inspirations career statistics club  classwikitable styletextaligncenter  appearances and goals by club season and \n",
       "competition  rowspan2club rowspan2season colspan3league colspan2taa de portugal colspan2taa da liga colspan2europe \n",
       "colspan2total  divisionappsgoalsappsgoalsappsgoalsappsgoalsappsgoals  rowspan3benfica b \u001b[1;36m202122\u001b[0m rowspan2liga \n",
       "portugal \u001b[1;36m2\u001b[0m 20colspan2colspan2colspan220  \u001b[1;36m202223\u001b[0m 20colspan2colspan2colspan220  colspan2total \n",
       "40colspan2colspan2colspan240  benfica \u001b[1;36m202223\u001b[0m primeira liga \u001b[1;36m102200061183\u001b[0m  colspan3career total \u001b[1;36m142200061223\u001b[0m  \n",
       "international  classwikitable styletextaligncenter  appearances and goals by national team and year  national \n",
       "teamyearappsgoals  portugal \u001b[1;36m202210\u001b[0m  colspan2total10  honours benfica youth campeonato nacional de juniores \n",
       "202122raio x de jogador antnio silva benfica zerozeropt  uefa youth league 202122conhea os \u001b[1;36m24\u001b[0m heris da youth league\n",
       "individual primeira liga defender of the month september \u001b[1;36m2022\u001b[0m references category2003 births categoryliving people \n",
       "categorypeople from viseu categoryportuguese footballers categoryportugal youth international footballers \n",
       "categoryportugal international footballers categoryassociation football defenders categoryliga portugal \u001b[1;36m2\u001b[0m players \n",
       "categoryprimeira liga players categorysl benfica footballers categorysl benfica b players categorysportspeople from\n",
       "viseu district category2022 fifa world cup players\n"
      ]
     },
     "metadata": {},
     "output_type": "display_data"
    }
   ],
   "source": [
    "# print 1st 5 rows\n",
    "first_chunk = rows[0][3]\n",
    "\n",
    "formatted_chunk = first_chunk.split('\\n')\n",
    "\n",
    "# remove empty lines\n",
    "formatted_chunk = [line for line in formatted_chunk if line.strip()]\n",
    "\n",
    "# remove lines with only whitespace or with less than 10 characters\n",
    "formatted_chunk = [line for line in formatted_chunk if len(line.strip()) > 10]\n",
    "\n",
    "# print first 5 lines\n",
    "for i in range(5):\n",
    "    print(formatted_chunk[i])\n"
   ]
  }
 ],
 "metadata": {
  "kernelspec": {
   "display_name": "Python 3 (ipykernel)",
   "language": "python",
   "name": "python3"
  },
  "language_info": {
   "codemirror_mode": {
    "name": "ipython",
    "version": 3
   },
   "file_extension": ".py",
   "mimetype": "text/x-python",
   "name": "python",
   "nbconvert_exporter": "python",
   "pygments_lexer": "ipython3",
   "version": "3.11.9"
  }
 },
 "nbformat": 4,
 "nbformat_minor": 4
}
