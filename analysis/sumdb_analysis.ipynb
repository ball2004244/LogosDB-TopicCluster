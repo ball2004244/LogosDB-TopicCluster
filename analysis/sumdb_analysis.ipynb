{
 "cells": [
  {
   "cell_type": "code",
   "execution_count": 1,
   "metadata": {},
   "outputs": [
    {
     "name": "stdout",
     "output_type": "stream",
     "text": [
      "Requirement already satisfied: psycopg2 in /home/tam/miniconda3/envs/logosdb/lib/python3.11/site-packages (2.9.9)\n",
      "Requirement already satisfied: rich in /home/tam/miniconda3/envs/logosdb/lib/python3.11/site-packages (13.7.1)\n",
      "Requirement already satisfied: markdown-it-py>=2.2.0 in /home/tam/miniconda3/envs/logosdb/lib/python3.11/site-packages (from rich) (3.0.0)\n",
      "Requirement already satisfied: pygments<3.0.0,>=2.13.0 in /home/tam/miniconda3/envs/logosdb/lib/python3.11/site-packages (from rich) (2.18.0)\n",
      "Requirement already satisfied: mdurl~=0.1 in /home/tam/miniconda3/envs/logosdb/lib/python3.11/site-packages (from markdown-it-py>=2.2.0->rich) (0.1.2)\n",
      "Note: you may need to restart the kernel to use updated packages.\n"
     ]
    }
   ],
   "source": [
    "%pip install psycopg2 rich\n",
    "\n",
    "from datetime import datetime\n",
    "from collections import defaultdict\n",
    "from psycopg2 import sql\n",
    "from rich import print\n",
    "import psycopg2\n",
    "import sys"
   ]
  },
  {
   "cell_type": "markdown",
   "metadata": {},
   "source": [
    "# HELPER FUNCTIONS"
   ]
  },
  {
   "cell_type": "code",
   "execution_count": 2,
   "metadata": {},
   "outputs": [],
   "source": [
    "def log(message: str) -> None:\n",
    "    \"\"\"\n",
    "    Logs a message to the console.\n",
    "    \"\"\"\n",
    "    print(message)\n",
    "    with open(\"sumdb_log.txt\", \"a\") as log_file:\n",
    "        log_file.write(message + \"\\n\")"
   ]
  },
  {
   "cell_type": "code",
   "execution_count": 3,
   "metadata": {},
   "outputs": [],
   "source": [
    "def get_column_names(conn, table):\n",
    "    \"\"\"\n",
    "    Fetches and logs the column names of a specified table.\n",
    "    \"\"\"\n",
    "    query = sql.SQL(\"\"\"\n",
    "        SELECT column_name \n",
    "        FROM information_schema.columns \n",
    "        WHERE table_name = %s\n",
    "        ORDER BY ordinal_position;\n",
    "    \"\"\")\n",
    "    cur = conn.cursor()\n",
    "    cur.execute(query, (table,))\n",
    "    columns = cur.fetchall()\n",
    "    cur.close()\n",
    "    return [col[0] for col in columns]"
   ]
  },
  {
   "cell_type": "markdown",
   "metadata": {},
   "source": [
    "# OVERVIEW OF SUMDB"
   ]
  },
  {
   "cell_type": "code",
   "execution_count": 4,
   "metadata": {},
   "outputs": [],
   "source": [
    "dirs = '../inputs'\n",
    "filename = \"input.csv\"\n",
    "topicFileName = \"topics.txt\"\n",
    "\n",
    "inputFilePath = f\"{dirs}/{filename}\"\n",
    "topicFilePath = f\"{dirs}/{topicFileName}\""
   ]
  },
  {
   "cell_type": "code",
   "execution_count": 5,
   "metadata": {},
   "outputs": [
    {
     "data": {
      "text/html": [
       "<pre style=\"white-space:pre;overflow-x:auto;line-height:normal;font-family:Menlo,'DejaVu Sans Mono',consolas,'Courier New',monospace\">Number of true topics: <span style=\"color: #008080; text-decoration-color: #008080; font-weight: bold\">1</span>\n",
       "</pre>\n"
      ],
      "text/plain": [
       "Number of true topics: \u001b[1;36m1\u001b[0m\n"
      ]
     },
     "metadata": {},
     "output_type": "display_data"
    },
    {
     "data": {
      "text/html": [
       "<pre style=\"white-space:pre;overflow-x:auto;line-height:normal;font-family:Menlo,'DejaVu Sans Mono',consolas,'Courier New',monospace\"><span style=\"color: #00ff00; text-decoration-color: #00ff00; font-style: italic\">True</span> topics: <span style=\"font-weight: bold\">[</span><span style=\"color: #008000; text-decoration-color: #008000\">'Biology'</span><span style=\"font-weight: bold\">]</span>\n",
       "</pre>\n"
      ],
      "text/plain": [
       "\u001b[3;92mTrue\u001b[0m topics: \u001b[1m[\u001b[0m\u001b[32m'Biology'\u001b[0m\u001b[1m]\u001b[0m\n"
      ]
     },
     "metadata": {},
     "output_type": "display_data"
    }
   ],
   "source": [
    "# find len\n",
    "with open(topicFilePath, 'r') as file:\n",
    "    true_topics = file.readlines()\n",
    "    true_topics = [topic.strip() for topic in true_topics]\n",
    "    \n",
    "print(f\"Number of true topics: {len(true_topics)}\")\n",
    "print(f\"True topics: {true_topics}\")"
   ]
  },
  {
   "cell_type": "code",
   "execution_count": 6,
   "metadata": {},
   "outputs": [],
   "source": [
    "db_topic = \"localhost\"  # using localhost for now\n",
    "port = \"5432\"\n",
    "dbname = \"db\"  # internal database name\n",
    "username = \"user\"\n",
    "password = \"password\"\n",
    "\n",
    "table = \"test\"  # Name of table to query"
   ]
  },
  {
   "cell_type": "code",
   "execution_count": 7,
   "metadata": {},
   "outputs": [
    {
     "data": {
      "text/html": [
       "<pre style=\"white-space:pre;overflow-x:auto;line-height:normal;font-family:Menlo,'DejaVu Sans Mono',consolas,'Courier New',monospace\"><span style=\"font-weight: bold\">[</span><span style=\"color: #008080; text-decoration-color: #008080; font-weight: bold\">2024</span>-<span style=\"color: #008080; text-decoration-color: #008080; font-weight: bold\">08</span>-<span style=\"color: #008080; text-decoration-color: #008080; font-weight: bold\">23</span> <span style=\"color: #00ff00; text-decoration-color: #00ff00; font-weight: bold\">19:02:42</span><span style=\"font-weight: bold\">]</span> Connected to database <span style=\"color: #008000; text-decoration-color: #008000\">'db'</span> on localhost:<span style=\"color: #008080; text-decoration-color: #008080; font-weight: bold\">5432</span> as <span style=\"color: #008000; text-decoration-color: #008000\">'user'</span>\n",
       "</pre>\n"
      ],
      "text/plain": [
       "\u001b[1m[\u001b[0m\u001b[1;36m2024\u001b[0m-\u001b[1;36m08\u001b[0m-\u001b[1;36m23\u001b[0m \u001b[1;92m19:02:42\u001b[0m\u001b[1m]\u001b[0m Connected to database \u001b[32m'db'\u001b[0m on localhost:\u001b[1;36m5432\u001b[0m as \u001b[32m'user'\u001b[0m\n"
      ]
     },
     "metadata": {},
     "output_type": "display_data"
    },
    {
     "data": {
      "text/html": [
       "<pre style=\"white-space:pre;overflow-x:auto;line-height:normal;font-family:Menlo,'DejaVu Sans Mono',consolas,'Courier New',monospace\">Column names in <span style=\"color: #008000; text-decoration-color: #008000\">'test'</span> table: id, chunkstart, chunkend, topic, summary, updatedat\n",
       "</pre>\n"
      ],
      "text/plain": [
       "Column names in \u001b[32m'test'\u001b[0m table: id, chunkstart, chunkend, topic, summary, updatedat\n"
      ]
     },
     "metadata": {},
     "output_type": "display_data"
    }
   ],
   "source": [
    "# Connect to the database\n",
    "conn = psycopg2.connect(\n",
    "    dbname=dbname,\n",
    "    user=username,\n",
    "    password=password,\n",
    "    host=db_topic,\n",
    "    port=port\n",
    ")\n",
    "\n",
    "# Format datetime for readability\n",
    "formatted_datetime = datetime.now().strftime(\"%Y-%m-%d %H:%M:%S\")\n",
    "log(f\"[{formatted_datetime}] Connected to database '{dbname}' on {db_topic}:{port} as '{username}'\")\n",
    "\n",
    "# Get and log column names\n",
    "column_names = get_column_names(conn, table)\n",
    "log(\"Column names in '{}' table: {}\".format(table, \", \".join(column_names)))\n"
   ]
  },
  {
   "cell_type": "code",
   "execution_count": 8,
   "metadata": {},
   "outputs": [
    {
     "data": {
      "text/html": [
       "<pre style=\"white-space:pre;overflow-x:auto;line-height:normal;font-family:Menlo,'DejaVu Sans Mono',consolas,'Courier New',monospace\"><span style=\"font-weight: bold\">[</span>\n",
       "    <span style=\"font-weight: bold\">(</span><span style=\"color: #008080; text-decoration-color: #008080; font-weight: bold\">1</span>, <span style=\"color: #008080; text-decoration-color: #008080; font-weight: bold\">500</span>, <span style=\"color: #008000; text-decoration-color: #008000\">'Biology'</span><span style=\"font-weight: bold\">)</span>,\n",
       "    <span style=\"font-weight: bold\">(</span><span style=\"color: #008080; text-decoration-color: #008080; font-weight: bold\">501</span>, <span style=\"color: #008080; text-decoration-color: #008080; font-weight: bold\">1000</span>, <span style=\"color: #008000; text-decoration-color: #008000\">'Biology'</span><span style=\"font-weight: bold\">)</span>,\n",
       "    <span style=\"font-weight: bold\">(</span><span style=\"color: #008080; text-decoration-color: #008080; font-weight: bold\">1001</span>, <span style=\"color: #008080; text-decoration-color: #008080; font-weight: bold\">1500</span>, <span style=\"color: #008000; text-decoration-color: #008000\">'Biology'</span><span style=\"font-weight: bold\">)</span>,\n",
       "    <span style=\"font-weight: bold\">(</span><span style=\"color: #008080; text-decoration-color: #008080; font-weight: bold\">1501</span>, <span style=\"color: #008080; text-decoration-color: #008080; font-weight: bold\">2000</span>, <span style=\"color: #008000; text-decoration-color: #008000\">'Biology'</span><span style=\"font-weight: bold\">)</span>,\n",
       "    <span style=\"font-weight: bold\">(</span><span style=\"color: #008080; text-decoration-color: #008080; font-weight: bold\">2001</span>, <span style=\"color: #008080; text-decoration-color: #008080; font-weight: bold\">2500</span>, <span style=\"color: #008000; text-decoration-color: #008000\">'Biology'</span><span style=\"font-weight: bold\">)</span>\n",
       "<span style=\"font-weight: bold\">]</span>\n",
       "</pre>\n"
      ],
      "text/plain": [
       "\u001b[1m[\u001b[0m\n",
       "    \u001b[1m(\u001b[0m\u001b[1;36m1\u001b[0m, \u001b[1;36m500\u001b[0m, \u001b[32m'Biology'\u001b[0m\u001b[1m)\u001b[0m,\n",
       "    \u001b[1m(\u001b[0m\u001b[1;36m501\u001b[0m, \u001b[1;36m1000\u001b[0m, \u001b[32m'Biology'\u001b[0m\u001b[1m)\u001b[0m,\n",
       "    \u001b[1m(\u001b[0m\u001b[1;36m1001\u001b[0m, \u001b[1;36m1500\u001b[0m, \u001b[32m'Biology'\u001b[0m\u001b[1m)\u001b[0m,\n",
       "    \u001b[1m(\u001b[0m\u001b[1;36m1501\u001b[0m, \u001b[1;36m2000\u001b[0m, \u001b[32m'Biology'\u001b[0m\u001b[1m)\u001b[0m,\n",
       "    \u001b[1m(\u001b[0m\u001b[1;36m2001\u001b[0m, \u001b[1;36m2500\u001b[0m, \u001b[32m'Biology'\u001b[0m\u001b[1m)\u001b[0m\n",
       "\u001b[1m]\u001b[0m\n"
      ]
     },
     "metadata": {},
     "output_type": "display_data"
    }
   ],
   "source": [
    "# Prepare and execute the query\n",
    "query = sql.SQL(\"SELECT chunkstart, chunkend, topic FROM {}\").format(sql.Identifier(table))\n",
    "with conn.cursor() as cur:\n",
    "    cur.execute(query)\n",
    "    rows = cur.fetchall()\n",
    "\n",
    "# conn.close()\n",
    "\n",
    "print(rows[:5])"
   ]
  },
  {
   "cell_type": "code",
   "execution_count": 9,
   "metadata": {},
   "outputs": [],
   "source": [
    "topic_chunk_count = defaultdict(int)\n",
    "row_topic_pairs = defaultdict(list)\n",
    "row_topic_count = defaultdict(int)\n",
    "\n",
    "for row in rows:\n",
    "    chunk_start, chunk_end, topic = row\n",
    "\n",
    "    topic_chunk_count[topic] += 1\n",
    "    row_topic_pairs[topic].append((chunk_start, chunk_end))\n",
    "    row_topic_count[topic] += abs(chunk_end - chunk_start) + 1\n"
   ]
  },
  {
   "cell_type": "code",
   "execution_count": 10,
   "metadata": {},
   "outputs": [
    {
     "data": {
      "text/html": [
       "<pre style=\"white-space:pre;overflow-x:auto;line-height:normal;font-family:Menlo,'DejaVu Sans Mono',consolas,'Courier New',monospace\">\n",
       "TOPIC NODE ANALYSIS\n",
       "</pre>\n"
      ],
      "text/plain": [
       "\n",
       "TOPIC NODE ANALYSIS\n"
      ]
     },
     "metadata": {},
     "output_type": "display_data"
    },
    {
     "data": {
      "text/html": [
       "<pre style=\"white-space:pre;overflow-x:auto;line-height:normal;font-family:Menlo,'DejaVu Sans Mono',consolas,'Courier New',monospace\">Biology: <span style=\"color: #008080; text-decoration-color: #008080; font-weight: bold\">4741</span> chunks\n",
       "</pre>\n"
      ],
      "text/plain": [
       "Biology: \u001b[1;36m4741\u001b[0m chunks\n"
      ]
     },
     "metadata": {},
     "output_type": "display_data"
    },
    {
     "data": {
      "text/html": [
       "<pre style=\"white-space:pre;overflow-x:auto;line-height:normal;font-family:Menlo,'DejaVu Sans Mono',consolas,'Courier New',monospace\">Chunk Count: <span style=\"color: #008080; text-decoration-color: #008080; font-weight: bold\">4741</span> saved chunks\n",
       "</pre>\n"
      ],
      "text/plain": [
       "Chunk Count: \u001b[1;36m4741\u001b[0m saved chunks\n"
      ]
     },
     "metadata": {},
     "output_type": "display_data"
    },
    {
     "data": {
      "text/html": [
       "<pre style=\"white-space:pre;overflow-x:auto;line-height:normal;font-family:Menlo,'DejaVu Sans Mono',consolas,'Courier New',monospace\">Actual topic node: <span style=\"color: #008080; text-decoration-color: #008080; font-weight: bold\">1</span> nodes\n",
       "</pre>\n"
      ],
      "text/plain": [
       "Actual topic node: \u001b[1;36m1\u001b[0m nodes\n"
      ]
     },
     "metadata": {},
     "output_type": "display_data"
    },
    {
     "data": {
      "text/html": [
       "<pre style=\"white-space:pre;overflow-x:auto;line-height:normal;font-family:Menlo,'DejaVu Sans Mono',consolas,'Courier New',monospace\">Expected topic node: <span style=\"color: #008080; text-decoration-color: #008080; font-weight: bold\">1</span> nodes\n",
       "</pre>\n"
      ],
      "text/plain": [
       "Expected topic node: \u001b[1;36m1\u001b[0m nodes\n"
      ]
     },
     "metadata": {},
     "output_type": "display_data"
    },
    {
     "data": {
      "text/html": [
       "<pre style=\"white-space:pre;overflow-x:auto;line-height:normal;font-family:Menlo,'DejaVu Sans Mono',consolas,'Courier New',monospace\">Missing <span style=\"color: #008080; text-decoration-color: #008080; font-weight: bold\">0</span> nodes: <span style=\"color: #800080; text-decoration-color: #800080; font-weight: bold\">set</span><span style=\"font-weight: bold\">()</span>\n",
       "</pre>\n"
      ],
      "text/plain": [
       "Missing \u001b[1;36m0\u001b[0m nodes: \u001b[1;35mset\u001b[0m\u001b[1m(\u001b[0m\u001b[1m)\u001b[0m\n"
      ]
     },
     "metadata": {},
     "output_type": "display_data"
    }
   ],
   "source": [
    "# log the count of chunks for each topic\n",
    "log('\\nTOPIC NODE ANALYSIS')\n",
    "for topic, count in topic_chunk_count.items():\n",
    "    log(f\"{topic}: {count} chunks\")\n",
    "\n",
    "log('Chunk Count: ' + str(len(rows)) + ' saved chunks')\n",
    "log(f'Actual topic node: {len(topic_chunk_count)} nodes')\n",
    "log(f'Expected topic node: {len(true_topics)} nodes')\n",
    "log(f'Missing {len(true_topics) - len(topic_chunk_count)} nodes: {set(true_topics) - set(topic_chunk_count.keys())}')\n"
   ]
  },
  {
   "cell_type": "code",
   "execution_count": 11,
   "metadata": {},
   "outputs": [
    {
     "data": {
      "text/html": [
       "<pre style=\"white-space:pre;overflow-x:auto;line-height:normal;font-family:Menlo,'DejaVu Sans Mono',consolas,'Courier New',monospace\">\n",
       "DATA COUNT ANALYSIS\n",
       "</pre>\n"
      ],
      "text/plain": [
       "\n",
       "DATA COUNT ANALYSIS\n"
      ]
     },
     "metadata": {},
     "output_type": "display_data"
    },
    {
     "data": {
      "text/html": [
       "<pre style=\"white-space:pre;overflow-x:auto;line-height:normal;font-family:Menlo,'DejaVu Sans Mono',consolas,'Courier New',monospace\">Biology: <span style=\"color: #008080; text-decoration-color: #008080; font-weight: bold\">2</span>,<span style=\"color: #008080; text-decoration-color: #008080; font-weight: bold\">370</span>,<span style=\"color: #008080; text-decoration-color: #008080; font-weight: bold\">426</span>\n",
       "</pre>\n"
      ],
      "text/plain": [
       "Biology: \u001b[1;36m2\u001b[0m,\u001b[1;36m370\u001b[0m,\u001b[1;36m426\u001b[0m\n"
      ]
     },
     "metadata": {},
     "output_type": "display_data"
    },
    {
     "data": {
      "text/html": [
       "<pre style=\"white-space:pre;overflow-x:auto;line-height:normal;font-family:Menlo,'DejaVu Sans Mono',consolas,'Courier New',monospace\">\n",
       "Total rows: <span style=\"color: #008080; text-decoration-color: #008080; font-weight: bold\">2</span>,<span style=\"color: #008080; text-decoration-color: #008080; font-weight: bold\">370</span>,<span style=\"color: #008080; text-decoration-color: #008080; font-weight: bold\">426</span>\n",
       "</pre>\n"
      ],
      "text/plain": [
       "\n",
       "Total rows: \u001b[1;36m2\u001b[0m,\u001b[1;36m370\u001b[0m,\u001b[1;36m426\u001b[0m\n"
      ]
     },
     "metadata": {},
     "output_type": "display_data"
    }
   ],
   "source": [
    "\n",
    "log('\\nDATA COUNT ANALYSIS')\n",
    "row_topic_pairs = dict(sorted(row_topic_pairs.items(), key=lambda x: x[1], reverse=True))\n",
    "\n",
    "for topic, rows in row_topic_pairs.items():\n",
    "    log(f\"{topic}: {row_topic_count[topic]:,}\")\n",
    "    # log(f\"Pairs: {rows}\")\n",
    "\n",
    "total_rows = sum(row_topic_count.values())\n",
    "log(f'\\nTotal rows: {total_rows:,}')\n"
   ]
  },
  {
   "cell_type": "code",
   "execution_count": 12,
   "metadata": {},
   "outputs": [
    {
     "data": {
      "text/html": [
       "<pre style=\"white-space:pre;overflow-x:auto;line-height:normal;font-family:Menlo,'DejaVu Sans Mono',consolas,'Courier New',monospace\">\n",
       "CONTINUITY CHECK\n",
       "</pre>\n"
      ],
      "text/plain": [
       "\n",
       "CONTINUITY CHECK\n"
      ]
     },
     "metadata": {},
     "output_type": "display_data"
    },
    {
     "data": {
      "text/html": [
       "<pre style=\"white-space:pre;overflow-x:auto;line-height:normal;font-family:Menlo,'DejaVu Sans Mono',consolas,'Courier New',monospace\">No gap found!\n",
       "</pre>\n"
      ],
      "text/plain": [
       "No gap found!\n"
      ]
     },
     "metadata": {},
     "output_type": "display_data"
    }
   ],
   "source": [
    "log('\\nCONTINUITY CHECK')\n",
    "no_gap = True\n",
    "for topic, chunks in row_topic_pairs.items():\n",
    "    # Sort the chunks by chunkstart to ensure correct order\n",
    "    chunks.sort(key=lambda x: x[0])\n",
    "    for i in range(len(chunks) - 1):\n",
    "        current_chunk_end = chunks[i][1]\n",
    "        next_chunk_start = chunks[i + 1][0]\n",
    "        # Check if there is a gap\n",
    "        if next_chunk_start != current_chunk_end + 1:\n",
    "            log(f\"Gap found in topic '{topic}' within chunks [{current_chunk_end}, {next_chunk_start}]\")\n",
    "            no_gap = False\n",
    "\n",
    "if no_gap:\n",
    "    log('No gap found!')\n"
   ]
  },
  {
   "cell_type": "code",
   "execution_count": 13,
   "metadata": {},
   "outputs": [],
   "source": [
    "conn.close()"
   ]
  },
  {
   "cell_type": "markdown",
   "metadata": {},
   "source": [
    "# Custom Analysis"
   ]
  },
  {
   "cell_type": "code",
   "execution_count": 14,
   "metadata": {},
   "outputs": [
    {
     "data": {
      "text/html": [
       "<pre style=\"white-space:pre;overflow-x:auto;line-height:normal;font-family:Menlo,'DejaVu Sans Mono',consolas,'Courier New',monospace\">Chunk range: <span style=\"font-weight: bold\">(</span><span style=\"color: #008080; text-decoration-color: #008080; font-weight: bold\">2370001</span>, <span style=\"color: #008080; text-decoration-color: #008080; font-weight: bold\">2370426</span><span style=\"font-weight: bold\">)</span>\n",
       "</pre>\n"
      ],
      "text/plain": [
       "Chunk range: \u001b[1m(\u001b[0m\u001b[1;36m2370001\u001b[0m, \u001b[1;36m2370426\u001b[0m\u001b[1m)\u001b[0m\n"
      ]
     },
     "metadata": {},
     "output_type": "display_data"
    },
    {
     "data": {
      "text/html": [
       "<pre style=\"white-space:pre;overflow-x:auto;line-height:normal;font-family:Menlo,'DejaVu Sans Mono',consolas,'Courier New',monospace\">Topic: Biology\n",
       "</pre>\n"
      ],
      "text/plain": [
       "Topic: Biology\n"
      ]
     },
     "metadata": {},
     "output_type": "display_data"
    },
    {
     "data": {
      "text/html": [
       "<pre style=\"white-space:pre;overflow-x:auto;line-height:normal;font-family:Menlo,'DejaVu Sans Mono',consolas,'Courier New',monospace\">Chunk range: <span style=\"font-weight: bold\">(</span><span style=\"color: #008080; text-decoration-color: #008080; font-weight: bold\">2369501</span>, <span style=\"color: #008080; text-decoration-color: #008080; font-weight: bold\">2370000</span><span style=\"font-weight: bold\">)</span>\n",
       "</pre>\n"
      ],
      "text/plain": [
       "Chunk range: \u001b[1m(\u001b[0m\u001b[1;36m2369501\u001b[0m, \u001b[1;36m2370000\u001b[0m\u001b[1m)\u001b[0m\n"
      ]
     },
     "metadata": {},
     "output_type": "display_data"
    },
    {
     "data": {
      "text/html": [
       "<pre style=\"white-space:pre;overflow-x:auto;line-height:normal;font-family:Menlo,'DejaVu Sans Mono',consolas,'Courier New',monospace\">Topic: Biology\n",
       "</pre>\n"
      ],
      "text/plain": [
       "Topic: Biology\n"
      ]
     },
     "metadata": {},
     "output_type": "display_data"
    },
    {
     "data": {
      "text/html": [
       "<pre style=\"white-space:pre;overflow-x:auto;line-height:normal;font-family:Menlo,'DejaVu Sans Mono',consolas,'Courier New',monospace\">Chunk range: <span style=\"font-weight: bold\">(</span><span style=\"color: #008080; text-decoration-color: #008080; font-weight: bold\">2369001</span>, <span style=\"color: #008080; text-decoration-color: #008080; font-weight: bold\">2369500</span><span style=\"font-weight: bold\">)</span>\n",
       "</pre>\n"
      ],
      "text/plain": [
       "Chunk range: \u001b[1m(\u001b[0m\u001b[1;36m2369001\u001b[0m, \u001b[1;36m2369500\u001b[0m\u001b[1m)\u001b[0m\n"
      ]
     },
     "metadata": {},
     "output_type": "display_data"
    },
    {
     "data": {
      "text/html": [
       "<pre style=\"white-space:pre;overflow-x:auto;line-height:normal;font-family:Menlo,'DejaVu Sans Mono',consolas,'Courier New',monospace\">Topic: Biology\n",
       "</pre>\n"
      ],
      "text/plain": [
       "Topic: Biology\n"
      ]
     },
     "metadata": {},
     "output_type": "display_data"
    }
   ],
   "source": [
    "query = sql.SQL(\"\"\"\n",
    "    SELECT chunkstart, chunkend, topic, summary \n",
    "    FROM {} \n",
    "    ORDER BY updatedat DESC\n",
    "    LIMIT 3;\n",
    "\"\"\").format(sql.Identifier(table))\n",
    "\n",
    "conn = psycopg2.connect(\n",
    "    dbname=dbname,\n",
    "    user=username,\n",
    "    password=password,\n",
    "    host=db_topic,\n",
    "    port=port\n",
    ")\n",
    "\n",
    "with conn.cursor() as cur:\n",
    "    cur.execute(query)\n",
    "    rows = cur.fetchall()\n",
    "\n",
    "conn.close()\n",
    "\n",
    "for row in rows:\n",
    "    log(f\"Chunk range: ({row[0]}, {row[1]})\")\n",
    "    log(f'Topic: {row[2]}')\n",
    "    # log(f\"Chunk content: {row[3][-1000:]}\")"
   ]
  },
  {
   "cell_type": "code",
   "execution_count": null,
   "metadata": {},
   "outputs": [],
   "source": []
  }
 ],
 "metadata": {
  "kernelspec": {
   "display_name": "logosdb",
   "language": "python",
   "name": "python3"
  },
  "language_info": {
   "codemirror_mode": {
    "name": "ipython",
    "version": 3
   },
   "file_extension": ".py",
   "mimetype": "text/x-python",
   "name": "python",
   "nbconvert_exporter": "python",
   "pygments_lexer": "ipython3",
   "version": "3.11.9"
  }
 },
 "nbformat": 4,
 "nbformat_minor": 2
}
